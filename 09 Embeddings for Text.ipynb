{
 "cells": [
  {
   "cell_type": "markdown",
   "metadata": {
    "id": "MKsRDH5ZUdfasdv"
   },
   "source": [
    "# Assignment 9"
   ]
  },
  {
   "cell_type": "markdown",
   "metadata": {},
   "source": [
    "### <span style=\"color:chocolate\"> Submission requirements </span>\n",
    "\n",
    "Your work will not be graded if your notebook doesn't include output. In other words, <span style=\"color:red\"> make sure to rerun your notebook before submitting to Gradescope </span> (Note: if you are using Google Colab: go to Edit > Notebook Settings  and uncheck Omit code cell output when saving this notebook, otherwise the output is not printed).\n",
    "\n",
    "Additional points may be deducted if these requirements are not met:\n",
    "\n",
    "    \n",
    "* Comment your code;\n",
    "* Each graph should have a title, labels for each axis, and (if needed) a legend. Each graph should be understandable on its own;\n",
    "* Try and minimize the use of the global namespace (meaning, keep things inside functions).\n",
    "---"
   ]
  },
  {
   "cell_type": "markdown",
   "metadata": {},
   "source": [
    "### Import libraries"
   ]
  },
  {
   "cell_type": "code",
   "execution_count": 1,
   "metadata": {
    "id": "7X58hOMTUH-w"
   },
   "outputs": [
    {
     "name": "stderr",
     "output_type": "stream",
     "text": [
      "2024-07-14 16:27:20.074854: I tensorflow/core/util/port.cc:113] oneDNN custom operations are on. You may see slightly different numerical results due to floating-point round-off errors from different computation orders. To turn them off, set the environment variable `TF_ENABLE_ONEDNN_OPTS=0`.\n",
      "2024-07-14 16:27:20.095690: I external/local_tsl/tsl/cuda/cudart_stub.cc:31] Could not find cuda drivers on your machine, GPU will not be used.\n",
      "2024-07-14 16:27:20.212555: E external/local_xla/xla/stream_executor/cuda/cuda_dnn.cc:9261] Unable to register cuDNN factory: Attempting to register factory for plugin cuDNN when one has already been registered\n",
      "2024-07-14 16:27:20.212614: E external/local_xla/xla/stream_executor/cuda/cuda_fft.cc:607] Unable to register cuFFT factory: Attempting to register factory for plugin cuFFT when one has already been registered\n",
      "2024-07-14 16:27:20.231199: E external/local_xla/xla/stream_executor/cuda/cuda_blas.cc:1515] Unable to register cuBLAS factory: Attempting to register factory for plugin cuBLAS when one has already been registered\n",
      "2024-07-14 16:27:20.272268: I external/local_tsl/tsl/cuda/cudart_stub.cc:31] Could not find cuda drivers on your machine, GPU will not be used.\n",
      "2024-07-14 16:27:20.273475: I tensorflow/core/platform/cpu_feature_guard.cc:182] This TensorFlow binary is optimized to use available CPU instructions in performance-critical operations.\n",
      "To enable the following instructions: AVX2 AVX_VNNI FMA, in other operations, rebuild TensorFlow with the appropriate compiler flags.\n",
      "2024-07-14 16:27:21.253341: W tensorflow/compiler/tf2tensorrt/utils/py_utils.cc:38] TF-TRT Warning: Could not find TensorRT\n"
     ]
    }
   ],
   "source": [
    "import numpy as np\n",
    "from matplotlib import pyplot as plt\n",
    "import pandas as pd\n",
    "import seaborn as sns  # for nicer plots\n",
    "sns.set(style=\"darkgrid\")  # default style\n",
    "import plotly.graph_objs as plotly  # for interactive plots\n",
    "\n",
    "import tensorflow as tf\n",
    "from tensorflow.keras.datasets import imdb"
   ]
  },
  {
   "cell_type": "markdown",
   "metadata": {},
   "source": [
    "---\n",
    "### Step 1: Data ingestion"
   ]
  },
  {
   "cell_type": "markdown",
   "metadata": {
    "id": "eqppUDpmdptk"
   },
   "source": [
    "In this lab, you'll train a <span style=\"color:chocolate\">sentiment</span> classifier for movie reviews. \n",
    "\n",
    "* The input is the text of a movie review;\n",
    "* The output is the probability the input is a positive review.\n",
    "* The target labels are binary, 0 for negative and 1 for positive.\n",
    "\n",
    "The data includes 50,000 movie reviews on IMDB. The data comes pre-segmented into train and test splits. The [data loading function](https://www.tensorflow.org/api_docs/python/tf/keras/datasets/imdb/load_data) below also splits each input text into tokens (words), and maps the words to integer values. Each input is a sequence of integers corresponding to the words."
   ]
  },
  {
   "cell_type": "code",
   "execution_count": 2,
   "metadata": {
    "colab": {
     "base_uri": "https://localhost:8080/"
    },
    "executionInfo": {
     "elapsed": 5870,
     "status": "ok",
     "timestamp": 1646684495083,
     "user": {
      "displayName": "Daniel Gillick",
      "photoUrl": "https://lh3.googleusercontent.com/a-/AOh14Gg9DrSMlwYnG9EolecuJqe8n9m7fpcje4_UbYrhQ10=s64",
      "userId": "01872965353911650729"
     },
     "user_tz": 600
    },
    "id": "s6M-asvhQWV_",
    "outputId": "1aca520b-e1b6-4006-ac44-78ff33ac6da9"
   },
   "outputs": [
    {
     "name": "stdout",
     "output_type": "stream",
     "text": [
      "X_train.shape: (25000,)\n",
      "Y_train.shape: (25000,)\n",
      "X_test.shape: (25000,)\n",
      "Y_test.shape: (25000,)\n"
     ]
    }
   ],
   "source": [
    "# read data\n",
    "(X_train, Y_train), (X_test, Y_test) = imdb.load_data(path=\"imdb.npz\",\n",
    "                                                      num_words=None,\n",
    "                                                      skip_top=0,\n",
    "                                                      maxlen=None,\n",
    "                                                      seed=113,\n",
    "                                                      start_char=1,\n",
    "                                                      oov_char=2,\n",
    "                                                      index_from=3)\n",
    "\n",
    "print(\"X_train.shape:\", X_train.shape)\n",
    "print(\"Y_train.shape:\", Y_train.shape)\n",
    "print(\"X_test.shape:\", X_test.shape)\n",
    "print(\"Y_test.shape:\", Y_test.shape)"
   ]
  },
  {
   "cell_type": "markdown",
   "metadata": {},
   "source": [
    "---\n",
    "### Step 2: Data preprocessing"
   ]
  },
  {
   "cell_type": "markdown",
   "metadata": {},
   "source": [
    "Let's have a look at the first training example:"
   ]
  },
  {
   "cell_type": "code",
   "execution_count": 3,
   "metadata": {},
   "outputs": [
    {
     "name": "stdout",
     "output_type": "stream",
     "text": [
      "First training example data: [1, 14, 22, 16, 43, 530, 973, 1622, 1385, 65, 458, 4468, 66, 3941, 4, 173, 36, 256, 5, 25, 100, 43, 838, 112, 50, 670, 22665, 9, 35, 480, 284, 5, 150, 4, 172, 112, 167, 21631, 336, 385, 39, 4, 172, 4536, 1111, 17, 546, 38, 13, 447, 4, 192, 50, 16, 6, 147, 2025, 19, 14, 22, 4, 1920, 4613, 469, 4, 22, 71, 87, 12, 16, 43, 530, 38, 76, 15, 13, 1247, 4, 22, 17, 515, 17, 12, 16, 626, 18, 19193, 5, 62, 386, 12, 8, 316, 8, 106, 5, 4, 2223, 5244, 16, 480, 66, 3785, 33, 4, 130, 12, 16, 38, 619, 5, 25, 124, 51, 36, 135, 48, 25, 1415, 33, 6, 22, 12, 215, 28, 77, 52, 5, 14, 407, 16, 82, 10311, 8, 4, 107, 117, 5952, 15, 256, 4, 31050, 7, 3766, 5, 723, 36, 71, 43, 530, 476, 26, 400, 317, 46, 7, 4, 12118, 1029, 13, 104, 88, 4, 381, 15, 297, 98, 32, 2071, 56, 26, 141, 6, 194, 7486, 18, 4, 226, 22, 21, 134, 476, 26, 480, 5, 144, 30, 5535, 18, 51, 36, 28, 224, 92, 25, 104, 4, 226, 65, 16, 38, 1334, 88, 12, 16, 283, 5, 16, 4472, 113, 103, 32, 15, 16, 5345, 19, 178, 32]\n",
      "First training example label: 1\n"
     ]
    }
   ],
   "source": [
    "print('First training example data:', X_train[0])\n",
    "print('First training example label:', Y_train[0])"
   ]
  },
  {
   "cell_type": "markdown",
   "metadata": {
    "id": "MyIWiy-4gQK-"
   },
   "source": [
    "As you can see, the first training example is a positive review. However, that sequence of integer IDs is hard to read. \n",
    "\n",
    "The data loader provides a dictionary mapping words to IDs. Let's create a reverse index.\n"
   ]
  },
  {
   "cell_type": "code",
   "execution_count": 4,
   "metadata": {
    "colab": {
     "base_uri": "https://localhost:8080/"
    },
    "executionInfo": {
     "elapsed": 801,
     "status": "ok",
     "timestamp": 1646684508506,
     "user": {
      "displayName": "Daniel Gillick",
      "photoUrl": "https://lh3.googleusercontent.com/a-/AOh14Gg9DrSMlwYnG9EolecuJqe8n9m7fpcje4_UbYrhQ10=s64",
      "userId": "01872965353911650729"
     },
     "user_tz": 600
    },
    "id": "HQ-qATkhUj7c",
    "outputId": "eea86a69-fe6a-4cdb-ac8c-9307a5118e47"
   },
   "outputs": [
    {
     "name": "stdout",
     "output_type": "stream",
     "text": [
      "Largest ID: 88587\n"
     ]
    }
   ],
   "source": [
    "# The imdb dataset comes with an index mapping words to integers.\n",
    "# In the index the words are ordered by frequency they occur.\n",
    "index = imdb.get_word_index()\n",
    "\n",
    "# Because we used index_from=3 (above), setting aside ids below 3 for special\n",
    "# symbols, we need to add 3 to the index values.\n",
    "index = dict([(key, value+3) for (key, value) in index.items()])\n",
    "\n",
    "# Create a reverse index so we can lookup tokens assigned to each id.\n",
    "reverse_index = dict([(value, key) for (key, value) in index.items()])\n",
    "reverse_index[1] = '<START>'  # start of input\n",
    "reverse_index[2] = '#'        # out-of-vocabulary (OOV)\n",
    "reverse_index[3] = '<UNUSED>'\n",
    "\n",
    "max_id = max(reverse_index.keys())\n",
    "print('Largest ID:', max_id)"
   ]
  },
  {
   "cell_type": "markdown",
   "metadata": {
    "id": "h76-b07ehWNQ"
   },
   "source": [
    "Note that our index (and reverse index) have <span style=\"color:chocolate\">88,587</span> tokens. That's quite <span style=\"color:chocolate\">a large vocabulary</span>! \n",
    "\n",
    "Next, let's write a decoding function for our data."
   ]
  },
  {
   "cell_type": "code",
   "execution_count": 5,
   "metadata": {
    "colab": {
     "base_uri": "https://localhost:8080/"
    },
    "executionInfo": {
     "elapsed": 358,
     "status": "ok",
     "timestamp": 1646684531998,
     "user": {
      "displayName": "Daniel Gillick",
      "photoUrl": "https://lh3.googleusercontent.com/a-/AOh14Gg9DrSMlwYnG9EolecuJqe8n9m7fpcje4_UbYrhQ10=s64",
      "userId": "01872965353911650729"
     },
     "user_tz": 600
    },
    "id": "UjobmouHS5Dm",
    "outputId": "29975a48-7fda-4600-bd0c-693c35dd8a54"
   },
   "outputs": [
    {
     "name": "stdout",
     "output_type": "stream",
     "text": [
      "[1, 14, 22, 16, 43, 530, 973, 1622, 1385, 65, 458, 4468, 66, 3941, 4, 173, 36, 256, 5, 25, 100, 43, 838, 112, 50, 670, 22665, 9, 35, 480, 284, 5, 150, 4, 172, 112, 167, 21631, 336, 385, 39, 4, 172, 4536, 1111, 17, 546, 38, 13, 447, 4, 192, 50, 16, 6, 147, 2025, 19, 14, 22, 4, 1920, 4613, 469, 4, 22, 71, 87, 12, 16, 43, 530, 38, 76, 15, 13, 1247, 4, 22, 17, 515, 17, 12, 16, 626, 18, 19193, 5, 62, 386, 12, 8, 316, 8, 106, 5, 4, 2223, 5244, 16, 480, 66, 3785, 33, 4, 130, 12, 16, 38, 619, 5, 25, 124, 51, 36, 135, 48, 25, 1415, 33, 6, 22, 12, 215, 28, 77, 52, 5, 14, 407, 16, 82, 10311, 8, 4, 107, 117, 5952, 15, 256, 4, 31050, 7, 3766, 5, 723, 36, 71, 43, 530, 476, 26, 400, 317, 46, 7, 4, 12118, 1029, 13, 104, 88, 4, 381, 15, 297, 98, 32, 2071, 56, 26, 141, 6, 194, 7486, 18, 4, 226, 22, 21, 134, 476, 26, 480, 5, 144, 30, 5535, 18, 51, 36, 28, 224, 92, 25, 104, 4, 226, 65, 16, 38, 1334, 88, 12, 16, 283, 5, 16, 4472, 113, 103, 32, 15, 16, 5345, 19, 178, 32]\n",
      "<START> this film was just brilliant casting location scenery story direction everyone's really suited the part they played and you could just imagine being there robert redford's is an amazing actor and now the same being director norman's father came from the same scottish island as myself so i loved the fact there was a real connection with this film the witty remarks throughout the film were great it was just brilliant so much that i bought the film as soon as it was released for retail and would recommend it to everyone to watch and the fly fishing was amazing really cried at the end it was so sad and you know what they say if you cry at a film it must have been good and this definitely was also congratulations to the two little boy's that played the part's of norman and paul they were just brilliant children are often left out of the praising list i think because the stars that play them all grown up are such a big profile for the whole film but these children are amazing and should be praised for what they have done don't you think the whole story was so lovely because it was true and was someone's life after all that was shared with us all\n"
     ]
    }
   ],
   "source": [
    "def decode(token_ids):\n",
    "  \"\"\"Return a string with the decoded text given a list of token ids.\"\"\"\n",
    "  # Try looking up each id in the index, but return '#' (for OOV) if not found.\n",
    "  tokens = [reverse_index.get(i, \"#\") for i in token_ids]\n",
    "\n",
    "  # Connect the string tokens with a space.\n",
    "  return ' '.join(tokens)\n",
    "\n",
    "# Show the ids corresponding tokens in the first example.\n",
    "print(X_train[0])\n",
    "print(decode(X_train[0]))"
   ]
  },
  {
   "cell_type": "markdown",
   "metadata": {},
   "source": [
    "---\n",
    "### Step 3: Exploratory Data Analysis (EDA)"
   ]
  },
  {
   "cell_type": "markdown",
   "metadata": {},
   "source": [
    "### <span style=\"color:chocolate\">Exercise 1:</span> Text lengths (10 points)"
   ]
  },
  {
   "cell_type": "markdown",
   "metadata": {
    "id": "g47w5CackGBA"
   },
   "source": [
    "Using the training reviews data, answer the following questions:\n",
    "\n",
    "1. What are the minimum, maximum, and mean lengths of positive and negative reviews?\n",
    "2. Create a histogram to visualize the distribution of positive and negative review lengths. Make sure to provide a descriptive title and axis labels."
   ]
  },
  {
   "cell_type": "code",
   "execution_count": 6,
   "metadata": {},
   "outputs": [
    {
     "name": "stdout",
     "output_type": "stream",
     "text": [
      "positive review\n",
      "\tminimum lengths:13\n",
      "\tmaximum lengths:2494\n",
      "\tmean lengths:241.56296\n",
      "negative review\n",
      "\tminimum lengths:11\n",
      "\tmaximum lengths:1571\n",
      "\tmean lengths:235.86432\n"
     ]
    }
   ],
   "source": [
    "positive_reviews = [X_train[i] for i, token_id in enumerate(X_train) if Y_train[i]==1]\n",
    "negative_reviews = [X_train[i] for i, token_id in enumerate(X_train) if Y_train[i]==0]\n",
    "\n",
    "positive_reviews_len = [len(review) for review in positive_reviews]\n",
    "negative_reviews_len = [len(review) for review in negative_reviews]\n",
    "\n",
    "\n",
    "print(f\"positive review\")\n",
    "print(f\"\\tminimum lengths:{np.min(positive_reviews_len)}\")\n",
    "print(f\"\\tmaximum lengths:{np.max(positive_reviews_len)}\")\n",
    "print(f\"\\tmean lengths:{np.mean(positive_reviews_len)}\")\n",
    "\n",
    "print(f\"negative review\")\n",
    "print(f\"\\tminimum lengths:{np.min(negative_reviews_len)}\")\n",
    "print(f\"\\tmaximum lengths:{np.max(negative_reviews_len)}\")\n",
    "print(f\"\\tmean lengths:{np.mean(negative_reviews_len)}\")"
   ]
  },
  {
   "cell_type": "code",
   "execution_count": 7,
   "metadata": {},
   "outputs": [
    {
     "data": {
      "image/png": "[encoded data removed]",
      "text/plain": [
       "<Figure size 800x400 with 2 Axes>"
      ]
     },
     "metadata": {},
     "output_type": "display_data"
    }
   ],
   "source": [
    "fig, axes = plt.subplots(1, 2, figsize=(8, 4))\n",
    "\n",
    "axes[0].hist(positive_reviews_len)\n",
    "axes[0].set_title(\"Positive Reviews\")\n",
    "axes[0].set_xlabel(\"text length\")\n",
    "axes[0].set_ylabel(\"example count\")\n",
    "axes[0].set_xticks(range(0, 2500, 500))\n",
    "\n",
    "axes[1].set_title(\"Negative Reviews\")\n",
    "axes[1].hist(negative_reviews_len)\n",
    "axes[1].set_xlabel(\"text length\")\n",
    "axes[1].set_ylabel(\"example count\")\n",
    "axes[1].set_xticks(range(0, 2000, 500))\n",
    "\n",
    "plt.subplots_adjust(wspace=0.4)\n",
    "plt.xticks()\n",
    "plt.show()"
   ]
  },
  {
   "cell_type": "markdown",
   "metadata": {},
   "source": [
    "### <span style=\"color:chocolate\">Exercise 2:</span> Token counts (10 points)"
   ]
  },
  {
   "cell_type": "markdown",
   "metadata": {
    "id": "c3ZE9gpkml3a"
   },
   "source": [
    "Using the training data, create a table listing the counts of positive and negative examples that contain each token provided below."
   ]
  },
  {
   "cell_type": "code",
   "execution_count": 8,
   "metadata": {
    "id": "8YOYo6d01aWI"
   },
   "outputs": [
    {
     "name": "stdout",
     "output_type": "stream",
     "text": [
      "         positive  negative\n",
      "good         4767      4849\n",
      "bad          1491      4396\n",
      "amazing       868       240\n",
      "boring        301      1205\n",
      "laugh         525       685\n",
      "cry           231       114\n"
     ]
    }
   ],
   "source": [
    "tokens = ['good', 'bad', 'amazing', 'boring', 'laugh', 'cry']\n",
    "\n",
    "positives = []\n",
    "negatives = []\n",
    "\n",
    "for token in tokens:\n",
    "    token_id = index[token]\n",
    "\n",
    "    positives.append(np.sum([1 for review in positive_reviews if token_id in review]))\n",
    "    negatives.append(np.sum([1 for review in negative_reviews if token_id in review]))\n",
    "\n",
    "\n",
    "token_df = pd.DataFrame(\n",
    "    {\n",
    "        \"positive\": positives, \"negative\": negatives\n",
    "    }, index=tokens)\n",
    "\n",
    "print(token_df)\n"
   ]
  },
  {
   "cell_type": "markdown",
   "metadata": {},
   "source": [
    "---\n",
    "### Step 4: Data preprocessing (cont'd)"
   ]
  },
  {
   "cell_type": "markdown",
   "metadata": {},
   "source": [
    "As is clear from the review length histogram, the current representation of the review text is a variable-length array. Since fixed-length arrays are easier to work with in Tensorflow, you will add special padding tokens at the end of each review until they are all the same length. You will also truncate all training inputs to a specified length."
   ]
  },
  {
   "cell_type": "markdown",
   "metadata": {},
   "source": [
    "### <span style=\"color:chocolate\">Exercise 3:</span> Reduced length and padding (10 points)"
   ]
  },
  {
   "cell_type": "markdown",
   "metadata": {},
   "source": [
    "Fill in the <span style=\"color:green\">NotImplemented</span> parts of the <span style=\"color:chocolate\">truncate_pad_data()</span> function below by following these instructions:\n",
    "\n",
    "1. Restrict the maximum number of tokens by truncating all reviews to a length of 300;\n",
    "2. Append special padding tokens (value = 0) to the end of each review until all reviews are of the same length."
   ]
  },
  {
   "cell_type": "code",
   "execution_count": 9,
   "metadata": {},
   "outputs": [
    {
     "name": "stdout",
     "output_type": "stream",
     "text": [
      "Length of X_train[0]: 218\n",
      "Length of X_train_padded[0]: 300\n",
      "[    1    14    22    16    43   530   973  1622  1385    65   458  4468\n",
      "    66  3941     4   173    36   256     5    25   100    43   838   112\n",
      "    50   670 22665     9    35   480   284     5   150     4   172   112\n",
      "   167 21631   336   385    39     4   172  4536  1111    17   546    38\n",
      "    13   447     4   192    50    16     6   147  2025    19    14    22\n",
      "     4  1920  4613   469     4    22    71    87    12    16    43   530\n",
      "    38    76    15    13  1247     4    22    17   515    17    12    16\n",
      "   626    18 19193     5    62   386    12     8   316     8   106     5\n",
      "     4  2223  5244    16   480    66  3785    33     4   130    12    16\n",
      "    38   619     5    25   124    51    36   135    48    25  1415    33\n",
      "     6    22    12   215    28    77    52     5    14   407    16    82\n",
      " 10311     8     4   107   117  5952    15   256     4 31050     7  3766\n",
      "     5   723    36    71    43   530   476    26   400   317    46     7\n",
      "     4 12118  1029    13   104    88     4   381    15   297    98    32\n",
      "  2071    56    26   141     6   194  7486    18     4   226    22    21\n",
      "   134   476    26   480     5   144    30  5535    18    51    36    28\n",
      "   224    92    25   104     4   226    65    16    38  1334    88    12\n",
      "    16   283     5    16  4472   113   103    32    15    16  5345    19\n",
      "   178    32     0     0     0     0     0     0     0     0     0     0\n",
      "     0     0     0     0     0     0     0     0     0     0     0     0\n",
      "     0     0     0     0     0     0     0     0     0     0     0     0\n",
      "     0     0     0     0     0     0     0     0     0     0     0     0\n",
      "     0     0     0     0     0     0     0     0     0     0     0     0\n",
      "     0     0     0     0     0     0     0     0     0     0     0     0\n",
      "     0     0     0     0     0     0     0     0     0     0     0     0]\n"
     ]
    }
   ],
   "source": [
    "def truncate_pad_data(sequences, max_length):\n",
    "    # Keras has a convenient utility for padding a sequence:\n",
    "    # tf.keras.preprocessing.sequence.pad_sequences()\n",
    "    # Also make sure you get a numpy array rather than an array of lists.\n",
    "    padded_data = tf.keras.preprocessing.sequence.pad_sequences(sequences, maxlen=max_length, padding=\"post\", truncating=\"post\", value=0)\n",
    "    return padded_data\n",
    "\n",
    "# 1+ 2: Truncate and pad the training data\n",
    "X_train_padded = truncate_pad_data(X_train, max_length=300)\n",
    "\n",
    "# Check the padded output.\n",
    "print('Length of X_train[0]:', len(X_train[0]))\n",
    "print('Length of X_train_padded[0]:', len(X_train_padded[0]))\n",
    "print(X_train_padded[0])"
   ]
  },
  {
   "cell_type": "markdown",
   "metadata": {},
   "source": [
    "Next, you want to be able to limit the vocabulary size. Since the <span style=\"color:chocolate\">truncate_pad_data()</span> function produces fixed-length sequences in a numpy matrix, one can use clever numpy indexing to efficiently replace all token ids larger than some value with the designated out-of-vocabulary (OOV) id."
   ]
  },
  {
   "cell_type": "markdown",
   "metadata": {},
   "source": [
    "### <span style=\"color:chocolate\">Exercise 4:</span> Reduced vocabulary (10 points)"
   ]
  },
  {
   "cell_type": "markdown",
   "metadata": {},
   "source": [
    "Fill in the <span style=\"color:green\">NotImplemented</span> parts of the <span style=\"color:chocolate\">limit_vocab()</span> function below by following these instructions:\n",
    "\n",
    "1. Keep just token ids less than 1000, replacing all others with OOV."
   ]
  },
  {
   "cell_type": "code",
   "execution_count": 10,
   "metadata": {},
   "outputs": [
    {
     "name": "stdout",
     "output_type": "stream",
     "text": [
      "[  1  14  22  16  43 530 973   2   2  65 458   2  66   2   4 173  36 256\n",
      "   5  25 100  43 838 112  50 670   2   9  35 480 284   5 150   4 172 112\n",
      " 167   2 336 385  39   4 172   2   2  17 546  38  13 447   4 192  50  16\n",
      "   6 147   2  19  14  22   4   2   2 469   4  22  71  87  12  16  43 530\n",
      "  38  76  15  13   2   4  22  17 515  17  12  16 626  18   2   5  62 386\n",
      "  12   8 316   8 106   5   4   2   2  16 480  66   2  33   4 130  12  16\n",
      "  38 619   5  25 124  51  36 135  48  25   2  33   6  22  12 215  28  77\n",
      "  52   5  14 407  16  82   2   8   4 107 117   2  15 256   4   2   7   2\n",
      "   5 723  36  71  43 530 476  26 400 317  46   7   4   2   2  13 104  88\n",
      "   4 381  15 297  98  32   2  56  26 141   6 194   2  18   4 226  22  21\n",
      " 134 476  26 480   5 144  30   2  18  51  36  28 224  92  25 104   4 226\n",
      "  65  16  38   2  88  12  16 283   5  16   2 113 103  32  15  16   2  19\n",
      " 178  32   0   0   0   0   0   0   0   0   0   0   0   0   0   0   0   0\n",
      "   0   0   0   0   0   0   0   0   0   0   0   0   0   0   0   0   0   0\n",
      "   0   0   0   0   0   0   0   0   0   0   0   0   0   0   0   0   0   0\n",
      "   0   0   0   0   0   0   0   0   0   0   0   0   0   0   0   0   0   0\n",
      "   0   0   0   0   0   0   0   0   0   0   0   0]\n",
      "<START> this film was just brilliant casting # # story direction # really # the part they played and you could just imagine being there robert # is an amazing actor and now the same being director # father came from the same # # as myself so i loved the fact there was a real # with this film the # # throughout the film were great it was just brilliant so much that i # the film as soon as it was released for # and would recommend it to everyone to watch and the # # was amazing really # at the end it was so sad and you know what they say if you # at a film it must have been good and this definitely was also # to the two little # that played the # of # and paul they were just brilliant children are often left out of the # # i think because the stars that play them all # up are such a big # for the whole film but these children are amazing and should be # for what they have done don't you think the whole story was so # because it was true and was # life after all that was # with us all # # # # # # # # # # # # # # # # # # # # # # # # # # # # # # # # # # # # # # # # # # # # # # # # # # # # # # # # # # # # # # # # # # # # # # # # # # # # # # # # # #\n"
     ]
    }
   ],
   "source": [
    "def limit_vocab(sequences, max_token_id, oov_id=2):\n",
    "  \"\"\"Replace token ids greater than or equal to max_token_id with the oov_id.\"\"\"\n",
    "  # YOUR CODE HERE\n",
    "  reduced_sequences = np.where(sequences < max_token_id, sequences, oov_id)\n",
    "  return reduced_sequences\n",
    "\n",
    "# Reduce vocabulary to 1000 tokens.\n",
    "X_train_reduced = limit_vocab(X_train_padded, max_token_id=1000)\n",
    "print(X_train_reduced[0])\n",
    "\n",
    "# Decode to see what this looks like in tokens. Note the '#' for OOVs.\n",
    "print(decode(X_train_reduced[0]))"
   ]
  },
  {
   "cell_type": "markdown",
   "metadata": {},
   "source": [
    "### <span style=\"color:chocolate\">Exercise 5:</span> One-hot encoding (0 points)"
   ]
  },
  {
   "cell_type": "markdown",
   "metadata": {},
   "source": [
    "The current feature representations are **sparse**. That is, one only keeps track of the token ids that are present in the input. A **one-hot** encoding replaces a value like 22 (corresponding to 'film') with an array with a single 1 at position 22 and zeros everywhere else. This will be very memory-inefficient, but we'll do it anyway for clarity.\n",
    "\n",
    "To avoid any memory limitations, let's dramatically reduce both the number of token positions (review length) and the number of token ids (vocabulary). \n",
    "\n",
    "The code below clips each review after 20 tokens and keeps only the first 1000 tokens."
   ]
  },
  {
   "cell_type": "code",
   "execution_count": 11,
   "metadata": {},
   "outputs": [
    {
     "name": "stdout",
     "output_type": "stream",
     "text": [
      "X_train_one_hot shape: (25000, 20, 1000)\n"
     ]
    }
   ],
   "source": [
    "# Keras has a util to create one-hot encodings.\n",
    "X_train_padded = truncate_pad_data(X_train, max_length=20)\n",
    "X_train_reduced = limit_vocab(X_train_padded, max_token_id=1000)\n",
    "X_train_one_hot = tf.keras.utils.to_categorical(X_train_reduced)\n",
    "print('X_train_one_hot shape:', X_train_one_hot.shape)"
   ]
  },
  {
   "cell_type": "markdown",
   "metadata": {},
   "source": [
    "Note the shape of the one-hot encoded features. For each of the 25000 training examples, you have a 20 x 1000 matrix. That is, for each of 20 token positions, you have a vector of 1000 elements containing a single 1 and 999 zeros.\n",
    "\n",
    "You can think of these 1000-dimensional one-hot arrays as **embeddings**. Each token in the input has a 1000-dimensional representation. But because of the one-hot setup, the distance between each pair of tokens is the same ([1,0,0,...], [0,1,0,...], etc.). By contrast, learned embeddings result in meaningful distances between pairs of tokens. You'll get to that soon."
   ]
  },
  {
   "cell_type": "markdown",
   "metadata": {},
   "source": [
    "---\n",
    "### Step 5: Modeling"
   ]
  },
  {
   "cell_type": "markdown",
   "metadata": {},
   "source": [
    "### <span style=\"color:chocolate\">Baseline model:</span> Logistic regression with one-hot encodings"
   ]
  },
  {
   "cell_type": "markdown",
   "metadata": {
    "id": "296Cnt647b5c"
   },
   "source": [
    "You will start with something familiar -- logistic regression. Since your feature representation is in 2 dimensions (20 x 1000), you need to flatten it to pass it to Keras (remember you did this with the pixel data too). Try two strategies for flattening.\n",
    "\n",
    "1. Flatten by *concatenating* (as you did with pixels), turning (20 x 1000) data into (20000,) data. The result is a separate feature for each token at each position;\n",
    "2. Flatten by *averaging* over token positions, turning (20 x 1000) data into (1000,) data. The result is an array with average token counts, ignoring position."
   ]
  },
  {
   "cell_type": "code",
   "execution_count": 17,
   "metadata": {
    "id": "6m6eebM-0dUW"
   },
   "outputs": [],
   "source": [
    "def build_onehot_model(average_over_positions=False):\n",
    "  \"\"\"Build a tf.keras model for one-hot data.\"\"\"\n",
    "  # Clear session and remove randomness.\n",
    "  tf.keras.backend.clear_session()\n",
    "  tf.random.set_seed(0)\n",
    "\n",
    "  model = tf.keras.Sequential()\n",
    "    \n",
    "  if average_over_positions:\n",
    "    # This layer averages over the first dimension of the input by default.\n",
    "    model.add(tf.keras.layers.GlobalAveragePooling1D())\n",
    "  else:\n",
    "    # Concatenate.\n",
    "    model.add(tf.keras.layers.Flatten())\n",
    "      \n",
    "  model.add(tf.keras.layers.Dense(\n",
    "      units=1,                     # output dim (for binary classification)\n",
    "      activation=\"sigmoid\"         # sigmoid activation for binary classification\n",
    "  ))\n",
    "\n",
    "  model.compile(loss='binary_crossentropy',   # this is a classification task\n",
    "                optimizer='adam',             # fancy optimizer\n",
    "                metrics=['accuracy'])\n",
    "\n",
    "  return model"
   ]
  },
  {
   "cell_type": "markdown",
   "metadata": {
    "id": "NY3W_1-OSZ2X"
   },
   "source": [
    "Now let's try fitting the model to your training data and check performance metrics on the validation data. But first, here's a function for plotting the learning curves given the training history object we get from Keras."
   ]
  },
  {
   "cell_type": "code",
   "execution_count": 18,
   "metadata": {
    "id": "cOVmajSuMjN6"
   },
   "outputs": [],
   "source": [
    "def plot_history(history):\n",
    "  plt.ylabel('Loss')\n",
    "  plt.xlabel('Epoch')\n",
    "  plt.xticks(range(0, len(history['loss'] + 1)))\n",
    "  plt.plot(history['loss'], label=\"training\", marker='o')\n",
    "  plt.plot(history['val_loss'], label=\"validation\", marker='o')\n",
    "  plt.ylim(0,1)\n",
    "  plt.legend()\n",
    "  plt.show()"
   ]
  },
  {
   "cell_type": "code",
   "execution_count": 19,
   "metadata": {
    "colab": {
     "base_uri": "https://localhost:8080/",
     "height": 478
    },
    "executionInfo": {
     "elapsed": 22140,
     "status": "ok",
     "timestamp": 1646684718388,
     "user": {
      "displayName": "Daniel Gillick",
      "photoUrl": "https://lh3.googleusercontent.com/a-/AOh14Gg9DrSMlwYnG9EolecuJqe8n9m7fpcje4_UbYrhQ10=s64",
      "userId": "01872965353911650729"
     },
     "user_tz": 600
    },
    "id": "MyE4PgX70_op",
    "outputId": "3de05dfa-f372-4b77-ba43-f212c2f47c1e"
   },
   "outputs": [
    {
     "name": "stdout",
     "output_type": "stream",
     "text": [
      "Epoch 1/5\n",
      "352/352 [==============================] - 2s 3ms/step - loss: 0.6830 - accuracy: 0.5756 - val_loss: 0.6746 - val_accuracy: 0.6068\n",
      "Epoch 2/5\n",
      "352/352 [==============================] - 1s 3ms/step - loss: 0.6480 - accuracy: 0.6874 - val_loss: 0.6622 - val_accuracy: 0.6196\n",
      "Epoch 3/5\n",
      "352/352 [==============================] - 1s 2ms/step - loss: 0.6198 - accuracy: 0.7194 - val_loss: 0.6530 - val_accuracy: 0.6284\n",
      "Epoch 4/5\n",
      "352/352 [==============================] - 1s 3ms/step - loss: 0.5962 - accuracy: 0.7442 - val_loss: 0.6468 - val_accuracy: 0.6304\n",
      "Epoch 5/5\n",
      "352/352 [==============================] - 1s 4ms/step - loss: 0.5758 - accuracy: 0.7599 - val_loss: 0.6417 - val_accuracy: 0.6364\n",
      "Model: \"sequential\"\n",
      "_________________________________________________________________\n",
      " Layer (type)                Output Shape              Param #   \n",
      "=================================================================\n",
      " flatten (Flatten)           (None, 20000)             0         \n",
      "                                                                 \n",
      " dense (Dense)               (None, 1)                 20001     \n",
      "                                                                 \n",
      "=================================================================\n",
      "Total params: 20001 (78.13 KB)\n",
      "Trainable params: 20001 (78.13 KB)\n",
      "Non-trainable params: 0 (0.00 Byte)\n",
      "_________________________________________________________________\n"
     ]
    },
    {
     "data": {
      "image/png": "[encoded data removed]",
      "text/plain": [
       "<Figure size 640x480 with 1 Axes>"
      ]
     },
     "metadata": {},
     "output_type": "display_data"
    }
   ],
   "source": [
    "model1 = build_onehot_model()\n",
    "\n",
    "# Fit the model.\n",
    "history1 = model1.fit(\n",
    "  x = X_train_one_hot,  # one-hot training data\n",
    "  y = Y_train,          # corresponding binary labels\n",
    "  epochs=5,             # number of passes through the training data\n",
    "  batch_size=64,        # mini-batch size\n",
    "  validation_split=0.1, # use a fraction of the examples for validation\n",
    "  verbose=1             # display some progress output during training\n",
    "  )\n",
    "\n",
    "model1.summary()\n",
    "# Convert the return value into a DataFrame so we can see the train loss \n",
    "# and binary accuracy after every epoch.\n",
    "history1 = pd.DataFrame(history1.history)\n",
    "plot_history(history1)"
   ]
  },
  {
   "cell_type": "code",
   "execution_count": 20,
   "metadata": {},
   "outputs": [
    {
     "name": "stdout",
     "output_type": "stream",
     "text": [
      "Epoch 1/5\n",
      "352/352 [==============================] - 1s 3ms/step - loss: 0.6915 - accuracy: 0.5712 - val_loss: 0.6898 - val_accuracy: 0.5932\n",
      "Epoch 2/5\n",
      "352/352 [==============================] - 1s 2ms/step - loss: 0.6879 - accuracy: 0.6160 - val_loss: 0.6865 - val_accuracy: 0.6104\n",
      "Epoch 3/5\n",
      "352/352 [==============================] - 1s 2ms/step - loss: 0.6846 - accuracy: 0.6232 - val_loss: 0.6832 - val_accuracy: 0.6204\n",
      "Epoch 4/5\n",
      "352/352 [==============================] - 1s 3ms/step - loss: 0.6814 - accuracy: 0.6318 - val_loss: 0.6803 - val_accuracy: 0.6244\n",
      "Epoch 5/5\n",
      "352/352 [==============================] - 1s 3ms/step - loss: 0.6785 - accuracy: 0.6344 - val_loss: 0.6776 - val_accuracy: 0.6268\n",
      "Model: \"sequential\"\n",
      "_________________________________________________________________\n",
      " Layer (type)                Output Shape              Param #   \n",
      "=================================================================\n",
      " global_average_pooling1d (  (None, 1000)              0         \n",
      " GlobalAveragePooling1D)                                         \n",
      "                                                                 \n",
      " dense (Dense)               (None, 1)                 1001      \n",
      "                                                                 \n",
      "=================================================================\n",
      "Total params: 1001 (3.91 KB)\n",
      "Trainable params: 1001 (3.91 KB)\n",
      "Non-trainable params: 0 (0.00 Byte)\n",
      "_________________________________________________________________\n"
     ]
    },
    {
     "data": {
      "image/png": "[encoded data removed]",
      "text/plain": [
       "<Figure size 640x480 with 1 Axes>"
      ]
     },
     "metadata": {},
     "output_type": "display_data"
    }
   ],
   "source": [
    "#LR-A\n",
    "model1 = build_onehot_model(average_over_positions=True)\n",
    "\n",
    "# Fit the model.\n",
    "history1 = model1.fit(\n",
    "  x = X_train_one_hot,  # one-hot training data\n",
    "  y = Y_train,          # corresponding binary labels\n",
    "  epochs=5,             # number of passes through the training data\n",
    "  batch_size=64,        # mini-batch size\n",
    "  validation_split=0.1, # use a fraction of the examples for validation\n",
    "  verbose=1             # display some progress output during training\n",
    "  )\n",
    "\n",
    "model1.summary()\n",
    "# Convert the return value into a DataFrame so we can see the train loss \n",
    "# and binary accuracy after every epoch.\n",
    "history1 = pd.DataFrame(history1.history)\n",
    "plot_history(history1)"
   ]
  },
  {
   "cell_type": "markdown",
   "metadata": {},
   "source": [
    "### <span style=\"color:chocolate\">Exercise 6:</span>  Comparing logistic regression models (20 points)"
   ]
  },
  {
   "cell_type": "markdown",
   "metadata": {
    "id": "QuCh9aQPv7F_"
   },
   "source": [
    "Train the one-hot model using both the concatenating and the averaging strategies and compare the results. Let's call these *LR-C* (Logistic Regression Concatenating) and *LR-A* (Logistic Regression Averaging). Then answer the following questions:\n",
    "\n",
    "1. What are the final training and validation accuracies for LR-C and LR-A?\n",
    "2. How many parameters are there in each model?\n",
    "3. Would you say that either model is overfitting? Why or why not?\n",
    "4. Briefly describe how LR-C differs from LR-A. How do you explain the relationship between their respective validation accuracy results? "
   ]
  },
  {
   "cell_type": "markdown",
   "metadata": {
    "id": "CEAN5BejHc__"
   },
   "source": [
    "*Written answer:*\n",
    "\n",
    "1. LR-C has training accuracy of 75.99% and validation accuracy of 63.64%. In comparison, LR-A has training accuracy of 63.44% and validation accuracy of 62.68%\n",
    "\n",
    "2. LR-C has 20,1000 parameters and LR-A has 1,001 parameters.\n",
    "\n",
    "3. LR-C has a notable gap between training and validation accuracy, which suggests a potential overfitting. Whereas the training and validation accuracy of LR-A are closer to each other, which suggests less likely to be overfitting.\n",
    "\n",
    "4. LR-C has far more parameters than LR-A, which makes LR-C far more expensive to train and harder to explain. On the other hand, LR-A shows slower improverment over each epoch. Tihs might be caused by loss of information due to average pooling.\n"
   ]
  },
  {
   "cell_type": "markdown",
   "metadata": {},
   "source": [
    "### <span style=\"color:chocolate\">Improvement over baseline:</span> Logistic regression with embeddings"
   ]
  },
  {
   "cell_type": "markdown",
   "metadata": {
    "id": "sJIBRqK7lsjG"
   },
   "source": [
    "Next, you will train a model that replaces one-hot representations of each token with learned embeddings.\n",
    "\n",
    "The code below uses a Keras Embedding layer, which expects to receive a sparse (rather than one-hot) representation. That is, it expects a (padded) sequence of token ids; for each id, it looks up the corresponding embedding vector."
   ]
  },
  {
   "cell_type": "code",
   "execution_count": 21,
   "metadata": {
    "id": "ho6uOeCaBs2e"
   },
   "outputs": [],
   "source": [
    "def build_embeddings_model(average_over_positions=False,\n",
    "                           vocab_size=1000,\n",
    "                           sequence_length=20,\n",
    "                           embedding_dim=2):\n",
    "  \"\"\"Build a tf.keras model using embeddings.\"\"\"\n",
    "  # Clear session and remove randomness.\n",
    "  tf.keras.backend.clear_session()\n",
    "  tf.random.set_seed(0)\n",
    "\n",
    "  model = tf.keras.Sequential()\n",
    "  model.add(tf.keras.layers.Embedding(\n",
    "      input_dim=vocab_size,\n",
    "      output_dim=embedding_dim,\n",
    "      input_length=sequence_length)\n",
    "  )\n",
    "\n",
    "  if average_over_positions:\n",
    "    # This layer averages over the first dimension of the input by default.\n",
    "    model.add(tf.keras.layers.GlobalAveragePooling1D())\n",
    "  else:\n",
    "    # Concatenate.\n",
    "    model.add(tf.keras.layers.Flatten())\n",
    "      \n",
    "  model.add(tf.keras.layers.Dense(\n",
    "      units=1,                     # output dim (for binary classification)\n",
    "      activation='sigmoid'         # apply the sigmoid function!\n",
    "  ))\n",
    "\n",
    "  model.compile(loss='binary_crossentropy', \n",
    "                optimizer='adam',\n",
    "                metrics=['accuracy'])\n",
    "\n",
    "  return model"
   ]
  },
  {
   "cell_type": "markdown",
   "metadata": {
    "id": "eyhoEjAiFSNB"
   },
   "source": [
    "You will train this model, this time using the averaging strategy instead of the concatenating strategy for handling the token sequence. You'll look up the embedding vectors for each token and average them to produce a single vector. Then, you'll use this averaged vector to train a logistic regression model to predict the binary label."
   ]
  },
  {
   "cell_type": "code",
   "execution_count": 27,
   "metadata": {
    "colab": {
     "base_uri": "https://localhost:8080/",
     "height": 478
    },
    "executionInfo": {
     "elapsed": 5490,
     "status": "ok",
     "timestamp": 1646684762935,
     "user": {
      "displayName": "Daniel Gillick",
      "photoUrl": "https://lh3.googleusercontent.com/a-/AOh14Gg9DrSMlwYnG9EolecuJqe8n9m7fpcje4_UbYrhQ10=s64",
      "userId": "01872965353911650729"
     },
     "user_tz": 600
    },
    "id": "uYUE5UwkxoU8",
    "outputId": "20a4c237-8c49-4b24-9ea1-e0f325cb9908"
   },
   "outputs": [
    {
     "name": "stdout",
     "output_type": "stream",
     "text": [
      "Epoch 1/5\n",
      "352/352 [==============================] - 1s 2ms/step - loss: 0.6898 - accuracy: 0.5885 - val_loss: 0.6851 - val_accuracy: 0.6048\n",
      "Epoch 2/5\n",
      "352/352 [==============================] - 0s 1ms/step - loss: 0.6778 - accuracy: 0.6309 - val_loss: 0.6711 - val_accuracy: 0.6212\n",
      "Epoch 3/5\n",
      "352/352 [==============================] - 1s 2ms/step - loss: 0.6620 - accuracy: 0.6440 - val_loss: 0.6558 - val_accuracy: 0.6340\n",
      "Epoch 4/5\n",
      "352/352 [==============================] - 1s 1ms/step - loss: 0.6462 - accuracy: 0.6547 - val_loss: 0.6423 - val_accuracy: 0.6432\n",
      "Epoch 5/5\n",
      "352/352 [==============================] - 1s 2ms/step - loss: 0.6316 - accuracy: 0.6653 - val_loss: 0.6303 - val_accuracy: 0.6540\n",
      "Model: \"sequential\"\n",
      "_________________________________________________________________\n",
      " Layer (type)                Output Shape              Param #   \n",
      "=================================================================\n",
      " embedding (Embedding)       (None, 20, 2)             2000      \n",
      "                                                                 \n",
      " global_average_pooling1d (  (None, 2)                 0         \n",
      " GlobalAveragePooling1D)                                         \n",
      "                                                                 \n",
      " dense (Dense)               (None, 1)                 3         \n",
      "                                                                 \n",
      "=================================================================\n",
      "Total params: 2003 (7.82 KB)\n",
      "Trainable params: 2003 (7.82 KB)\n",
      "Non-trainable params: 0 (0.00 Byte)\n",
      "_________________________________________________________________\n"
     ]
    },
    {
     "data": {
      "image/png": "[encoded data removed]",
      "text/plain": [
       "<Figure size 640x480 with 1 Axes>"
      ]
     },
     "metadata": {},
     "output_type": "display_data"
    }
   ],
   "source": [
    "model2 = build_embeddings_model(average_over_positions=True,\n",
    "                               vocab_size=1000,\n",
    "                               sequence_length=20,\n",
    "                               embedding_dim=2)\n",
    "history2 = model2.fit(\n",
    "  x = X_train_reduced,  # our sparse padded training data\n",
    "  y = Y_train,          # corresponding binary labels\n",
    "  epochs=5,             # number of passes through the training data\n",
    "  batch_size=64,        # mini-batch size\n",
    "  validation_split=0.1, # use a fraction of the examples for validation\n",
    "  verbose=1             # display some progress output during training\n",
    "  )\n",
    "\n",
    "model2.summary()\n",
    "\n",
    "history2 = pd.DataFrame(history2.history)\n",
    "plot_history(history2)"
   ]
  },
  {
   "cell_type": "markdown",
   "metadata": {},
   "source": [
    "### <span style=\"color:chocolate\">Exercise 7:</span> Embedding size tuning (20 points)"
   ]
  },
  {
   "cell_type": "code",
   "execution_count": 25,
   "metadata": {},
   "outputs": [
    {
     "name": "stdout",
     "output_type": "stream",
     "text": [
      "Epoch 1/5\n",
      "352/352 [==============================] - 1s 2ms/step - loss: 0.6905 - accuracy: 0.5826 - val_loss: 0.6865 - val_accuracy: 0.6044\n",
      "Epoch 2/5\n",
      "352/352 [==============================] - 0s 1ms/step - loss: 0.6793 - accuracy: 0.6303 - val_loss: 0.6728 - val_accuracy: 0.6224\n",
      "Epoch 3/5\n",
      "352/352 [==============================] - 1s 1ms/step - loss: 0.6636 - accuracy: 0.6423 - val_loss: 0.6573 - val_accuracy: 0.6356\n",
      "Epoch 4/5\n",
      "352/352 [==============================] - 0s 1ms/step - loss: 0.6476 - accuracy: 0.6549 - val_loss: 0.6436 - val_accuracy: 0.6428\n",
      "Epoch 5/5\n",
      "352/352 [==============================] - 0s 1ms/step - loss: 0.6328 - accuracy: 0.6647 - val_loss: 0.6315 - val_accuracy: 0.6512\n",
      "Model: \"sequential\"\n",
      "_________________________________________________________________\n",
      " Layer (type)                Output Shape              Param #   \n",
      "=================================================================\n",
      " embedding (Embedding)       (None, 20, 2)             2000      \n",
      "                                                                 \n",
      " global_average_pooling1d (  (None, 2)                 0         \n",
      " GlobalAveragePooling1D)                                         \n",
      "                                                                 \n",
      " dense (Dense)               (None, 1)                 3         \n",
      "                                                                 \n",
      "=================================================================\n",
      "Total params: 2003 (7.82 KB)\n",
      "Trainable params: 2003 (7.82 KB)\n",
      "Non-trainable params: 0 (0.00 Byte)\n",
      "_________________________________________________________________\n",
      "       loss  accuracy  val_loss  val_accuracy\n",
      "0  0.690471  0.582578  0.686481        0.6044\n",
      "1  0.679287  0.630267  0.672801        0.6224\n",
      "2  0.663591  0.642311  0.657279        0.6356\n",
      "3  0.647574  0.654889  0.643567        0.6428\n",
      "4  0.632804  0.664711  0.631455        0.6512\n",
      "Epoch 1/5\n",
      "352/352 [==============================] - 1s 2ms/step - loss: 0.6858 - accuracy: 0.5978 - val_loss: 0.6769 - val_accuracy: 0.6140\n",
      "Epoch 2/5\n",
      "352/352 [==============================] - 1s 2ms/step - loss: 0.6648 - accuracy: 0.6402 - val_loss: 0.6551 - val_accuracy: 0.6328\n",
      "Epoch 3/5\n",
      "352/352 [==============================] - 1s 2ms/step - loss: 0.6421 - accuracy: 0.6573 - val_loss: 0.6355 - val_accuracy: 0.6496\n",
      "Epoch 4/5\n",
      "352/352 [==============================] - 1s 2ms/step - loss: 0.6223 - accuracy: 0.6722 - val_loss: 0.6205 - val_accuracy: 0.6600\n",
      "Epoch 5/5\n",
      "352/352 [==============================] - 1s 2ms/step - loss: 0.6063 - accuracy: 0.6817 - val_loss: 0.6086 - val_accuracy: 0.6664\n",
      "Model: \"sequential\"\n",
      "_________________________________________________________________\n",
      " Layer (type)                Output Shape              Param #   \n",
      "=================================================================\n",
      " embedding (Embedding)       (None, 20, 4)             4000      \n",
      "                                                                 \n",
      " global_average_pooling1d (  (None, 4)                 0         \n",
      " GlobalAveragePooling1D)                                         \n",
      "                                                                 \n",
      " dense (Dense)               (None, 1)                 5         \n",
      "                                                                 \n",
      "=================================================================\n",
      "Total params: 4005 (15.64 KB)\n",
      "Trainable params: 4005 (15.64 KB)\n",
      "Non-trainable params: 0 (0.00 Byte)\n",
      "_________________________________________________________________\n",
      "       loss  accuracy  val_loss  val_accuracy\n",
      "0  0.685841  0.597778  0.676856        0.6140\n",
      "1  0.664848  0.640178  0.655135        0.6328\n",
      "2  0.642124  0.657333  0.635468        0.6496\n",
      "3  0.622285  0.672222  0.620474        0.6600\n",
      "4  0.606288  0.681689  0.608559        0.6664\n",
      "Epoch 1/5\n",
      "352/352 [==============================] - 1s 2ms/step - loss: 0.6854 - accuracy: 0.5928 - val_loss: 0.6736 - val_accuracy: 0.6172\n",
      "Epoch 2/5\n",
      "352/352 [==============================] - 1s 2ms/step - loss: 0.6562 - accuracy: 0.6457 - val_loss: 0.6430 - val_accuracy: 0.6440\n",
      "Epoch 3/5\n",
      "352/352 [==============================] - 1s 2ms/step - loss: 0.6259 - accuracy: 0.6686 - val_loss: 0.6198 - val_accuracy: 0.6572\n",
      "Epoch 4/5\n",
      "352/352 [==============================] - 1s 2ms/step - loss: 0.6033 - accuracy: 0.6829 - val_loss: 0.6048 - val_accuracy: 0.6664\n",
      "Epoch 5/5\n",
      "352/352 [==============================] - 1s 2ms/step - loss: 0.5878 - accuracy: 0.6914 - val_loss: 0.5944 - val_accuracy: 0.6696\n",
      "Model: \"sequential\"\n",
      "_________________________________________________________________\n",
      " Layer (type)                Output Shape              Param #   \n",
      "=================================================================\n",
      " embedding (Embedding)       (None, 20, 8)             8000      \n",
      "                                                                 \n",
      " global_average_pooling1d (  (None, 8)                 0         \n",
      " GlobalAveragePooling1D)                                         \n",
      "                                                                 \n",
      " dense (Dense)               (None, 1)                 9         \n",
      "                                                                 \n",
      "=================================================================\n",
      "Total params: 8009 (31.29 KB)\n",
      "Trainable params: 8009 (31.29 KB)\n",
      "Non-trainable params: 0 (0.00 Byte)\n",
      "_________________________________________________________________\n",
      "       loss  accuracy  val_loss  val_accuracy\n",
      "0  0.685376  0.592756  0.673563        0.6172\n",
      "1  0.656200  0.645733  0.643041        0.6440\n",
      "2  0.625898  0.668578  0.619780        0.6572\n",
      "3  0.603319  0.682889  0.604765        0.6664\n",
      "4  0.587773  0.691378  0.594384        0.6696\n",
      "Epoch 1/5\n",
      "352/352 [==============================] - 1s 2ms/step - loss: 0.6817 - accuracy: 0.5985 - val_loss: 0.6640 - val_accuracy: 0.6220\n",
      "Epoch 2/5\n",
      "352/352 [==============================] - 1s 2ms/step - loss: 0.6400 - accuracy: 0.6570 - val_loss: 0.6249 - val_accuracy: 0.6536\n",
      "Epoch 3/5\n",
      "352/352 [==============================] - 1s 2ms/step - loss: 0.6051 - accuracy: 0.6804 - val_loss: 0.6024 - val_accuracy: 0.6676\n",
      "Epoch 4/5\n",
      "352/352 [==============================] - 1s 2ms/step - loss: 0.5843 - accuracy: 0.6931 - val_loss: 0.5908 - val_accuracy: 0.6764\n",
      "Epoch 5/5\n",
      "352/352 [==============================] - 1s 2ms/step - loss: 0.5725 - accuracy: 0.6980 - val_loss: 0.5842 - val_accuracy: 0.6864\n",
      "Model: \"sequential\"\n",
      "_________________________________________________________________\n",
      " Layer (type)                Output Shape              Param #   \n",
      "=================================================================\n",
      " embedding (Embedding)       (None, 20, 16)            16000     \n",
      "                                                                 \n",
      " global_average_pooling1d (  (None, 16)                0         \n",
      " GlobalAveragePooling1D)                                         \n",
      "                                                                 \n",
      " dense (Dense)               (None, 1)                 17        \n",
      "                                                                 \n",
      "=================================================================\n",
      "Total params: 16017 (62.57 KB)\n",
      "Trainable params: 16017 (62.57 KB)\n",
      "Non-trainable params: 0 (0.00 Byte)\n",
      "_________________________________________________________________\n",
      "       loss  accuracy  val_loss  val_accuracy\n",
      "0  0.681673  0.598489  0.664006        0.6220\n",
      "1  0.639971  0.656978  0.624857        0.6536\n",
      "2  0.605132  0.680356  0.602379        0.6676\n",
      "3  0.584320  0.693067  0.590810        0.6764\n",
      "4  0.572480  0.698044  0.584234        0.6864\n",
      "Epoch 1/5\n",
      "352/352 [==============================] - 1s 2ms/step - loss: 0.6743 - accuracy: 0.6089 - val_loss: 0.6482 - val_accuracy: 0.6428\n",
      "Epoch 2/5\n",
      "352/352 [==============================] - 1s 3ms/step - loss: 0.6193 - accuracy: 0.6688 - val_loss: 0.6057 - val_accuracy: 0.6672\n",
      "Epoch 3/5\n",
      "352/352 [==============================] - 1s 2ms/step - loss: 0.5860 - accuracy: 0.6903 - val_loss: 0.5886 - val_accuracy: 0.6768\n",
      "Epoch 4/5\n",
      "352/352 [==============================] - 1s 2ms/step - loss: 0.5706 - accuracy: 0.6993 - val_loss: 0.5825 - val_accuracy: 0.6904\n",
      "Epoch 5/5\n",
      "352/352 [==============================] - 1s 2ms/step - loss: 0.5637 - accuracy: 0.7028 - val_loss: 0.5799 - val_accuracy: 0.6900\n",
      "Model: \"sequential\"\n",
      "_________________________________________________________________\n",
      " Layer (type)                Output Shape              Param #   \n",
      "=================================================================\n",
      " embedding (Embedding)       (None, 20, 32)            32000     \n",
      "                                                                 \n",
      " global_average_pooling1d (  (None, 32)                0         \n",
      " GlobalAveragePooling1D)                                         \n",
      "                                                                 \n",
      " dense (Dense)               (None, 1)                 33        \n",
      "                                                                 \n",
      "=================================================================\n",
      "Total params: 32033 (125.13 KB)\n",
      "Trainable params: 32033 (125.13 KB)\n",
      "Non-trainable params: 0 (0.00 Byte)\n",
      "_________________________________________________________________\n",
      "       loss  accuracy  val_loss  val_accuracy\n",
      "0  0.674296  0.608933  0.648242        0.6428\n",
      "1  0.619310  0.668756  0.605709        0.6672\n",
      "2  0.586024  0.690267  0.588585        0.6768\n",
      "3  0.570592  0.699333  0.582466        0.6904\n",
      "4  0.563692  0.702756  0.579864        0.6900\n",
      "Epoch 1/5\n",
      "352/352 [==============================] - 1s 2ms/step - loss: 0.6664 - accuracy: 0.6148 - val_loss: 0.6315 - val_accuracy: 0.6500\n",
      "Epoch 2/5\n",
      "352/352 [==============================] - 1s 2ms/step - loss: 0.6012 - accuracy: 0.6792 - val_loss: 0.5923 - val_accuracy: 0.6736\n",
      "Epoch 3/5\n",
      "352/352 [==============================] - 1s 2ms/step - loss: 0.5740 - accuracy: 0.6968 - val_loss: 0.5824 - val_accuracy: 0.6872\n",
      "Epoch 4/5\n",
      "352/352 [==============================] - 1s 2ms/step - loss: 0.5641 - accuracy: 0.7027 - val_loss: 0.5802 - val_accuracy: 0.6924\n",
      "Epoch 5/5\n",
      "352/352 [==============================] - 1s 2ms/step - loss: 0.5608 - accuracy: 0.7032 - val_loss: 0.5796 - val_accuracy: 0.6908\n",
      "Model: \"sequential\"\n",
      "_________________________________________________________________\n",
      " Layer (type)                Output Shape              Param #   \n",
      "=================================================================\n",
      " embedding (Embedding)       (None, 20, 64)            64000     \n",
      "                                                                 \n",
      " global_average_pooling1d (  (None, 64)                0         \n",
      " GlobalAveragePooling1D)                                         \n",
      "                                                                 \n",
      " dense (Dense)               (None, 1)                 65        \n",
      "                                                                 \n",
      "=================================================================\n",
      "Total params: 64065 (250.25 KB)\n",
      "Trainable params: 64065 (250.25 KB)\n",
      "Non-trainable params: 0 (0.00 Byte)\n",
      "_________________________________________________________________\n",
      "       loss  accuracy  val_loss  val_accuracy\n",
      "0  0.666427  0.614756  0.631459        0.6500\n",
      "1  0.601202  0.679244  0.592343        0.6736\n",
      "2  0.574025  0.696756  0.582381        0.6872\n",
      "3  0.564132  0.702667  0.580164        0.6924\n",
      "4  0.560760  0.703244  0.579583        0.6908\n"
     ]
    }
   ],
   "source": [
    "for embedding_size in [2, 4, 8, 16, 32, 64]:\n",
    "    model3 = build_embeddings_model(average_over_positions=True, vocab_size=1000, sequence_length=20, embedding_dim=embedding_size)\n",
    "    \n",
    "    history3 = model3.fit(\n",
    "        x = X_train_reduced,\n",
    "        y = Y_train,\n",
    "        epochs=5,\n",
    "        batch_size=64,\n",
    "        validation_split=0.1,\n",
    "        verbose=1\n",
    "    )\n",
    "\n",
    "    model3.summary()\n",
    "\n",
    "    df = pd.DataFrame(history3.history)\n",
    "    print(df)\n"
   ]
  },
  {
   "cell_type": "markdown",
   "metadata": {
    "id": "V3k__61hFnag"
   },
   "source": [
    "Experiment with embedding sizes {2, 4, 8, 16, 32, 64}, while keeping other settings fixed and using the averaging strategy instead of the concatenating strategy. Then:\n",
    "\n",
    "1. Construct a table showing the training and validation accuracies for each model after 5 training epochs;\n",
    "2. Calculate the number of parameters in each model;\n",
    "3. Analyze whether learned embeddings improve performance compared to one-hot encoding, and explain why this might be the case."
   ]
  },
  {
   "cell_type": "markdown",
   "metadata": {
    "id": "O7t46ZdX2ofd"
   },
   "source": [
    "*Written answer:*\n",
    "\n",
    "1.\n",
    "Embedding sizes | Training Accuracy | Validation Accuracy\n",
    "----------------|-------------------|--------------------\n",
    "2 | 0.664711 | 0.6512\n",
    "4 | 0.681689 | 0.6664\n",
    "8 | 0.691378 | 0.6696\n",
    "16 | 0.698044 | 0.6864\n",
    "32 | 0.702756 | 0.6900\n",
    "64 | 0.703244 | 0.6908\n",
    "\n",
    "2. \n",
    "Embedding sizes | # of parameters\n",
    "----------------|-------------------\n",
    "2 | 2003\n",
    "4 | 4005\n",
    "8 | 8009\n",
    "16 | 16017\n",
    "32 | 32033\n",
    "64 | 64065\n",
    "\n",
    "3. \n"
   ]
  },
  {
   "cell_type": "markdown",
   "metadata": {},
   "source": [
    "---"
   ]
  },
  {
   "cell_type": "markdown",
   "metadata": {
    "id": "i2dWOuxqKHA6"
   },
   "source": [
    "### Inspecting Learned Embeddings\n",
    "You will now retrieve the learned embedding parameters from the trained model2 and plot the token embeddings.\n",
    "\n",
    "The model layers in a Keras Sequential model are stored as a list and the embeddings are the first layer. You can use the <span style=\"color:chocolate\">get_weights()</span> function to get a numpy array with the parameters."
   ]
  },
  {
   "cell_type": "code",
   "execution_count": 30,
   "metadata": {
    "colab": {
     "base_uri": "https://localhost:8080/",
     "height": 86
    },
    "executionInfo": {
     "elapsed": 355,
     "status": "ok",
     "timestamp": 1646684774106,
     "user": {
      "displayName": "Daniel Gillick",
      "photoUrl": "https://lh3.googleusercontent.com/a-/AOh14Gg9DrSMlwYnG9EolecuJqe8n9m7fpcje4_UbYrhQ10=s64",
      "userId": "01872965353911650729"
     },
     "user_tz": 600
    },
    "id": "bfsbGSwkaFjo",
    "outputId": "d9d74723-012f-464f-a9f3-8a41d8178868"
   },
   "outputs": [
    {
     "data": {
      "text/plain": [
       "[<keras.src.layers.core.embedding.Embedding at 0x7f4767861660>,\n",
       " <keras.src.layers.pooling.global_average_pooling1d.GlobalAveragePooling1D at 0x7f4766fe5210>,\n",
       " <keras.src.layers.core.dense.Dense at 0x7f4765b27130>]"
      ]
     },
     "metadata": {},
     "output_type": "display_data"
    },
    {
     "data": {
      "text/plain": [
       "(1000, 2)"
      ]
     },
     "metadata": {},
     "output_type": "display_data"
    }
   ],
   "source": [
    "# Display the model layers.\n",
    "display(model2.layers)\n",
    "\n",
    "# Retrieve the embeddings layer, which itself is wrapped in a list.\n",
    "embeddings2 = model2.layers[0].get_weights()[0]\n",
    "display(embeddings2.shape)"
   ]
  },
  {
   "cell_type": "markdown",
   "metadata": {
    "id": "apPWscNwcXTE"
   },
   "source": [
    "Now you'll use a fancy plotting tool called *plotly* to show the embeddings with hovertext so you can move your mouse over the points to see the corresponding tokens."
   ]
  },
  {
   "cell_type": "code",
   "execution_count": 29,
   "metadata": {
    "colab": {
     "base_uri": "https://localhost:8080/",
     "height": 542
    },
    "executionInfo": {
     "elapsed": 453,
     "status": "ok",
     "timestamp": 1646684778338,
     "user": {
      "displayName": "Daniel Gillick",
      "photoUrl": "https://lh3.googleusercontent.com/a-/AOh14Gg9DrSMlwYnG9EolecuJqe8n9m7fpcje4_UbYrhQ10=s64",
      "userId": "01872965353911650729"
     },
     "user_tz": 600
    },
    "id": "5RZMTrA0KttL",
    "outputId": "f5ec9b65-84bb-4c28-c673-cf86a87112df"
   },
   "outputs": [
    {
     "data": {
      "application/vnd.plotly.v1+json": {
       "config": {
        "plotlyServerURL": "https://plot.ly"
       },
       "data": [
        {
         "hoverinfo": "text",
         "mode": "markers",
         "text": [
          "game",
          "past",
          "able",
          "b",
          "days",
          "turns",
          "child",
          "they're",
          "hand",
          "flick",
          "enjoyed",
          "act",
          "genre",
          "town",
          "favorite",
          "soon",
          "kill",
          "starts",
          "sometimes",
          "car",
          "gave",
          "run",
          "late",
          "eyes",
          "actress",
          "etc",
          "directed",
          "horrible",
          "won't",
          "viewer",
          "brilliant",
          "parts",
          "self",
          "themselves",
          "hour",
          "expect",
          "thinking",
          "stories",
          "stuff",
          "girls",
          "obviously",
          "blood",
          "decent",
          "city",
          "voice",
          "highly",
          "myself",
          "feeling",
          "fight",
          "except",
          "slow",
          "matter",
          "type",
          "anyway",
          "kid",
          "roles",
          "killed",
          "heard",
          "god",
          "age",
          "says",
          "moment",
          "took",
          "leave",
          "writer",
          "strong",
          "cannot",
          "violence",
          "police",
          "hit",
          "stop",
          "happens",
          "particularly",
          "known",
          "involved",
          "happened",
          "extremely",
          "daughter",
          "obvious",
          "told",
          "chance",
          "living",
          "coming",
          "lack",
          "alone",
          "experience",
          "wouldn't",
          "including",
          "murder",
          "attempt",
          "s",
          "please",
          "james",
          "happen",
          "wonder",
          "crap",
          "ago",
          "brother",
          "film's",
          "gore",
          "none",
          "complete",
          "interest",
          "score",
          "group",
          "cut",
          "simple",
          "save",
          "ok",
          "hell",
          "looked",
          "career",
          "number",
          "song",
          "possible",
          "seriously",
          "annoying",
          "shown",
          "exactly",
          "sad",
          "running",
          "musical",
          "serious",
          "taken",
          "yourself",
          "whose",
          "released",
          "cinematography",
          "david",
          "scary",
          "ends",
          "english",
          "hero",
          "usually",
          "hours",
          "reality",
          "opening",
          "i'll",
          "across",
          "today",
          "jokes",
          "light",
          "hilarious",
          "somewhat",
          "usual",
          "started",
          "cool",
          "ridiculous",
          "body",
          "relationship",
          "view",
          "level",
          "opinion",
          "change",
          "happy",
          "middle",
          "taking",
          "wish",
          "husband",
          "finds",
          "saying",
          "order",
          "talking",
          "ones",
          "documentary",
          "shots",
          "huge",
          "novel",
          "female",
          "mostly",
          "robert",
          "power",
          "episodes",
          "room",
          "important",
          "rating",
          "talent",
          "five",
          "major",
          "turned",
          "strange",
          "word",
          "modern",
          "call",
          "apparently",
          "disappointed",
          "single",
          "events",
          "due",
          "four",
          "songs",
          "basically",
          "attention",
          "7",
          "knows",
          "clearly",
          "supporting",
          "knew",
          "british",
          "television",
          "comic",
          "non",
          "fast",
          "earth",
          "country",
          "future",
          "cheap",
          "class",
          "thriller",
          "8",
          "silly",
          "king",
          "problems",
          "aren't",
          "easily",
          "words",
          "tells",
          "miss",
          "jack",
          "local",
          "sequence",
          "bring",
          "entertainment",
          "paul",
          "beyond",
          "upon",
          "whether",
          "predictable",
          "moving",
          "similar",
          "straight",
          "romantic",
          "sets",
          "review",
          "falls",
          "oscar",
          "mystery",
          "enjoyable",
          "needs",
          "appears",
          "talk",
          "rock",
          "george",
          "giving",
          "eye",
          "richard",
          "within",
          "ten",
          "animation",
          "message",
          "theater",
          "near",
          "above",
          "dull",
          "nearly",
          "sequel",
          "theme",
          "points",
          "'",
          "stand",
          "mention",
          "lady",
          "bunch",
          "add",
          "feels",
          "herself",
          "release",
          "red",
          "team",
          "storyline",
          "surprised",
          "ways",
          "using",
          "named",
          "haven't",
          "lots",
          "easy",
          "fantastic",
          "begins",
          "actual",
          "working",
          "effort",
          "york",
          "die",
          "hate",
          "french",
          "minute",
          "tale",
          "clear",
          "stay",
          "9",
          "elements",
          "feature",
          "among",
          "follow",
          "comments",
          "re",
          "viewers",
          "avoid",
          "sister",
          "showing",
          "typical",
          "editing",
          "what's",
          "famous",
          "tried",
          "sorry",
          "dialog",
          "check",
          "fall",
          "period",
          "season",
          "form",
          "certain",
          "filmed",
          "weak",
          "soundtrack",
          "means",
          "buy",
          "material",
          "somehow",
          "realistic",
          "figure",
          "crime",
          "doubt",
          "gone",
          "peter",
          "tom",
          "kept",
          "viewing",
          "t",
          "general",
          "leads",
          "greatest",
          "space",
          "lame",
          "suspense",
          "dance",
          "imagine",
          "brought",
          "third",
          "atmosphere",
          "hear",
          "particular",
          "sequences",
          "whatever",
          "parents",
          "move",
          "lee",
          "indeed",
          "learn",
          "rent",
          "de",
          "eventually",
          "note",
          "deal",
          "average",
          "reviews",
          "wait",
          "forget",
          "japanese",
          "sexual",
          "poorly",
          "premise",
          "okay",
          "zombie",
          "surprise",
          "believable",
          "stage",
          "possibly",
          "sit",
          "who's",
          "decided",
          "expected",
          "you've",
          "subject",
          "nature",
          "became",
          "difficult",
          "free",
          "killing",
          "screenplay",
          "truth",
          "romance",
          "dr",
          "nor",
          "reading",
          "needed",
          "question",
          "leaves",
          "street",
          "20",
          "meets",
          "hot",
          "unless",
          "begin",
          "baby",
          "superb",
          "credits",
          "imdb",
          "otherwise",
          "write",
          "shame",
          "let's",
          "situation",
          "dramatic",
          "memorable",
          "directors",
          "earlier",
          "meet",
          "disney",
          "open",
          "dog",
          "badly",
          "joe",
          "male",
          "weird",
          "acted",
          "forced",
          "laughs",
          "sci",
          "emotional",
          "older",
          "realize",
          "fi",
          "dream",
          "society",
          "writers",
          "interested",
          "footage",
          "forward",
          "comment",
          "crazy",
          "deep",
          "sounds",
          "plus",
          "beauty",
          "whom",
          "america",
          "fantasy",
          "directing",
          "keeps",
          "ask",
          "development",
          "features",
          "air",
          "quickly",
          "mess",
          "creepy",
          "towards",
          "perfectly",
          "mark",
          "worked",
          "box",
          "cheesy",
          "unique",
          "setting",
          "hands",
          "plenty",
          "result",
          "previous",
          "brings",
          "effect",
          "e",
          "total",
          "personal",
          "incredibly",
          "rate",
          "fire",
          "monster",
          "business",
          "leading",
          "apart",
          "casting",
          "admit",
          "joke",
          "powerful",
          "appear",
          "background",
          "telling",
          "girlfriend",
          "meant",
          "christmas",
          "hardly",
          "present",
          "battle",
          "potential",
          "create",
          "bill",
          "break",
          "pay",
          "masterpiece",
          "gay",
          "political",
          "return",
          "dumb",
          "fails",
          "fighting",
          "various",
          "era"
         ],
         "textposition": "bottom left",
         "type": "scatter",
         "x": [
          0.21214301884174347,
          -0.032899290323257446,
          0.22103480994701385,
          -0.2887744903564453,
          0.014217503368854523,
          0.026539772748947144,
          0.26515504717826843,
          -0.16929642856121063,
          -0.19428224861621857,
          -0.11921762675046921,
          0.9030346870422363,
          -0.08894560486078262,
          0.1624746471643448,
          -0.11058904230594635,
          0.7148256301879883,
          0.04474620148539543,
          0.016243821009993553,
          -0.534527599811554,
          0.04431500658392906,
          -0.03436634689569473,
          -0.3538912832736969,
          0.2573294937610626,
          0.34436503052711487,
          -0.1319010704755783,
          -0.05913717672228813,
          -0.006704194936901331,
          -0.019690772518515587,
          -0.8180966377258301,
          -0.06456486880779266,
          0.05505645275115967,
          0.7174693942070007,
          0.06888331472873688,
          -0.4065282642841339,
          -0.05802192911505699,
          -0.31610336899757385,
          0.09807265549898148,
          -0.46083101630210876,
          0.2277858406305313,
          -0.018280068412423134,
          -0.313060998916626,
          -0.13957710564136505,
          -0.0434538833796978,
          -0.44336211681365967,
          0.19710694253444672,
          0.13435842096805573,
          0.25343286991119385,
          -0.20621314644813538,
          0.10556852072477341,
          0.21442589163780212,
          -0.30016034841537476,
          -0.22214385867118835,
          -0.0612756572663784,
          0.03070789948105812,
          -0.062332820147275925,
          0.20578600466251373,
          0.2934962213039398,
          -0.19418299198150635,
          0.07869861274957657,
          -0.47788742184638977,
          0.2646908164024353,
          -0.0631956234574318,
          -0.05418793484568596,
          0.203186497092247,
          0.12355875968933105,
          0.043156661093235016,
          0.24892430007457733,
          -0.3402402997016907,
          -0.11493030190467834,
          0.16332367062568665,
          0.20687252283096313,
          -0.16191703081130981,
          -0.19763359427452087,
          -0.09535650908946991,
          0.1435881406068802,
          -0.29284900426864624,
          0.05245890095829964,
          -0.023176021873950958,
          0.17110536992549896,
          -0.3039139211177826,
          0.2814899981021881,
          0.18939045071601868,
          0.13595756888389587,
          0.041168175637722015,
          -0.14999230206012726,
          -0.16881641745567322,
          0.19809430837631226,
          -0.00677144480869174,
          -0.02481245808303356,
          0.03568367287516594,
          -0.3605074882507324,
          -0.18275058269500732,
          -0.32684263586997986,
          0.3349156379699707,
          -0.04951045289635658,
          -0.2332027554512024,
          -0.666582465171814,
          0.37570837140083313,
          -0.036315709352493286,
          0.138386532664299,
          -0.3496536910533905,
          -0.05521424487233162,
          -0.43167659640312195,
          0.2332151234149933,
          -0.034607596695423126,
          -0.22187355160713196,
          -0.00839903112500906,
          0.4503263235092163,
          -0.3439668118953705,
          -0.47439083456993103,
          -0.28790000081062317,
          -0.28215891122817993,
          -0.010270409286022186,
          0.09643390029668808,
          0.28521233797073364,
          -0.267355740070343,
          -0.3727061450481415,
          -0.4101240634918213,
          0.010132810100913048,
          -0.1815059632062912,
          0.0021202033385634422,
          -0.05753221735358238,
          0.19833466410636902,
          0.02995244413614273,
          -0.03232094645500183,
          -0.031191105023026466,
          0.10883869230747223,
          0.37672170996665955,
          0.16051442921161652,
          0.10599929094314575,
          -0.21833474934101105,
          0.03546006977558136,
          -0.12495419383049011,
          -0.07662955671548843,
          -0.1551193743944168,
          -0.3063831329345703,
          0.13934046030044556,
          0.10773344337940216,
          -0.24049057066440582,
          0.23937109112739563,
          0.17195333540439606,
          -0.2026558667421341,
          0.27394941449165344,
          0.4580838084220886,
          0.00835419725626707,
          0.019981758669018745,
          -0.12983205914497375,
          0.046113140881061554,
          -0.7222312688827515,
          -0.07179247587919235,
          0.08644653856754303,
          0.25332093238830566,
          0.08253046870231628,
          0.26274821162223816,
          -0.03960111737251282,
          0.06645942479372025,
          0.06614543497562408,
          0.11564431339502335,
          -0.1359633356332779,
          -0.07516349107027054,
          -0.07097611576318741,
          -0.27214857935905457,
          0.007553146220743656,
          0.09329820424318314,
          -0.09970138221979141,
          0.3823961913585663,
          -0.22221483290195465,
          -0.1433812826871872,
          -0.013125015422701836,
          0.008196827955543995,
          0.05102280527353287,
          0.1832384616136551,
          -0.18733873963356018,
          0.1696527749300003,
          0.10627710074186325,
          0.19278188049793243,
          -0.11297564953565598,
          -0.1681043952703476,
          -0.1749623715877533,
          -0.15351392328739166,
          -0.038365282118320465,
          0.17057271301746368,
          -0.1044803112745285,
          0.35631290078163147,
          -0.040363192558288574,
          -0.2547803223133087,
          -0.5845630764961243,
          -0.15629877150058746,
          0.24026592075824738,
          0.10594666004180908,
          0.0496353805065155,
          0.10437807440757751,
          -0.4351173937320709,
          0.21504300832748413,
          0.21839593350887299,
          -0.052316416054964066,
          -0.1945374310016632,
          0.24216386675834656,
          0.08298445492982864,
          0.2106650024652481,
          0.27971696853637695,
          0.05539948493242264,
          -0.02306932583451271,
          -0.13934969902038574,
          -0.25320228934288025,
          0.0057747154496610165,
          0.07984303683042526,
          -0.48615238070487976,
          -0.055818624794483185,
          0.10983160138130188,
          0.3002118170261383,
          -0.04270467162132263,
          0.09656352549791336,
          0.10436297953128815,
          0.05820898339152336,
          -0.017571648582816124,
          -0.1561698615550995,
          0.2060418277978897,
          0.21426445245742798,
          0.2258208990097046,
          -0.05400257930159569,
          0.06303388625383377,
          -0.07023194432258606,
          0.006262946408241987,
          0.22877946496009827,
          -0.2569955885410309,
          0.2043132483959198,
          -0.09476668387651443,
          -0.3941940367221832,
          0.27872517704963684,
          0.031477656215429306,
          -0.1592217981815338,
          0.3114665746688843,
          0.019991081207990646,
          -0.48036232590675354,
          -0.30403247475624084,
          0.1452193409204483,
          0.01905275508761406,
          0.34283357858657837,
          -0.014148174785077572,
          -0.18118475377559662,
          -0.12477315217256546,
          0.20864009857177734,
          0.15306255221366882,
          -0.03320533409714699,
          0.2277621626853943,
          0.0818580761551857,
          0.14286410808563232,
          0.1539234220981598,
          0.38870522379875183,
          0.27558040618896484,
          -0.12430038303136826,
          0.003387111471965909,
          0.29358190298080444,
          -0.5960739254951477,
          0.055507734417915344,
          -0.321390837430954,
          0.11607871204614639,
          -0.06390580534934998,
          0.0186793003231287,
          0.20735454559326172,
          -0.1821206659078598,
          0.18307559192180634,
          -0.23237863183021545,
          0.14915215969085693,
          0.06170276924967766,
          0.02358981780707836,
          0.15393070876598358,
          0.22462573647499084,
          0.08502697199583054,
          -0.20358741283416748,
          0.5597039461135864,
          0.18770182132720947,
          -0.11806800216436386,
          -0.1918862760066986,
          0.274819552898407,
          0.08797153830528259,
          0.38661980628967285,
          0.4461595118045807,
          -0.034330882132053375,
          0.12175199389457703,
          0.0019592498429119587,
          -0.39341768622398376,
          0.18647374212741852,
          -0.12162311375141144,
          -0.12229593843221664,
          0.26391202211380005,
          -0.3388292193412781,
          0.33541807532310486,
          -0.017750419676303864,
          -0.09232555329799652,
          0.08106619119644165,
          0.036354392766952515,
          0.3772433400154114,
          0.18214371800422668,
          0.012547722086310387,
          0.09504062682390213,
          -0.014469760470092297,
          -0.09440746903419495,
          -0.398184597492218,
          0.050298213958740234,
          0.059167928993701935,
          -0.025297483429312706,
          -0.1485302746295929,
          -0.20908212661743164,
          0.1412050426006317,
          -0.5025079250335693,
          -0.5141997337341309,
          -0.2504347562789917,
          -0.13874001801013947,
          -0.020168166607618332,
          -0.012417473830282688,
          0.19976186752319336,
          0.03025541454553604,
          -0.002196674467995763,
          0.274679034948349,
          -0.5370676517486572,
          0.11413770914077759,
          -0.11393651366233826,
          -0.016345687210559845,
          -0.18899700045585632,
          -0.009859973564743996,
          0.4285620152950287,
          -0.28801804780960083,
          0.16034267842769623,
          -0.09392867982387543,
          -0.09481620788574219,
          0.00041934975888580084,
          0.16237662732601166,
          -0.02624914050102234,
          0.36086517572402954,
          -0.21014954149723053,
          -0.04115939140319824,
          -0.14675725996494293,
          0.6656307578086853,
          -0.20049254596233368,
          -0.5102599263191223,
          0.14482904970645905,
          0.11139509081840515,
          -0.21680974960327148,
          0.1892199069261551,
          0.13037452101707458,
          0.0962723046541214,
          0.03507840260863304,
          0.058940339833498,
          0.1580348163843155,
          -0.28212079405784607,
          0.2190430611371994,
          -0.07260734587907791,
          -0.2910764515399933,
          -0.03876912221312523,
          -0.05214546620845795,
          -0.3689660429954529,
          0.21405114233493805,
          -0.0906975194811821,
          -0.13788054883480072,
          -0.15006829798221588,
          0.06056564673781395,
          -0.17740266025066376,
          0.030718524008989334,
          0.1916245073080063,
          0.10572293400764465,
          0.016326121985912323,
          -0.6122748255729675,
          -0.5197106599807739,
          -0.31295427680015564,
          -0.2573033273220062,
          0.46286770701408386,
          0.1915958672761917,
          0.1195184513926506,
          -0.34305015206336975,
          -0.2816336452960968,
          0.11699861288070679,
          -0.22570034861564636,
          -0.21422019600868225,
          -0.08573407679796219,
          0.021650929003953934,
          0.002620970131829381,
          -0.022058099508285522,
          0.18950757384300232,
          -0.29797449707984924,
          -0.27367594838142395,
          -0.07359261065721512,
          0.010979680344462395,
          0.2386818528175354,
          -0.1914728581905365,
          0.1061856746673584,
          -0.004261478781700134,
          -0.20983271300792694,
          -0.1190703809261322,
          -0.04466469585895538,
          0.11139252781867981,
          -0.1585148125886917,
          0.1759524792432785,
          0.11676210165023804,
          -0.37376031279563904,
          -0.3240196406841278,
          0.22575703263282776,
          0.551933228969574,
          -0.11155902594327927,
          -0.24588434398174286,
          -0.37349697947502136,
          -0.4457164406776428,
          -0.25301289558410645,
          -0.16763095557689667,
          0.18517260253429413,
          -0.07775288075208664,
          0.1907382756471634,
          0.2556562125682831,
          0.026956146582961082,
          -0.0559733547270298,
          0.33616772294044495,
          -0.14580783247947693,
          0.16866496205329895,
          -0.4593590199947357,
          -0.0894162580370903,
          -0.005201205611228943,
          -0.05263889208436012,
          0.14828552305698395,
          -0.2324085831642151,
          -0.035548239946365356,
          -0.02355225756764412,
          0.3215699791908264,
          0.3510039746761322,
          -0.1592492163181305,
          -0.07998665422201157,
          0.005242990329861641,
          0.2687250077724457,
          -0.29549431800842285,
          0.014617315493524075,
          -0.040938884019851685,
          -0.5426774024963379,
          -0.03492787480354309,
          -0.11479613929986954,
          -0.03787235915660858,
          0.024953603744506836,
          -0.03387577459216118,
          0.2250957041978836,
          -0.0741070955991745,
          -0.018691815435886383,
          0.2821635901927948,
          -0.1707332730293274,
          0.09913679212331772,
          0.07121525704860687,
          -0.10345104336738586,
          -0.06080016866326332,
          0.1431775540113449,
          -0.17283177375793457,
          -0.6017230153083801,
          -0.09729418903589249,
          0.10333593189716339,
          0.1669466197490692,
          -0.07588234543800354,
          0.022828198969364166,
          -0.09042741358280182,
          -0.09047528356313705,
          0.36724159121513367,
          -0.062225088477134705,
          -0.06374499201774597,
          0.19198429584503174,
          0.00468970462679863,
          -0.035163406282663345,
          0.1305440217256546,
          -0.022697092965245247,
          -0.05219244956970215,
          -0.30112048983573914,
          0.22340673208236694,
          -0.05116316303610802,
          0.05717488005757332,
          0.07669796794652939,
          -0.2616576850414276,
          0.12291665375232697,
          0.07759468257427216,
          -0.0869237408041954,
          -0.0697975680232048,
          0.17301632463932037,
          -0.452847421169281,
          0.43189844489097595,
          -0.05762491002678871,
          -0.18070659041404724,
          0.14868992567062378,
          -0.1498418003320694,
          -0.09868638217449188,
          -0.14459310472011566,
          -0.046530310064554214,
          0.18501129746437073,
          0.2130689024925232,
          -0.5327604413032532,
          -0.09689035266637802,
          0.04935215041041374,
          0.2605930268764496,
          -0.16998039186000824,
          0.633843183517456,
          -0.1943773478269577,
          0.13159920275211334,
          0.1639867126941681,
          -0.2796275317668915,
          -0.4472305178642273,
          0.004314351361244917,
          -0.10110117495059967,
          0.1963965892791748
         ],
         "y": [
          -0.13619284331798553,
          -0.026971645653247833,
          -0.2180897295475006,
          0.30669400095939636,
          -0.01571274735033512,
          -0.0367199182510376,
          -0.32734790444374084,
          0.16865618526935577,
          0.17335781455039978,
          0.1409875452518463,
          -0.932194173336029,
          0.0247191209346056,
          -0.17214663326740265,
          0.20146535336971283,
          -0.8045359253883362,
          -0.08755164593458176,
          0.040436118841171265,
          0.5981807708740234,
          -0.0851670354604721,
          0.13067476451396942,
          0.2739759087562561,
          -0.20651975274085999,
          -0.3611590564250946,
          0.1324830800294876,
          0.05571453273296356,
          -0.03549690917134285,
          0.03696296364068985,
          0.8181606531143188,
          0.014377067796885967,
          -0.12650638818740845,
          -0.751794695854187,
          -0.08453553169965744,
          0.34030503034591675,
          0.03610767424106598,
          0.29399481415748596,
          -0.06575331836938858,
          0.4239230751991272,
          -0.24921640753746033,
          0.01568702980875969,
          0.33072158694267273,
          0.16118311882019043,
          -0.033261023461818695,
          0.49255821108818054,
          -0.250751793384552,
          -0.15768419206142426,
          -0.298936128616333,
          0.2664169371128082,
          -0.06445429474115372,
          -0.2634826898574829,
          0.3272574245929718,
          0.2360791116952896,
          0.03140437975525856,
          -0.06660325080156326,
          0.07267366349697113,
          -0.18372420966625214,
          -0.2700411081314087,
          0.1514609307050705,
          -0.06720199435949326,
          0.5500974655151367,
          -0.2940775752067566,
          0.0718068778514862,
          0.05565563961863518,
          -0.22293978929519653,
          -0.1534828096628189,
          -0.03136876970529556,
          -0.16007545590400696,
          0.26626959443092346,
          0.1008225679397583,
          -0.15820416808128357,
          -0.26796218752861023,
          0.09775415807962418,
          0.26158589124679565,
          0.12146992236375809,
          -0.14126017689704895,
          0.3278656601905823,
          -0.008679348975419998,
          0.09405545145273209,
          -0.18555599451065063,
          0.28858834505081177,
          -0.3695354759693146,
          -0.19598115980625153,
          -0.1120312362909317,
          -0.05466547980904579,
          0.1869913786649704,
          0.17293156683444977,
          -0.18706326186656952,
          -0.022384680807590485,
          0.000913766329176724,
          -0.07293659448623657,
          0.44170472025871277,
          0.21159355342388153,
          0.3502938449382782,
          -0.3055875599384308,
          0.02592569962143898,
          0.23068498075008392,
          0.6462230682373047,
          -0.44698649644851685,
          0.05256487429141998,
          -0.12775205075740814,
          0.31044507026672363,
          -0.005391404498368502,
          0.49242329597473145,
          -0.23447443544864655,
          0.012545997276902199,
          0.28946653008461,
          0.001130986143834889,
          -0.48560377955436707,
          0.2922314703464508,
          0.5753092765808105,
          0.34653571248054504,
          0.35312801599502563,
          -0.04204387217760086,
          -0.13531428575515747,
          -0.2793748676776886,
          0.37537142634391785,
          0.3624800741672516,
          0.3503834903240204,
          0.022766854614019394,
          0.13072559237480164,
          0.023454051464796066,
          0.12108024209737778,
          -0.25284311175346375,
          -0.01776776649057865,
          -0.03774194419384003,
          -0.054833218455314636,
          -0.023621197789907455,
          -0.3769243359565735,
          -0.16173945367336273,
          -0.18710072338581085,
          0.2585316002368927,
          0.015089435502886772,
          0.05534917116165161,
          -0.001491254079155624,
          0.14769385755062103,
          0.2585672438144684,
          -0.12498466670513153,
          -0.04025328904390335,
          0.28122207522392273,
          -0.2062620371580124,
          -0.21816205978393555,
          0.18282006680965424,
          -0.2867221534252167,
          -0.44107240438461304,
          0.01152725052088499,
          0.041014090180397034,
          0.13176760077476501,
          -0.029278142377734184,
          0.7274799942970276,
          0.16123443841934204,
          -0.03509184718132019,
          -0.2460072636604309,
          -0.08090869337320328,
          -0.31341323256492615,
          0.05134972929954529,
          0.014045869931578636,
          -0.08139583468437195,
          -0.1055099219083786,
          0.16240139305591583,
          0.059096306562423706,
          0.0016160907689481974,
          0.2095964550971985,
          0.044098082929849625,
          -0.13488784432411194,
          0.08937231451272964,
          -0.40645211935043335,
          0.1863519847393036,
          0.1528426855802536,
          0.10287640988826752,
          -0.03550880029797554,
          -0.10224447399377823,
          -0.19678734242916107,
          0.16824737191200256,
          -0.17374743521213531,
          -0.13356129825115204,
          -0.14201930165290833,
          0.09708759933710098,
          0.12397166341543198,
          0.20911024510860443,
          0.23691725730895996,
          0.050650328397750854,
          -0.17123234272003174,
          0.20180007815361023,
          -0.38661855459213257,
          0.06900907307863235,
          0.23821701109409332,
          0.5585119724273682,
          0.17321930825710297,
          -0.2547187805175781,
          -0.06060650944709778,
          -0.048315081745386124,
          -0.12187414616346359,
          0.4266675114631653,
          -0.17974859476089478,
          -0.2636270523071289,
          0.05382820963859558,
          0.26056918501853943,
          -0.2216036319732666,
          -0.09241978824138641,
          -0.19605593383312225,
          -0.2856936454772949,
          -0.056785039603710175,
          0.06929952651262283,
          0.1972963809967041,
          0.18354642391204834,
          -0.021440083160996437,
          -0.11703616380691528,
          0.4855208396911621,
          -0.0007526070112362504,
          -0.12910208106040955,
          -0.30300456285476685,
          0.0632200837135315,
          -0.05485795810818672,
          -0.08848264813423157,
          -0.062424592673778534,
          -0.01661580614745617,
          0.19079375267028809,
          -0.21935665607452393,
          -0.24398787319660187,
          -0.15787264704704285,
          0.06731117516756058,
          -0.03591098263859749,
          0.12916740775108337,
          0.025801638141274452,
          -0.263426810503006,
          0.2795795202255249,
          -0.18280930817127228,
          0.13874265551567078,
          0.3880958557128906,
          -0.2790190279483795,
          -0.029207902029156685,
          0.07382677495479584,
          -0.38395756483078003,
          -0.014237524941563606,
          0.43317362666130066,
          0.36928245425224304,
          -0.12742355465888977,
          -0.04101122170686722,
          -0.33782970905303955,
          0.009550371207296848,
          0.10441837459802628,
          0.14630909264087677,
          -0.2254892885684967,
          -0.1206197664141655,
          0.06222092732787132,
          -0.17693732678890228,
          -0.1107543483376503,
          -0.1589706689119339,
          -0.09217257797718048,
          -0.3776296377182007,
          -0.2681569755077362,
          0.1798134595155716,
          -0.06677956134080887,
          -0.20753279328346252,
          0.5783549547195435,
          -0.06989786773920059,
          0.3798061013221741,
          -0.061445169150829315,
          0.10408404469490051,
          -0.06928558647632599,
          -0.19332025945186615,
          0.24609428644180298,
          -0.24024289846420288,
          0.2752067446708679,
          -0.15525095164775848,
          -0.011436795815825462,
          -0.013078060932457447,
          -0.1398107260465622,
          -0.2431437373161316,
          -0.0404474176466465,
          0.19367577135562897,
          -0.615158200263977,
          -0.2055576890707016,
          0.11404576897621155,
          0.19334566593170166,
          -0.26003777980804443,
          -0.1384085863828659,
          -0.3243931829929352,
          -0.48040202260017395,
          0.08785264939069748,
          -0.09543465077877045,
          -0.05220723897218704,
          0.3363955318927765,
          -0.14348983764648438,
          0.13936910033226013,
          0.05851176008582115,
          -0.3414730131626129,
          0.352476567029953,
          -0.364553302526474,
          0.0007131918682716787,
          0.08096501231193542,
          -0.12925687432289124,
          -0.07089224457740784,
          -0.34292295575141907,
          -0.10687579959630966,
          -0.028408676385879517,
          -0.07743173837661743,
          -0.023374177515506744,
          0.1202477216720581,
          0.4124357998371124,
          -0.0649026557803154,
          -0.11576849222183228,
          0.020026061683893204,
          0.17157773673534393,
          0.16231200098991394,
          -0.08335454761981964,
          0.4616488814353943,
          0.5894811749458313,
          0.2931711673736572,
          0.10047231614589691,
          0.045519474893808365,
          0.04057250916957855,
          -0.14142335951328278,
          0.005656789522618055,
          -0.07579822838306427,
          -0.23289288580417633,
          0.6140903830528259,
          -0.12462954968214035,
          0.1697138398885727,
          -0.07007196545600891,
          0.1369890570640564,
          0.04626781493425369,
          -0.43794360756874084,
          0.29149186611175537,
          -0.1151704341173172,
          0.12290831655263901,
          0.04659140110015869,
          0.003187544411048293,
          -0.17773814499378204,
          0.0075655486434698105,
          -0.3990232050418854,
          0.2816147208213806,
          0.06004834920167923,
          0.11574935168027878,
          -0.6530295610427856,
          0.17041060328483582,
          0.5003339052200317,
          -0.19093504548072815,
          -0.08585447818040848,
          0.27860358357429504,
          -0.14798937737941742,
          -0.1438247710466385,
          -0.18312329053878784,
          -0.026327813044190407,
          -0.058270733803510666,
          -0.15412841737270355,
          0.2521558701992035,
          -0.1872161626815796,
          0.04177916422486305,
          0.32623764872550964,
          0.025580285117030144,
          0.014842839911580086,
          0.35294944047927856,
          -0.2860155701637268,
          0.1356375515460968,
          0.222286656498909,
          0.15528780221939087,
          -0.00896649993956089,
          0.24135370552539825,
          -0.038604702800512314,
          -0.1191132515668869,
          -0.14601992070674896,
          -0.09155555814504623,
          0.6391060948371887,
          0.5219051837921143,
          0.23821647465229034,
          0.30597609281539917,
          -0.49635884165763855,
          -0.238413468003273,
          -0.12555387616157532,
          0.40342089533805847,
          0.29948368668556213,
          -0.09264209866523743,
          0.3171928822994232,
          0.27459588646888733,
          0.15348954498767853,
          -0.006832417566329241,
          0.034658320248126984,
          0.062264394015073776,
          -0.2095644474029541,
          0.30902737379074097,
          0.22968219220638275,
          0.06537865847349167,
          -0.02906661666929722,
          -0.28378069400787354,
          0.21890248358249664,
          -0.17393852770328522,
          0.06744558364152908,
          0.22072915732860565,
          0.09706857055425644,
          0.02971773035824299,
          -0.10201147198677063,
          0.06644868105649948,
          -0.22131463885307312,
          -0.1951816976070404,
          0.4011787176132202,
          0.41543257236480713,
          -0.18093115091323853,
          -0.5168761014938354,
          0.12976054847240448,
          0.20441192388534546,
          0.34693095088005066,
          0.47420281171798706,
          0.28288209438323975,
          0.18164698779582977,
          -0.16559362411499023,
          0.08338188380002975,
          -0.17683888971805573,
          -0.30130675435066223,
          -0.10832304507493973,
          0.08168182522058487,
          -0.3275522291660309,
          0.11052458733320236,
          -0.19663409888744354,
          0.5361344814300537,
          0.043535176664590836,
          -0.04585551097989082,
          0.03997606039047241,
          -0.0760759562253952,
          0.21844086050987244,
          0.03133237361907959,
          0.03784225881099701,
          -0.3980776369571686,
          -0.30805689096450806,
          0.17942315340042114,
          0.024944182485342026,
          -0.08300544321537018,
          -0.2654382884502411,
          0.3597680330276489,
          0.044884391129016876,
          0.027987908571958542,
          0.5812824964523315,
          0.03439623862504959,
          0.12454124540090561,
          0.001898258808068931,
          -0.008571827784180641,
          0.09473935514688492,
          -0.22374731302261353,
          0.1331907957792282,
          -0.055554863065481186,
          -0.28111210465431213,
          0.16155347228050232,
          -0.07819855958223343,
          -0.06454236805438995,
          0.07012499123811722,
          0.08419309556484222,
          -0.15083537995815277,
          0.16933423280715942,
          0.583615243434906,
          0.011396076530218124,
          -0.10737805813550949,
          -0.14957617223262787,
          0.07533016800880432,
          0.022621620446443558,
          0.14129191637039185,
          0.12999022006988525,
          -0.33489489555358887,
          0.0010036525782197714,
          0.12133567780256271,
          -0.27156519889831543,
          -0.01575881615281105,
          0.03381868824362755,
          -0.13668733835220337,
          -0.06543391942977905,
          0.008281712420284748,
          0.37337541580200195,
          -0.2544867992401123,
          0.09732484817504883,
          -0.039812587201595306,
          -0.011368315666913986,
          0.33771488070487976,
          -0.0716746374964714,
          -0.09977663308382034,
          0.05921846628189087,
          0.06290501356124878,
          -0.19821707904338837,
          0.4029044210910797,
          -0.4612467288970947,
          0.019522296264767647,
          0.15972547233104706,
          -0.11127583682537079,
          0.17115220427513123,
          0.12367246299982071,
          0.16713683307170868,
          0.08921747654676437,
          -0.15615564584732056,
          -0.19584034383296967,
          0.5363109707832336,
          0.01709415391087532,
          -0.08291909098625183,
          -0.25356876850128174,
          0.18786707520484924,
          -0.5992689728736877,
          0.18844802677631378,
          -0.1808670163154602,
          -0.1450568437576294,
          0.2375575751066208,
          0.44534650444984436,
          -0.02495713345706463,
          0.10727238655090332,
          -0.240392804145813
         ]
        }
       ],
       "layout": {
        "hovermode": "closest",
        "template": {
         "data": {
          "bar": [
           {
            "error_x": {
             "color": "#2a3f5f"
            },
            "error_y": {
             "color": "#2a3f5f"
            },
            "marker": {
             "line": {
              "color": "#E5ECF6",
              "width": 0.5
             },
             "pattern": {
              "fillmode": "overlay",
              "size": 10,
              "solidity": 0.2
             }
            },
            "type": "bar"
           }
          ],
          "barpolar": [
           {
            "marker": {
             "line": {
              "color": "#E5ECF6",
              "width": 0.5
             },
             "pattern": {
              "fillmode": "overlay",
              "size": 10,
              "solidity": 0.2
             }
            },
            "type": "barpolar"
           }
          ],
          "carpet": [
           {
            "aaxis": {
             "endlinecolor": "#2a3f5f",
             "gridcolor": "white",
             "linecolor": "white",
             "minorgridcolor": "white",
             "startlinecolor": "#2a3f5f"
            },
            "baxis": {
             "endlinecolor": "#2a3f5f",
             "gridcolor": "white",
             "linecolor": "white",
             "minorgridcolor": "white",
             "startlinecolor": "#2a3f5f"
            },
            "type": "carpet"
           }
          ],
          "choropleth": [
           {
            "colorbar": {
             "outlinewidth": 0,
             "ticks": ""
            },
            "type": "choropleth"
           }
          ],
          "contour": [
           {
            "colorbar": {
             "outlinewidth": 0,
             "ticks": ""
            },
            "colorscale": [
             [
              0,
              "#0d0887"
             ],
             [
              0.1111111111111111,
              "#46039f"
             ],
             [
              0.2222222222222222,
              "#7201a8"
             ],
             [
              0.3333333333333333,
              "#9c179e"
             ],
             [
              0.4444444444444444,
              "#bd3786"
             ],
             [
              0.5555555555555556,
              "#d8576b"
             ],
             [
              0.6666666666666666,
              "#ed7953"
             ],
             [
              0.7777777777777778,
              "#fb9f3a"
             ],
             [
              0.8888888888888888,
              "#fdca26"
             ],
             [
              1,
              "#f0f921"
             ]
            ],
            "type": "contour"
           }
          ],
          "contourcarpet": [
           {
            "colorbar": {
             "outlinewidth": 0,
             "ticks": ""
            },
            "type": "contourcarpet"
           }
          ],
          "heatmap": [
           {
            "colorbar": {
             "outlinewidth": 0,
             "ticks": ""
            },
            "colorscale": [
             [
              0,
              "#0d0887"
             ],
             [
              0.1111111111111111,
              "#46039f"
             ],
             [
              0.2222222222222222,
              "#7201a8"
             ],
             [
              0.3333333333333333,
              "#9c179e"
             ],
             [
              0.4444444444444444,
              "#bd3786"
             ],
             [
              0.5555555555555556,
              "#d8576b"
             ],
             [
              0.6666666666666666,
              "#ed7953"
             ],
             [
              0.7777777777777778,
              "#fb9f3a"
             ],
             [
              0.8888888888888888,
              "#fdca26"
             ],
             [
              1,
              "#f0f921"
             ]
            ],
            "type": "heatmap"
           }
          ],
          "heatmapgl": [
           {
            "colorbar": {
             "outlinewidth": 0,
             "ticks": ""
            },
            "colorscale": [
             [
              0,
              "#0d0887"
             ],
             [
              0.1111111111111111,
              "#46039f"
             ],
             [
              0.2222222222222222,
              "#7201a8"
             ],
             [
              0.3333333333333333,
              "#9c179e"
             ],
             [
              0.4444444444444444,
              "#bd3786"
             ],
             [
              0.5555555555555556,
              "#d8576b"
             ],
             [
              0.6666666666666666,
              "#ed7953"
             ],
             [
              0.7777777777777778,
              "#fb9f3a"
             ],
             [
              0.8888888888888888,
              "#fdca26"
             ],
             [
              1,
              "#f0f921"
             ]
            ],
            "type": "heatmapgl"
           }
          ],
          "histogram": [
           {
            "marker": {
             "pattern": {
              "fillmode": "overlay",
              "size": 10,
              "solidity": 0.2
             }
            },
            "type": "histogram"
           }
          ],
          "histogram2d": [
           {
            "colorbar": {
             "outlinewidth": 0,
             "ticks": ""
            },
            "colorscale": [
             [
              0,
              "#0d0887"
             ],
             [
              0.1111111111111111,
              "#46039f"
             ],
             [
              0.2222222222222222,
              "#7201a8"
             ],
             [
              0.3333333333333333,
              "#9c179e"
             ],
             [
              0.4444444444444444,
              "#bd3786"
             ],
             [
              0.5555555555555556,
              "#d8576b"
             ],
             [
              0.6666666666666666,
              "#ed7953"
             ],
             [
              0.7777777777777778,
              "#fb9f3a"
             ],
             [
              0.8888888888888888,
              "#fdca26"
             ],
             [
              1,
              "#f0f921"
             ]
            ],
            "type": "histogram2d"
           }
          ],
          "histogram2dcontour": [
           {
            "colorbar": {
             "outlinewidth": 0,
             "ticks": ""
            },
            "colorscale": [
             [
              0,
              "#0d0887"
             ],
             [
              0.1111111111111111,
              "#46039f"
             ],
             [
              0.2222222222222222,
              "#7201a8"
             ],
             [
              0.3333333333333333,
              "#9c179e"
             ],
             [
              0.4444444444444444,
              "#bd3786"
             ],
             [
              0.5555555555555556,
              "#d8576b"
             ],
             [
              0.6666666666666666,
              "#ed7953"
             ],
             [
              0.7777777777777778,
              "#fb9f3a"
             ],
             [
              0.8888888888888888,
              "#fdca26"
             ],
             [
              1,
              "#f0f921"
             ]
            ],
            "type": "histogram2dcontour"
           }
          ],
          "mesh3d": [
           {
            "colorbar": {
             "outlinewidth": 0,
             "ticks": ""
            },
            "type": "mesh3d"
           }
          ],
          "parcoords": [
           {
            "line": {
             "colorbar": {
              "outlinewidth": 0,
              "ticks": ""
             }
            },
            "type": "parcoords"
           }
          ],
          "pie": [
           {
            "automargin": true,
            "type": "pie"
           }
          ],
          "scatter": [
           {
            "fillpattern": {
             "fillmode": "overlay",
             "size": 10,
             "solidity": 0.2
            },
            "type": "scatter"
           }
          ],
          "scatter3d": [
           {
            "line": {
             "colorbar": {
              "outlinewidth": 0,
              "ticks": ""
             }
            },
            "marker": {
             "colorbar": {
              "outlinewidth": 0,
              "ticks": ""
             }
            },
            "type": "scatter3d"
           }
          ],
          "scattercarpet": [
           {
            "marker": {
             "colorbar": {
              "outlinewidth": 0,
              "ticks": ""
             }
            },
            "type": "scattercarpet"
           }
          ],
          "scattergeo": [
           {
            "marker": {
             "colorbar": {
              "outlinewidth": 0,
              "ticks": ""
             }
            },
            "type": "scattergeo"
           }
          ],
          "scattergl": [
           {
            "marker": {
             "colorbar": {
              "outlinewidth": 0,
              "ticks": ""
             }
            },
            "type": "scattergl"
           }
          ],
          "scattermapbox": [
           {
            "marker": {
             "colorbar": {
              "outlinewidth": 0,
              "ticks": ""
             }
            },
            "type": "scattermapbox"
           }
          ],
          "scatterpolar": [
           {
            "marker": {
             "colorbar": {
              "outlinewidth": 0,
              "ticks": ""
             }
            },
            "type": "scatterpolar"
           }
          ],
          "scatterpolargl": [
           {
            "marker": {
             "colorbar": {
              "outlinewidth": 0,
              "ticks": ""
             }
            },
            "type": "scatterpolargl"
           }
          ],
          "scatterternary": [
           {
            "marker": {
             "colorbar": {
              "outlinewidth": 0,
              "ticks": ""
             }
            },
            "type": "scatterternary"
           }
          ],
          "surface": [
           {
            "colorbar": {
             "outlinewidth": 0,
             "ticks": ""
            },
            "colorscale": [
             [
              0,
              "#0d0887"
             ],
             [
              0.1111111111111111,
              "#46039f"
             ],
             [
              0.2222222222222222,
              "#7201a8"
             ],
             [
              0.3333333333333333,
              "#9c179e"
             ],
             [
              0.4444444444444444,
              "#bd3786"
             ],
             [
              0.5555555555555556,
              "#d8576b"
             ],
             [
              0.6666666666666666,
              "#ed7953"
             ],
             [
              0.7777777777777778,
              "#fb9f3a"
             ],
             [
              0.8888888888888888,
              "#fdca26"
             ],
             [
              1,
              "#f0f921"
             ]
            ],
            "type": "surface"
           }
          ],
          "table": [
           {
            "cells": {
             "fill": {
              "color": "#EBF0F8"
             },
             "line": {
              "color": "white"
             }
            },
            "header": {
             "fill": {
              "color": "#C8D4E3"
             },
             "line": {
              "color": "white"
             }
            },
            "type": "table"
           }
          ]
         },
         "layout": {
          "annotationdefaults": {
           "arrowcolor": "#2a3f5f",
           "arrowhead": 0,
           "arrowwidth": 1
          },
          "autotypenumbers": "strict",
          "coloraxis": {
           "colorbar": {
            "outlinewidth": 0,
            "ticks": ""
           }
          },
          "colorscale": {
           "diverging": [
            [
             0,
             "#8e0152"
            ],
            [
             0.1,
             "#c51b7d"
            ],
            [
             0.2,
             "#de77ae"
            ],
            [
             0.3,
             "#f1b6da"
            ],
            [
             0.4,
             "#fde0ef"
            ],
            [
             0.5,
             "#f7f7f7"
            ],
            [
             0.6,
             "#e6f5d0"
            ],
            [
             0.7,
             "#b8e186"
            ],
            [
             0.8,
             "#7fbc41"
            ],
            [
             0.9,
             "#4d9221"
            ],
            [
             1,
             "#276419"
            ]
           ],
           "sequential": [
            [
             0,
             "#0d0887"
            ],
            [
             0.1111111111111111,
             "#46039f"
            ],
            [
             0.2222222222222222,
             "#7201a8"
            ],
            [
             0.3333333333333333,
             "#9c179e"
            ],
            [
             0.4444444444444444,
             "#bd3786"
            ],
            [
             0.5555555555555556,
             "#d8576b"
            ],
            [
             0.6666666666666666,
             "#ed7953"
            ],
            [
             0.7777777777777778,
             "#fb9f3a"
            ],
            [
             0.8888888888888888,
             "#fdca26"
            ],
            [
             1,
             "#f0f921"
            ]
           ],
           "sequentialminus": [
            [
             0,
             "#0d0887"
            ],
            [
             0.1111111111111111,
             "#46039f"
            ],
            [
             0.2222222222222222,
             "#7201a8"
            ],
            [
             0.3333333333333333,
             "#9c179e"
            ],
            [
             0.4444444444444444,
             "#bd3786"
            ],
            [
             0.5555555555555556,
             "#d8576b"
            ],
            [
             0.6666666666666666,
             "#ed7953"
            ],
            [
             0.7777777777777778,
             "#fb9f3a"
            ],
            [
             0.8888888888888888,
             "#fdca26"
            ],
            [
             1,
             "#f0f921"
            ]
           ]
          },
          "colorway": [
           "#636efa",
           "#EF553B",
           "#00cc96",
           "#ab63fa",
           "#FFA15A",
           "#19d3f3",
           "#FF6692",
           "#B6E880",
           "#FF97FF",
           "#FECB52"
          ],
          "font": {
           "color": "#2a3f5f"
          },
          "geo": {
           "bgcolor": "white",
           "lakecolor": "white",
           "landcolor": "#E5ECF6",
           "showlakes": true,
           "showland": true,
           "subunitcolor": "white"
          },
          "hoverlabel": {
           "align": "left"
          },
          "hovermode": "closest",
          "mapbox": {
           "style": "light"
          },
          "paper_bgcolor": "white",
          "plot_bgcolor": "#E5ECF6",
          "polar": {
           "angularaxis": {
            "gridcolor": "white",
            "linecolor": "white",
            "ticks": ""
           },
           "bgcolor": "#E5ECF6",
           "radialaxis": {
            "gridcolor": "white",
            "linecolor": "white",
            "ticks": ""
           }
          },
          "scene": {
           "xaxis": {
            "backgroundcolor": "#E5ECF6",
            "gridcolor": "white",
            "gridwidth": 2,
            "linecolor": "white",
            "showbackground": true,
            "ticks": "",
            "zerolinecolor": "white"
           },
           "yaxis": {
            "backgroundcolor": "#E5ECF6",
            "gridcolor": "white",
            "gridwidth": 2,
            "linecolor": "white",
            "showbackground": true,
            "ticks": "",
            "zerolinecolor": "white"
           },
           "zaxis": {
            "backgroundcolor": "#E5ECF6",
            "gridcolor": "white",
            "gridwidth": 2,
            "linecolor": "white",
            "showbackground": true,
            "ticks": "",
            "zerolinecolor": "white"
           }
          },
          "shapedefaults": {
           "line": {
            "color": "#2a3f5f"
           }
          },
          "ternary": {
           "aaxis": {
            "gridcolor": "white",
            "linecolor": "white",
            "ticks": ""
           },
           "baxis": {
            "gridcolor": "white",
            "linecolor": "white",
            "ticks": ""
           },
           "bgcolor": "#E5ECF6",
           "caxis": {
            "gridcolor": "white",
            "linecolor": "white",
            "ticks": ""
           }
          },
          "title": {
           "x": 0.05
          },
          "xaxis": {
           "automargin": true,
           "gridcolor": "white",
           "linecolor": "white",
           "ticks": "",
           "title": {
            "standoff": 15
           },
           "zerolinecolor": "white",
           "zerolinewidth": 2
          },
          "yaxis": {
           "automargin": true,
           "gridcolor": "white",
           "linecolor": "white",
           "ticks": "",
           "title": {
            "standoff": 15
           },
           "zerolinecolor": "white",
           "zerolinewidth": 2
          }
         }
        },
        "title": {
         "text": "Word Embeddings"
        }
       }
      }
     },
     "metadata": {},
     "output_type": "display_data"
    }
   ],
   "source": [
    "def plot_2d_embeddings(embeddings, id_start=1, count=100):\n",
    "  # Get 1st and 2nd embedding dims for the desired tokens.\n",
    "  x1 = embeddings[id_start:id_start+count, 0]\n",
    "  x2 = embeddings[id_start:id_start+count, 1]\n",
    "  \n",
    "  # Get the corresponding words from the reverse index (for labeling).\n",
    "  tokens = [reverse_index[i] for i in range(id_start, id_start+count)]\n",
    "\n",
    "  # Plot with the plotly library.\n",
    "  data = plotly.Scatter(x=x1, y=x2, text=tokens,\n",
    "                        mode='markers', textposition='bottom left',\n",
    "                        hoverinfo='text')\n",
    "  fig = plotly.Figure(data=[data],\n",
    "                      layout=plotly.Layout(title=\"Word Embeddings\",\n",
    "                                           hovermode='closest'))\n",
    "  fig.show()\n",
    "\n",
    "# Very frequent tokens tend to be more syntactic than semantic, so let's plot\n",
    "# some rarer words.    \n",
    "plot_2d_embeddings(embeddings2, id_start=500, count=500)"
   ]
  },
  {
   "cell_type": "markdown",
   "metadata": {},
   "source": [
    "### <span style=\"color:chocolate\">Exercise 8:</span> Interpreting embeddings (20 points)"
   ]
  },
  {
   "cell_type": "markdown",
   "metadata": {
    "id": "Z3Mm8MjRcZ20"
   },
   "source": [
    "Notice that the 2-D embeddings fall in a narrow diagonal band. Answer the following questions:\n",
    "\n",
    "1. Have the learned embeddings separated positive and negative words? What is the most negative word? Does this make sense?\n",
    "2. Give 2 examples of words that seem to have surprising embedding values and try to explain their positions. For example, what's going on with the tokens '7', '8', and '9'? What are two other surprising results?\n",
    "3. The embedding for 'crazy' is very close to (0,0). Explain what this means in terms of the model's output.\n",
    "4. Can you explain what you think the 2 learned embedding dimensions mean, if anything?"
   ]
  },
  {
   "cell_type": "markdown",
   "metadata": {
    "id": "x_qAAvvo2y3t"
   },
   "source": [
    "YOUR ANSWER HERE\n",
    "\n",
    "1. \n",
    "\n",
    "2. \n",
    "\n",
    "3. \n",
    "\n",
    "4. \n"
   ]
  },
  {
   "cell_type": "markdown",
   "metadata": {},
   "source": [
    "----\n",
    "### <span style=\"color:chocolate\">Bonus question: </span> More data and bigger models (20 points)"
   ]
  },
  {
   "cell_type": "markdown",
   "metadata": {
    "id": "IXCitmUvxfwb"
   },
   "source": [
    "Remember how you limited your input sequences to 20 tokens and 1000 vocabulary entries? Let's see how well you can do using more data and bigger models (more parameters)."
   ]
  },
  {
   "cell_type": "markdown",
   "metadata": {},
   "source": [
    "Using pieces of code from above, set up and train a model to achieve at least 80% accuracy on both training and validation data. Ensure the following elements are included:\n",
    "\n",
    "1. Truncate and pad input to the desired length;\n",
    "2. Limit the vocabulary to the desired size;\n",
    "3. Set up a model using embeddings;\n",
    "4. Use the averaging strategy rather than the concatenating strategy;\n",
    "5. Add additional layer(s) after the GlobalAveragePooling1D layer and before the output layer;\n",
    "6. Evaluate the model's performance on the test data and comment on its generalization performance. Hint: remember to apply the same preprocessing to the test data. Use the <span style=\"color:chocolate\">model.evaluate()</span> function for the final evaluation."
   ]
  },
  {
   "cell_type": "code",
   "execution_count": null,
   "metadata": {
    "id": "ekbJ4sIq2hID"
   },
   "outputs": [],
   "source": [
    "# YOUR CODE HERE"
   ]
  }
 ],
 "metadata": {
  "colab": {
   "authorship_tag": "ABX9TyMbG/uKJC3itEUb58OjZyV3",
   "name": "09 Embeddings for Text.ipynb",
   "provenance": []
  },
  "kernelspec": {
   "display_name": "Python 3 (ipykernel)",
   "language": "python",
   "name": "python3"
  },
  "language_info": {
   "codemirror_mode": {
    "name": "ipython",
    "version": 3
   },
   "file_extension": ".py",
   "mimetype": "text/x-python",
   "name": "python",
   "nbconvert_exporter": "python",
   "pygments_lexer": "ipython3",
   "version": "3.10.0"
  }
 },
 "nbformat": 4,
 "nbformat_minor": 4
}
