{
 "cells": [
  {
   "cell_type": "markdown",
   "id": "fb19a209",
   "metadata": {},
   "source": [
    "# Assignment 0"
   ]
  },
  {
   "cell_type": "markdown",
   "id": "70578e9a",
   "metadata": {},
   "source": [
    "### <span style=\"color:chocolate\"> Submission requirements </span>\n",
    "\n",
    "Your work will not be graded if your notebook doesn't include output. In other words, <span style=\"color:red\"> make sure to rerun your notebook before submitting to Gradescope </span> (Note: if you are using Google Colab: go to Edit > Notebook Settings  and uncheck Omit code cell output when saving this notebook, otherwise the output is not printed).\n",
    "\n",
    "Additional points may be deducted if these requirements are not met:\n",
    "    \n",
    "* Comment your code;\n",
    "* Each graph should have a title, labels for each axis, and (if needed) a legend. Each graph should be understandable on its own;\n",
    "* Try and minimize the use of the global namespace (meaning, keep things inside functions).\n",
    "---"
   ]
  },
  {
   "cell_type": "markdown",
   "id": "13a171ed",
   "metadata": {},
   "source": [
    "### Import libraries"
   ]
  },
  {
   "cell_type": "code",
   "execution_count": 146,
   "id": "a64b2988",
   "metadata": {},
   "outputs": [],
   "source": [
    "import numpy as np"
   ]
  },
  {
   "cell_type": "markdown",
   "id": "809e27ae",
   "metadata": {},
   "source": [
    "---\n",
    "### <span style=\"color:chocolate\">Exercise 1:</span> Homogenous data types (10 points)\n",
    "\n",
    "1. Create a numpy array (my_array1) containing only integer values. Print the shape of the array and the type of its elements;\n",
    "2. Create another numpy array (my_array2) containing a mix of integer and string values. Print the shape of the array and the type of its elements. Comment on the type of its elements."
   ]
  },
  {
   "cell_type": "code",
   "execution_count": 147,
   "id": "ae568991",
   "metadata": {},
   "outputs": [
    {
     "name": "stdout",
     "output_type": "stream",
     "text": [
      "shape of my_array1: (5,)\n",
      "type of my_array1: int64\n",
      "shape of my_array2: (4,)\n",
      "type of my_array2: object\n"
     ]
    }
   ],
   "source": [
    "# YOUR CODE HERE\n",
    "\n",
    "my_array1 = np.array([1, 2, 3, 4, 5], dtype = np.int64)\n",
    "print(f\"shape of my_array1: {my_array1.shape}\")\n",
    "print(f\"type of my_array1: {my_array1.dtype}\")\n",
    "\n",
    "# use object type to store elements of mixed type in a numpy array\n",
    "my_array2 = np.array([\"account_1\", 100, \"account_2\", 200], dtype = object)\n",
    "print(f\"shape of my_array2: {my_array2.shape}\")\n",
    "print(f\"type of my_array2: {my_array2.dtype}\")"
   ]
  },
  {
   "cell_type": "markdown",
   "id": "dd2832bf",
   "metadata": {},
   "source": [
    "---\n",
    "#### <span style=\"color:chocolate\">Exercise 2:</span> The size attribute (10 points)\n",
    "\n",
    "Create a numpy array (my_array3) and print its shape, size, and data type. What does size represent?"
   ]
  },
  {
   "cell_type": "code",
   "execution_count": 148,
   "id": "cca6b9a0",
   "metadata": {},
   "outputs": [
    {
     "name": "stdout",
     "output_type": "stream",
     "text": [
      "(2, 4)\n",
      "8\n",
      "int64\n"
     ]
    }
   ],
   "source": [
    "# YOUR CODE HERE\n",
    "\n",
    "my_array3 = np.array([[1, 2, 3, 4], [5, 6, 7, 8]])\n",
    "\n",
    "print(my_array3.shape)\n",
    "print(my_array3.size)       # size represents the number of elements in the array\n",
    "print(my_array3.dtype)"
   ]
  },
  {
   "cell_type": "markdown",
   "id": "6b407fab",
   "metadata": {},
   "source": [
    "---\n",
    "#### <span style=\"color:chocolate\">Exercise 3:</span> Tabular data layout (10 points)"
   ]
  },
  {
   "cell_type": "markdown",
   "id": "dd66e32a",
   "metadata": {},
   "source": [
    "Create a tabular data layout using the numpy method <span style=\"color:chocolate\">np.random.random()</span>, where:\n",
    "* the first input is num_samples, and\n",
    "* the second input is num_features. \n",
    "\n",
    "Print the shape of the array."
   ]
  },
  {
   "cell_type": "code",
   "execution_count": 149,
   "id": "742399c2",
   "metadata": {},
   "outputs": [
    {
     "name": "stdout",
     "output_type": "stream",
     "text": [
      "(100, 17)\n"
     ]
    }
   ],
   "source": [
    "# already defined first and second inputs\n",
    "num_samples = 100\n",
    "num_features = 17\n",
    "\n",
    "# YOUR CODE HERE\n",
    "tabular_array = np.random.random((num_samples, num_features))\n",
    "print(tabular_array.shape)"
   ]
  },
  {
   "cell_type": "markdown",
   "id": "100cc7cb",
   "metadata": {},
   "source": [
    "---\n",
    "#### <span style=\"color:chocolate\">Exercise 4:</span> Image data layout (10 points)"
   ]
  },
  {
   "cell_type": "markdown",
   "id": "1b5bf451",
   "metadata": {},
   "source": [
    "Create an image data layout using the numpy method <span style=\"color:chocolate\">np.random.random()</span>, where:\n",
    "\n",
    "* the first input is num_images;\n",
    "* the second input is num_rows;\n",
    "* the third input is num_cols;\n",
    "* the fourth input is num_channels.\n",
    "\n",
    "Print the shape of the array."
   ]
  },
  {
   "cell_type": "code",
   "execution_count": 150,
   "id": "51f6deb1",
   "metadata": {},
   "outputs": [
    {
     "name": "stdout",
     "output_type": "stream",
     "text": [
      "(100, 256, 256, 3)\n"
     ]
    }
   ],
   "source": [
    "# already defined inputs\n",
    "num_images = 100\n",
    "num_rows = 256\n",
    "num_cols = 256\n",
    "num_channels = 3 #(RGB)\n",
    "\n",
    "# YOUR CODE HERE\n",
    "image_data = np.random.random((num_images, num_rows, num_cols, num_channels))\n",
    "print(image_data.shape)"
   ]
  },
  {
   "cell_type": "markdown",
   "id": "33ee5e31",
   "metadata": {},
   "source": [
    "---\n",
    "#### <span style=\"color:chocolate\">Exercise 5: </span>Mathematical operations on numpy arrays (15 points)"
   ]
  },
  {
   "cell_type": "markdown",
   "id": "7f4b8b1f",
   "metadata": {},
   "source": [
    "Create a (3, 2) numpy array (you can name it my_array4) containing only integer values. Perform the following tasks:\n",
    "\n",
    "1. Print the shape of the array;\n",
    "2. Print the sum of all elements (hint: the axis argument is set to None);\n",
    "3. Print the sum of all elements by column;\n",
    "3. Print the sum of all elements by row and change the type of the resulting array elements to float;\n",
    "5. Print the first row of the array;\n",
    "6. Print the second row of the array;\n",
    "7. Select the element at position (1, 0);\n",
    "8. Modify the element at position (2, 1) by setting its value to 10 and print the array again;\n",
    "9. Loop over elements in the array. Print the output."
   ]
  },
  {
   "cell_type": "code",
   "execution_count": 151,
   "id": "a329fbf5",
   "metadata": {},
   "outputs": [
    {
     "name": "stdout",
     "output_type": "stream",
     "text": [
      "(3, 2)\n",
      "35\n",
      "[22 13]\n",
      "[15  7 13]\n",
      "[9 6]\n",
      "[4 3]\n",
      "4\n",
      "[[ 9  6]\n",
      " [ 4  3]\n",
      " [ 9 10]]\n",
      "9\n",
      "6\n",
      "4\n",
      "3\n",
      "9\n",
      "10\n"
     ]
    }
   ],
   "source": [
    "# YOUR CODE HERE\n",
    "my_array4 = np.random.randint(10, size = (3, 2))\n",
    "\n",
    "print(my_array4.shape)\n",
    "print(my_array4.sum())\n",
    "print(my_array4.sum(axis=0))\n",
    "print(my_array4.sum(axis=1))\n",
    "print(my_array4[0,])\n",
    "print(my_array4[1,])\n",
    "print(my_array4[1, 0])\n",
    "\n",
    "my_array4[2, 1] = 10\n",
    "print(my_array4)\n",
    "\n",
    "for x in np.nditer(my_array4):\n",
    "    print(x)\n"
   ]
  },
  {
   "cell_type": "markdown",
   "id": "33d6dc65",
   "metadata": {},
   "source": [
    "You can find more examples here: https://numpy.org/doc/stable/reference/routines.math.html"
   ]
  },
  {
   "cell_type": "markdown",
   "id": "3cbf1bcb",
   "metadata": {},
   "source": [
    "---\n",
    "#### <span style=\"color:chocolate\">Exercise 6:</span> Create arrays (15 points)\n",
    "\n",
    "1. Create and print a (3,2) numpy array of pixel values between 0 and 1.\n",
    "2. Create and print a (27,) numpy array representing years from 1991 to 2017\n",
    "3. Create and print a (3, 5, 10) empty numpy array\n",
    "4. Create and print a (3, 5, 10) numpy array of ones\n",
    "5. Create and print an array with a constant value (let's say 5) using np.ones()\n",
    "6. Create and print an array with random numbers drawn from a normal distribution with mean 0 and standard deviation 1. Set the sample size to 10.\n"
   ]
  },
  {
   "cell_type": "code",
   "execution_count": 152,
   "id": "7b13c758",
   "metadata": {},
   "outputs": [
    {
     "name": "stdout",
     "output_type": "stream",
     "text": [
      "[[0.57281228 0.53403895]\n",
      " [0.66869277 0.86371304]\n",
      " [0.10115908 0.70845544]]\n",
      "[1991 1992 1993 1994 1995 1996 1997 1998 1999 2000 2001 2002 2003 2004\n",
      " 2005 2006 2007 2008 2009 2010 2011 2012 2013 2014 2015 2016 2017]\n",
      "[[[6.24466631e-310 6.24466631e-310 5.48645777e-310 5.48645777e-310\n",
      "   6.24466611e-310 6.24463901e-310 6.24466488e-310 6.24466611e-310\n",
      "   6.24463901e-310 6.24466601e-310]\n",
      "  [6.24466611e-310 6.24463901e-310 6.24465788e-310 6.24466611e-310\n",
      "   6.24466411e-310 6.24466614e-310 6.24466611e-310 6.24466614e-310\n",
      "   6.24466619e-310 6.24466614e-310]\n",
      "  [6.24466611e-310 6.24466614e-310 6.24466614e-310 6.24466488e-310\n",
      "   6.24466488e-310 6.24466488e-310 6.24466601e-310 6.24465788e-310\n",
      "   6.24466488e-310 6.24463901e-310]\n",
      "  [6.24466617e-310 6.24466611e-310 6.24466617e-310 6.24466439e-310\n",
      "   6.24466611e-310 6.24466611e-310 6.24466611e-310 6.24466611e-310\n",
      "   6.24466611e-310 6.24466614e-310]\n",
      "  [6.24466617e-310 6.24466617e-310 6.24466617e-310 6.24466617e-310\n",
      "   6.24466611e-310 6.24466617e-310 6.24466439e-310 6.24466610e-310\n",
      "   6.24466611e-310 6.24466610e-310]]\n",
      "\n",
      " [[6.24466610e-310 6.24463901e-310 6.24466488e-310 6.24466611e-310\n",
      "   6.24463901e-310 6.24466491e-310 6.24466611e-310 6.24463901e-310\n",
      "   6.24465636e-310 6.24466611e-310]\n",
      "  [6.24465636e-310 6.24463901e-310 6.24465636e-310 6.24466611e-310\n",
      "   6.24465636e-310 6.24466614e-310 6.24466488e-310 6.24466488e-310\n",
      "   6.24466488e-310 6.24466491e-310]\n",
      "  [6.24466488e-310 6.24463901e-310 6.24466617e-310 6.24466611e-310\n",
      "   6.24466617e-310 6.24466439e-310 6.24466610e-310 6.24466611e-310\n",
      "   6.24466610e-310 6.24466610e-310]\n",
      "  [6.24466610e-310 6.24466614e-310 6.24466617e-310 6.24466617e-310\n",
      "   6.24466617e-310 6.24466617e-310 6.24466610e-310 6.24466617e-310\n",
      "   6.24466414e-310 6.24466610e-310]\n",
      "  [6.24466611e-310 6.24466610e-310 6.24466610e-310 6.24465687e-310\n",
      "   6.24466488e-310 6.24466611e-310 6.24465687e-310 6.24466612e-310\n",
      "   6.24466611e-310 6.24466611e-310]]\n",
      "\n",
      " [[6.24466411e-310 6.24466614e-310 6.24466611e-310 6.24466614e-310\n",
      "   6.24466411e-310 6.24466614e-310 6.24466611e-310 6.24466614e-310\n",
      "   6.24465687e-310 6.24466614e-310]\n",
      "  [6.24466611e-310 6.24466614e-310 6.24466611e-310 6.24466614e-310\n",
      "   6.24466488e-310 6.24466488e-310 6.24466488e-310 6.24466612e-310\n",
      "   6.24466488e-310 6.24465687e-310]\n",
      "  [6.24466617e-310 6.24466611e-310 6.24466617e-310 6.24466414e-310\n",
      "   6.24466610e-310 6.24466611e-310 6.24466610e-310 6.24466610e-310\n",
      "   6.24466610e-310 6.24466614e-310]\n",
      "  [6.24466617e-310 6.24466617e-310 6.24466617e-310 6.24466617e-310\n",
      "   6.24466610e-310 6.24466617e-310 6.24466414e-310 6.24466610e-310\n",
      "   6.24466611e-310 6.24466610e-310]\n",
      "  [6.24466610e-310 6.24465687e-310 6.24466488e-310 6.24466611e-310\n",
      "   6.24465687e-310 6.24466491e-310 6.24466611e-310 6.24465687e-310\n",
      "   6.24466616e-310 6.24466611e-310]]]\n",
      "[[[1. 1. 1. 1. 1. 1. 1. 1. 1. 1.]\n",
      "  [1. 1. 1. 1. 1. 1. 1. 1. 1. 1.]\n",
      "  [1. 1. 1. 1. 1. 1. 1. 1. 1. 1.]\n",
      "  [1. 1. 1. 1. 1. 1. 1. 1. 1. 1.]\n",
      "  [1. 1. 1. 1. 1. 1. 1. 1. 1. 1.]]\n",
      "\n",
      " [[1. 1. 1. 1. 1. 1. 1. 1. 1. 1.]\n",
      "  [1. 1. 1. 1. 1. 1. 1. 1. 1. 1.]\n",
      "  [1. 1. 1. 1. 1. 1. 1. 1. 1. 1.]\n",
      "  [1. 1. 1. 1. 1. 1. 1. 1. 1. 1.]\n",
      "  [1. 1. 1. 1. 1. 1. 1. 1. 1. 1.]]\n",
      "\n",
      " [[1. 1. 1. 1. 1. 1. 1. 1. 1. 1.]\n",
      "  [1. 1. 1. 1. 1. 1. 1. 1. 1. 1.]\n",
      "  [1. 1. 1. 1. 1. 1. 1. 1. 1. 1.]\n",
      "  [1. 1. 1. 1. 1. 1. 1. 1. 1. 1.]\n",
      "  [1. 1. 1. 1. 1. 1. 1. 1. 1. 1.]]]\n",
      "[[5. 5. 5.]\n",
      " [5. 5. 5.]\n",
      " [5. 5. 5.]]\n",
      "[ 1.15155132  0.09638611 -0.38445128 -0.87349154 -1.76604895  0.039275\n",
      " -0.18341815 -0.88724977  0.10267201 -1.16413023]\n"
     ]
    }
   ],
   "source": [
    "# YOUR CODE HERE\n",
    "a = np.random.rand(3, 2)\n",
    "print(a)\n",
    "\n",
    "b = np.arange(1991, 2018)\n",
    "print(b)\n",
    "\n",
    "c = np.empty((3, 5, 10))\n",
    "print(c)\n",
    "\n",
    "d = np.ones(shape = (3, 5, 10))\n",
    "print(d)\n",
    "\n",
    "e = 5 * np.ones(shape = (3, 3))\n",
    "print(e)\n",
    "\n",
    "f = np.random.normal(loc = 0, scale = 1, size = 10)\n",
    "print(f)\n"
   ]
  },
  {
   "cell_type": "markdown",
   "id": "d75ec682",
   "metadata": {},
   "source": [
    "---\n",
    "#### <span style=\"color:chocolate\">Exercise 7:</span> Reshape arrays (10 points)"
   ]
  },
  {
   "cell_type": "markdown",
   "id": "4af75cd1",
   "metadata": {},
   "source": [
    "Consider the following array:"
   ]
  },
  {
   "cell_type": "code",
   "execution_count": 153,
   "id": "e9c13f8b",
   "metadata": {},
   "outputs": [
    {
     "name": "stdout",
     "output_type": "stream",
     "text": [
      "(27,)\n"
     ]
    }
   ],
   "source": [
    "years = np.arange(1991, 2018, 1)\n",
    "print(years.shape)"
   ]
  },
  {
   "cell_type": "markdown",
   "id": "5c4d422e",
   "metadata": {},
   "source": [
    "Perform the following operations on this array:\n",
    "    \n",
    "1. Create 3 nested arrays, each of size (3, 3). Call this array years_3d;\n",
    "2. Convert the years_3d array to a flat 1D array. Call this array years_1d;\n",
    "3. Add a new axis (in front) to the years_1d array. Call this array years_2d;\n",
    "4. Remove the first axis from years_2d array. Call this array years_1d.\n",
    "\n",
    "For each exercise print the array and its shape."
   ]
  },
  {
   "cell_type": "code",
   "execution_count": 154,
   "id": "7d85dbd0",
   "metadata": {},
   "outputs": [
    {
     "name": "stdout",
     "output_type": "stream",
     "text": [
      "\n",
      "years_3d shape=(3, 3, 3)\n",
      "[[[1991 1992 1993]\n",
      "  [1994 1995 1996]\n",
      "  [1997 1998 1999]]\n",
      "\n",
      " [[2000 2001 2002]\n",
      "  [2003 2004 2005]\n",
      "  [2006 2007 2008]]\n",
      "\n",
      " [[2009 2010 2011]\n",
      "  [2012 2013 2014]\n",
      "  [2015 2016 2017]]]\n",
      "\n",
      "years_1d shape=(27,)\n",
      "[1991 1992 1993 1994 1995 1996 1997 1998 1999 2000 2001 2002 2003 2004\n",
      " 2005 2006 2007 2008 2009 2010 2011 2012 2013 2014 2015 2016 2017]\n",
      "\n",
      "years_2d shape=(1, 27)\n",
      "[[1991 1992 1993 1994 1995 1996 1997 1998 1999 2000 2001 2002 2003 2004\n",
      "  2005 2006 2007 2008 2009 2010 2011 2012 2013 2014 2015 2016 2017]]\n",
      "\n",
      "years_1d shape=(27,)\n",
      "[1991 1992 1993 1994 1995 1996 1997 1998 1999 2000 2001 2002 2003 2004\n",
      " 2005 2006 2007 2008 2009 2010 2011 2012 2013 2014 2015 2016 2017]\n"
     ]
    }
   ],
   "source": [
    "# YOUR CODE HERE\n",
    "years_3d = np.reshape(years, (3, 3, 3))\n",
    "print(f\"\\nyears_3d shape={years_3d.shape}\")\n",
    "print(years_3d)\n",
    "\n",
    "years_1d = years_3d.flatten()\n",
    "print(f\"\\nyears_1d shape={years_1d.shape}\")\n",
    "print(years_1d)\n",
    "\n",
    "years_2d = years_1d[np.newaxis, :]\n",
    "print(f\"\\nyears_2d shape={years_2d.shape}\")\n",
    "print(years_2d)\n",
    "\n",
    "years_1d = np.squeeze(years_2d, axis=0)\n",
    "print(f\"\\nyears_1d shape={years_1d.shape}\")\n",
    "print(years_1d)"
   ]
  },
  {
   "cell_type": "markdown",
   "id": "b23bb336",
   "metadata": {},
   "source": [
    "---\n",
    "#### <span style=\"color:chocolate\">Exercise 8:</span> Joining arrays (10 points)"
   ]
  },
  {
   "cell_type": "markdown",
   "id": "921e4750",
   "metadata": {},
   "source": [
    "Provide 8 examples that use the methods <span style=\"color:cornflowerBlue\">np.concatenate()</span> and <span style=\"color:cornflowerBlue\">np.stack()</span>. Note: create 4 examples using each method."
   ]
  },
  {
   "cell_type": "code",
   "execution_count": 155,
   "id": "155c5ac2",
   "metadata": {},
   "outputs": [
    {
     "name": "stdout",
     "output_type": "stream",
     "text": [
      "a = array([[1, 2],\n",
      "       [3, 4]])\n",
      "b = array([[5, 6]])\n",
      "c = array([[7, 8]])\n",
      "--------------------------------------------------\n",
      "np.concatenate((a, b), axis = None) = array([1, 2, 3, 4, 5, 6])\n",
      "np.concatenate((a, b), axis = 0) = array([[1, 2],\n",
      "       [3, 4],\n",
      "       [5, 6]])\n",
      "np.concatenate((a, b, c), axis = 0) = array([[1, 2],\n",
      "       [3, 4],\n",
      "       [5, 6],\n",
      "       [7, 8]])\n",
      "np.concatenate((a, b.T), axis = 1) = array([[1, 2, 5],\n",
      "       [3, 4, 6]])\n",
      "--------------------------------------------------\n",
      "\n",
      "x = array([1, 2])\n",
      "y = array([3, 4])\n",
      "--------------------------------------------------\n",
      "np.stack((x, y)) = array([[1, 2],\n",
      "       [3, 4]])\n",
      "np.stack((x, y), axis = 0) = array([[1, 2],\n",
      "       [3, 4]])\n",
      "np.stack((x, y), axis = 1) = array([[1, 3],\n",
      "       [2, 4]])\n",
      "np.stack((x, y), axis = -1) = array([[1, 3],\n",
      "       [2, 4]])\n"
     ]
    }
   ],
   "source": [
    "# YOUR CODE HERE\n",
    "a = np.array([[1, 2], [3, 4]])\n",
    "b = np.array([[5, 6]])\n",
    "c = np.array([[7, 8]])\n",
    "\n",
    "print(f\"{a = }\")\n",
    "print(f\"{b = }\")\n",
    "print(f\"{c = }\")\n",
    "print(\"-\"*50)\n",
    "\n",
    "print(f\"{np.concatenate((a, b), axis = None) = }\")\n",
    "print(f\"{np.concatenate((a, b), axis = 0) = }\")\n",
    "print(f\"{np.concatenate((a, b, c), axis = 0) = }\")\n",
    "print(f\"{np.concatenate((a, b.T), axis = 1) = }\")\n",
    "print(\"-\"*50)\n",
    "print()\n",
    "\n",
    "x = np.array([1, 2])\n",
    "y = np.array([3, 4])\n",
    "print(f\"{x = }\")\n",
    "print(f\"{y = }\")\n",
    "print(\"-\"*50)\n",
    "\n",
    "print(f\"{np.stack((x, y)) = }\")\n",
    "print(f\"{np.stack((x, y), axis = 0) = }\")\n",
    "print(f\"{np.stack((x, y), axis = 1) = }\")\n",
    "print(f\"{np.stack((x, y), axis = -1) = }\")\n"
   ]
  },
  {
   "cell_type": "markdown",
   "id": "10e5215e",
   "metadata": {},
   "source": [
    "---\n",
    "#### <span style=\"color:chocolate\">Numpy broadcasting</span> "
   ]
  },
  {
   "cell_type": "markdown",
   "id": "6d4ae245",
   "metadata": {},
   "source": [
    "The term broadcasting describes how NumPy treats arrays during arithmetic operations. You can find more here:  https://numpy.org/doc/stable/user/basics.broadcasting.html"
   ]
  },
  {
   "cell_type": "code",
   "execution_count": 156,
   "id": "4f6bfad7",
   "metadata": {},
   "outputs": [
    {
     "data": {
      "text/plain": [
       "array([1991, 1992, 1993, 1994, 1995, 1996, 1997, 1998, 1999, 2000, 2001,\n",
       "       2002, 2003, 2004, 2005, 2006, 2007, 2008, 2009, 2010, 2011, 2012,\n",
       "       2013, 2014, 2015, 2016, 2017])"
      ]
     },
     "execution_count": 156,
     "metadata": {},
     "output_type": "execute_result"
    }
   ],
   "source": [
    "# multiplying an array with a scalar\n",
    "years = np.arange(1991, 2018, 1)\n",
    "years * 1"
   ]
  },
  {
   "cell_type": "code",
   "execution_count": 157,
   "id": "58f33828",
   "metadata": {},
   "outputs": [
    {
     "data": {
      "text/plain": [
       "array([1993, 1994, 1995, 1996, 1997, 1998, 1999, 2000, 2001, 2002, 2003,\n",
       "       2004, 2005, 2006, 2007, 2008, 2009, 2010, 2011, 2012, 2013, 2014,\n",
       "       2015, 2016, 2017, 2018, 2019])"
      ]
     },
     "execution_count": 157,
     "metadata": {},
     "output_type": "execute_result"
    }
   ],
   "source": [
    "# adding a scalar\n",
    "years + 2"
   ]
  },
  {
   "cell_type": "code",
   "execution_count": 158,
   "id": "d1c150bf",
   "metadata": {},
   "outputs": [
    {
     "name": "stdout",
     "output_type": "stream",
     "text": [
      "Array a: [0 1 2]\n",
      "Array b: [0 1 2]\n",
      "Sum of a and b: [0 2 4]\n"
     ]
    }
   ],
   "source": [
    "# many arithmetic operations are applied element wise on a pair of arrays\n",
    "a = np.arange(3)\n",
    "print('Array a:', a)\n",
    "b = np.arange(3)\n",
    "print('Array b:', b)\n",
    "print('Sum of a and b:', a+b)"
   ]
  },
  {
   "cell_type": "code",
   "execution_count": 159,
   "id": "9718c167",
   "metadata": {},
   "outputs": [
    {
     "name": "stdout",
     "output_type": "stream",
     "text": [
      "Array a: [[1. 1. 1.]\n",
      " [1. 1. 1.]\n",
      " [1. 1. 1.]]\n",
      "\n",
      "Array b: [0 1 2]\n",
      "\n",
      "Sum of a and b: [[1. 2. 3.]\n",
      " [1. 2. 3.]\n",
      " [1. 2. 3.]]\n"
     ]
    }
   ],
   "source": [
    "# another example\n",
    "a = np.ones((3, 3))\n",
    "print('Array a:', a)\n",
    "b = np.arange(3)\n",
    "print('\\nArray b:', b)\n",
    "print('\\nSum of a and b:', a+b)"
   ]
  },
  {
   "cell_type": "markdown",
   "id": "a2106423",
   "metadata": {},
   "source": [
    "---\n",
    "#### <span style=\"color:chocolate\">Exercise 9:</span> Numpy array standardization (10 points)"
   ]
  },
  {
   "cell_type": "markdown",
   "id": "b928ab75",
   "metadata": {},
   "source": [
    "Consider the following (10, 4) array:"
   ]
  },
  {
   "cell_type": "code",
   "execution_count": 160,
   "id": "1daf0061",
   "metadata": {},
   "outputs": [
    {
     "name": "stdout",
     "output_type": "stream",
     "text": [
      "my_array shape:  (10, 4)\n"
     ]
    },
    {
     "data": {
      "text/plain": [
       "array([[2.37281923e-01, 8.72005547e-01, 9.89537574e-01, 9.44649530e-01],\n",
       "       [2.59047822e-02, 2.41036029e-01, 2.09232762e-01, 6.91936843e-01],\n",
       "       [7.02465192e-01, 5.92360703e-01, 2.85496978e-01, 9.10061264e-02],\n",
       "       [4.74607622e-01, 2.44213847e-01, 3.08055169e-02, 6.55060658e-01],\n",
       "       [9.80750478e-04, 4.46020788e-01, 9.63664756e-01, 3.86439740e-01],\n",
       "       [4.09421652e-01, 2.32061314e-02, 3.67139198e-02, 3.02058733e-01],\n",
       "       [9.58056443e-01, 7.91801052e-01, 5.15142500e-01, 9.26690622e-02],\n",
       "       [6.01623233e-01, 4.45338123e-01, 8.85537478e-01, 7.66971472e-01],\n",
       "       [4.99193674e-01, 5.89632232e-02, 5.72399954e-01, 2.03701092e-01],\n",
       "       [4.48716641e-01, 3.28975282e-01, 4.14938107e-01, 6.23857395e-01]])"
      ]
     },
     "execution_count": 160,
     "metadata": {},
     "output_type": "execute_result"
    }
   ],
   "source": [
    "my_array = np.random.random((10, 4))\n",
    "print('my_array shape: ', my_array.shape)\n",
    "my_array"
   ]
  },
  {
   "cell_type": "markdown",
   "id": "d24063b3",
   "metadata": {},
   "source": [
    "Peform the following operations on this array:\n",
    "1. Compute and print the mean and std for each column (note: set keepdims=True for proper broadcasting).\n",
    "2. Standardize and print the array and its shape using the mean and std you computed above."
   ]
  },
  {
   "cell_type": "code",
   "execution_count": 161,
   "id": "7970e2fe",
   "metadata": {},
   "outputs": [
    {
     "name": "stdout",
     "output_type": "stream",
     "text": [
      "mean of columns: [[0.43582519 0.40439207 0.49034695 0.47583507]]\n",
      "std of columns: [[0.27825136 0.27021169 0.34356667 0.28503262]]\n",
      "Standardize my_array = \n",
      "[[-0.71353925  1.73054494  1.45296581  1.64477478]\n",
      " [-1.47320181 -0.60454839 -0.81822313  0.75816507]\n",
      " [ 0.95827025  0.69563471 -0.5962452  -1.35012245]\n",
      " [ 0.13937912 -0.59278792 -1.33756119  0.62878976]\n",
      " [-1.56277561  0.15405964  1.37765927 -0.31363191]\n",
      " [-0.09489096 -1.41069374 -1.32036393 -0.60967173]\n",
      " [ 1.8768327   1.43372397  0.07217099 -1.34428825]\n",
      " [ 0.59585707  0.15153323  1.15025863  1.02141434]\n",
      " [ 0.22773827 -1.27836382  0.23882701 -0.95474677]\n",
      " [ 0.04633023 -0.27910262 -0.21948825  0.51931716]]\n",
      "shape Standardize my_array = (10, 4)\n"
     ]
    }
   ],
   "source": [
    "np.random.seed(seed=1)\n",
    "\n",
    "# YOUR CODE HERE\n",
    "col_mean = np.mean(my_array, axis = 0, keepdims = True)\n",
    "print(f\"mean of columns: {col_mean}\")\n",
    "\n",
    "col_std = np.std(my_array, axis = 0, keepdims = True)\n",
    "print(f\"std of columns: {col_std}\")\n",
    "\n",
    "standardized_my_array = (my_array - col_mean) / col_std\n",
    "print(f\"Standardize my_array = \\n{standardized_my_array}\")\n",
    "print(f\"shape Standardize my_array = {standardized_my_array.shape}\")\n"
   ]
  },
  {
   "cell_type": "markdown",
   "id": "87de03c8",
   "metadata": {},
   "source": [
    "----\n",
    "#### <span style=\"color:chocolate\">Bonus question:</span> Advanced (20 points)"
   ]
  },
  {
   "cell_type": "markdown",
   "id": "b3c84045",
   "metadata": {},
   "source": [
    "Consider the following image:"
   ]
  },
  {
   "cell_type": "code",
   "execution_count": 162,
   "id": "9483dfe7",
   "metadata": {},
   "outputs": [
    {
     "name": "stdout",
     "output_type": "stream",
     "text": [
      "[[0.   0.04 0.08 0.12 0.16]\n",
      " [0.2  0.24 0.28 0.32 0.36]\n",
      " [0.4  0.44 0.48 0.52 0.56]\n",
      " [0.6  0.64 0.68 0.72 0.76]\n",
      " [0.8  0.84 0.88 0.92 0.96]]\n"
     ]
    },
    {
     "data": {
      "text/plain": [
       "(5, 5)"
      ]
     },
     "execution_count": 162,
     "metadata": {},
     "output_type": "execute_result"
    }
   ],
   "source": [
    "my_image = np.arange(0, 1, 0.04).reshape(5,5)\n",
    "print(my_image)\n",
    "my_image.shape"
   ]
  },
  {
   "cell_type": "markdown",
   "id": "364e6cf2",
   "metadata": {},
   "source": [
    "Perform the following operations on this image (do not overwrite the original image):\n",
    "\n",
    "1. Crop by using a border of size 1;\n",
    "2. Crop by using a border of size 2;\n",
    "3. Reverse the column order;\n",
    "4. set to 0.5 elements divizible by 2."
   ]
  },
  {
   "cell_type": "code",
   "execution_count": 163,
   "id": "70eae368",
   "metadata": {},
   "outputs": [
    {
     "name": "stdout",
     "output_type": "stream",
     "text": [
      "Crop with border of 1: \n",
      "[[0.24 0.28 0.32]\n",
      " [0.44 0.48 0.52]\n",
      " [0.64 0.68 0.72]]\n",
      "\n",
      "Crop with border of 2: \n",
      "[[0.48]]\n",
      "\n",
      "Reverse the column order: \n",
      "[[0.16 0.12 0.08 0.04 0.  ]\n",
      " [0.36 0.32 0.28 0.24 0.2 ]\n",
      " [0.56 0.52 0.48 0.44 0.4 ]\n",
      " [0.76 0.72 0.68 0.64 0.6 ]\n",
      " [0.96 0.92 0.88 0.84 0.8 ]]\n"
     ]
    }
   ],
   "source": [
    "# YOUR CODE HERE\n",
    "print(f\"Crop with border of 1: \\n{my_image[1:-1, 1:-1]}\")\n",
    "\n",
    "print(f\"\\nCrop with border of 2: \\n{my_image[2:-2, 2:-2]}\")\n",
    "\n",
    "print(f\"\\nReverse the column order: \\n{my_image[:, ::-1]}\")"
   ]
  },
  {
   "cell_type": "code",
   "execution_count": null,
   "id": "b44a1840",
   "metadata": {},
   "outputs": [],
   "source": []
  }
 ],
 "metadata": {
  "kernelspec": {
   "display_name": "Python 3",
   "language": "python",
   "name": "python3"
  },
  "language_info": {
   "codemirror_mode": {
    "name": "ipython",
    "version": 3
   },
   "file_extension": ".py",
   "mimetype": "text/x-python",
   "name": "python",
   "nbconvert_exporter": "python",
   "pygments_lexer": "ipython3",
   "version": "3.10.0"
  }
 },
 "nbformat": 4,
 "nbformat_minor": 5
}
