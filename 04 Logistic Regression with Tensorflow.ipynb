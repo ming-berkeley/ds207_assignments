{
 "cells": [
  {
   "cell_type": "markdown",
   "metadata": {
    "id": "MKsRDH5ZUdfasdv"
   },
   "source": [
    "# Assignment 4"
   ]
  },
  {
   "cell_type": "markdown",
   "metadata": {},
   "source": [
    "### <span style=\"color:chocolate\"> Submission requirements </span>\n",
    "\n",
    "Your work will not be graded if your notebook doesn't include output. In other words, <span style=\"color:red\"> make sure to rerun your notebook before submitting to Gradescope </span> (Note: if you are using Google Colab: go to Edit > Notebook Settings  and uncheck Omit code cell output when saving this notebook, otherwise the output is not printed).\n",
    "\n",
    "Additional points may be deducted if these requirements are not met:\n",
    "    \n",
    "* Comment your code;\n",
    "* Each graph should have a title, labels for each axis, and (if needed) a legend. Each graph should be understandable on its own;\n",
    "* Try and minimize the use of the global namespace (meaning, keep things inside functions).\n",
    "---"
   ]
  },
  {
   "cell_type": "markdown",
   "metadata": {},
   "source": [
    "### Import libraries"
   ]
  },
  {
   "cell_type": "code",
   "execution_count": 1,
   "metadata": {
    "id": "7X58hOMTUH-w"
   },
   "outputs": [
    {
     "name": "stderr",
     "output_type": "stream",
     "text": [
      "2024-06-09 22:24:44.711779: I tensorflow/core/util/port.cc:113] oneDNN custom operations are on. You may see slightly different numerical results due to floating-point round-off errors from different computation orders. To turn them off, set the environment variable `TF_ENABLE_ONEDNN_OPTS=0`.\n",
      "2024-06-09 22:24:44.713764: I external/local_tsl/tsl/cuda/cudart_stub.cc:31] Could not find cuda drivers on your machine, GPU will not be used.\n",
      "2024-06-09 22:24:44.751967: E external/local_xla/xla/stream_executor/cuda/cuda_dnn.cc:9261] Unable to register cuDNN factory: Attempting to register factory for plugin cuDNN when one has already been registered\n",
      "2024-06-09 22:24:44.752007: E external/local_xla/xla/stream_executor/cuda/cuda_fft.cc:607] Unable to register cuFFT factory: Attempting to register factory for plugin cuFFT when one has already been registered\n",
      "2024-06-09 22:24:44.753074: E external/local_xla/xla/stream_executor/cuda/cuda_blas.cc:1515] Unable to register cuBLAS factory: Attempting to register factory for plugin cuBLAS when one has already been registered\n",
      "2024-06-09 22:24:44.759795: I external/local_tsl/tsl/cuda/cudart_stub.cc:31] Could not find cuda drivers on your machine, GPU will not be used.\n",
      "2024-06-09 22:24:44.760335: I tensorflow/core/platform/cpu_feature_guard.cc:182] This TensorFlow binary is optimized to use available CPU instructions in performance-critical operations.\n",
      "To enable the following instructions: AVX2 AVX_VNNI FMA, in other operations, rebuild TensorFlow with the appropriate compiler flags.\n",
      "2024-06-09 22:24:45.614918: W tensorflow/compiler/tf2tensorrt/utils/py_utils.cc:38] TF-TRT Warning: Could not find TensorRT\n"
     ]
    }
   ],
   "source": [
    "import numpy as np\n",
    "from matplotlib import pyplot as plt\n",
    "import pandas as pd\n",
    "import seaborn as sns  # for nicer plots\n",
    "sns.set(style=\"darkgrid\")  # default style\n",
    "\n",
    "from sklearn.model_selection import train_test_split\n",
    "from sklearn.metrics import confusion_matrix, ConfusionMatrixDisplay\n",
    "\n",
    "import tensorflow as tf\n",
    "from tensorflow import keras\n",
    "from keras import metrics\n",
    "from keras.datasets import fashion_mnist\n",
    "\n",
    "tf.get_logger().setLevel('INFO')"
   ]
  },
  {
   "cell_type": "markdown",
   "metadata": {},
   "source": [
    "---\n",
    "### Step 1: Data ingestion"
   ]
  },
  {
   "cell_type": "markdown",
   "metadata": {
    "id": "rHLcriKWLRe4"
   },
   "source": [
    "You'll train a binary classifier using the [Fashion MNIST](https://github.com/zalandoresearch/fashion-mnist) dataset. This consists of 70,000 grayscale images (28x28). Each image is associated with 1 of 10 classes. The dataset was split by the creators; there are 60,000 training images and 10,000 test images. Note also that Tensorflow includes a growing [library of datasets](https://www.tensorflow.org/datasets/catalog/overview) and makes it easy to load them in numpy arrays."
   ]
  },
  {
   "cell_type": "code",
   "execution_count": 2,
   "metadata": {},
   "outputs": [],
   "source": [
    "# Load the Fashion MNIST dataset.\n",
    "(X_train, Y_train), (X_test, Y_test) = fashion_mnist.load_data()"
   ]
  },
  {
   "cell_type": "markdown",
   "metadata": {},
   "source": [
    "---\n",
    "### Step 2: Exploratory Data Analysis (EDA)"
   ]
  },
  {
   "cell_type": "markdown",
   "metadata": {},
   "source": [
    "Exploratory Data Analysis (EDA) and Data Preprocessing are often iterative processes that involve going back and forth to refine and improve the quality of data analysis and preparation. However, the specific order can vary depending on the project's requirements. In some cases, starting with EDA, as you see in this assignment, could be more useful, but there is no rigid rule dictating the sequence in all situations."
   ]
  },
  {
   "cell_type": "markdown",
   "metadata": {},
   "source": [
    "### <span style=\"color:chocolate\">Exercise 1:</span> Getting to know your data (5 points)"
   ]
  },
  {
   "cell_type": "markdown",
   "metadata": {
    "id": "load_auto_data_set_code"
   },
   "source": [
    "Complete the following tasks:\n",
    "\n",
    "1. Print the shapes and types of (X_train, Y_train) and (X_test, Y_test). Interpret the shapes (i.e., what do the numbers represent?). Hint: For types use the <span style=\"color:chocolate\">type()</span> function.\n",
    "2. Define a list of strings of class names corresponding to each class in (Y_train, Y_test). Call this list label_names. Hint: Refer to the Fashion MNIST documentation."
   ]
  },
  {
   "cell_type": "code",
   "execution_count": 3,
   "metadata": {},
   "outputs": [
    {
     "name": "stdout",
     "output_type": "stream",
     "text": [
      "X_train\n",
      "\tShape: (60000, 28, 28)\n",
      "\tType: <class 'numpy.ndarray'>\n",
      "Y_train\n",
      "\tShape: (60000,)\n",
      "\tType: <class 'numpy.ndarray'>\n",
      "X_test\n",
      "\tShape: (10000, 28, 28)\n",
      "\tType: <class 'numpy.ndarray'>\n",
      "Y_test\n",
      "\tShape: (10000,)\n",
      "\tType: <class 'numpy.ndarray'>\n"
     ]
    }
   ],
   "source": [
    "# YOUR CODE HERE\n",
    "print(f\"X_train\\n\\tShape: {X_train.shape}\\n\\tType: {type(X_train)}\")\n",
    "print(f\"Y_train\\n\\tShape: {Y_train.shape}\\n\\tType: {type(Y_train)}\")\n",
    "print(f\"X_test\\n\\tShape: {X_test.shape}\\n\\tType: {type(X_test)}\")\n",
    "print(f\"Y_test\\n\\tShape: {Y_test.shape}\\n\\tType: {type(Y_test)}\")"
   ]
  },
  {
   "cell_type": "markdown",
   "metadata": {},
   "source": [
    "Both X_train and X_test hold 60,000 and 10,000 of 28x28 grayscale image respectively. Y_train and Y_test hold 60,000 and 10,000 labels of fashion categories of these images respectively."
   ]
  },
  {
   "cell_type": "code",
   "execution_count": 4,
   "metadata": {},
   "outputs": [],
   "source": [
    "label_names = [\"T-shirt/top\", \"Trouser\", \"Pullover\", \"Dress\", \"Coat\", \"Sandal\", \"Shirt\", \"Sneaker\", \"Bag\", \"Ankle boot\"]"
   ]
  },
  {
   "cell_type": "markdown",
   "metadata": {},
   "source": [
    "### <span style=\"color:chocolate\">Exercise 2:</span> Getting to know your data - cont'd (5 points)"
   ]
  },
  {
   "cell_type": "markdown",
   "metadata": {},
   "source": [
    "Fashion MNIST images have one of 10 possible labels (shown above). "
   ]
  },
  {
   "cell_type": "markdown",
   "metadata": {},
   "source": [
    "Complete the following tasks:\n",
    "\n",
    "1. Display the first 5 images in X_train for each class in Y_train, arranged in a 10x5 grid. Use the label_names list defined above;\n",
    "2. Determine the minimum and maximum pixel values for images in the X_train dataset."
   ]
  },
  {
   "cell_type": "code",
   "execution_count": 5,
   "metadata": {},
   "outputs": [
    {
     "data": {
      "image/png": "[encoded data removed]",
      "text/plain": [
       "<Figure size 640x480 with 10 Axes>"
      ]
     },
     "metadata": {},
     "output_type": "display_data"
    }
   ],
   "source": [
    "# YOUR CODE HERE\n",
    "plt.figure()\n",
    "\n",
    "for i in range(10):\n",
    "    plt.subplot(2, 5, i+1)\n",
    "    plt.xticks([])\n",
    "    plt.yticks([])\n",
    "    plt.imshow(X_train[i], plt.cm.binary)\n",
    "    plt.xlabel(label_names[Y_train[i]])\n",
    "\n",
    "plt.show()"
   ]
  },
  {
   "cell_type": "code",
   "execution_count": 6,
   "metadata": {},
   "outputs": [
    {
     "name": "stdout",
     "output_type": "stream",
     "text": [
      "minimum pixel value: 0\n",
      "maximum pixel value: 255\n"
     ]
    }
   ],
   "source": [
    "print(f\"minimum pixel value: {X_train.min()}\\nmaximum pixel value: {X_train.max()}\")"
   ]
  },
  {
   "cell_type": "markdown",
   "metadata": {
    "id": "cZpFxxStzSrP"
   },
   "source": [
    "---\n",
    "### Step 3: Data preprocessing"
   ]
  },
  {
   "cell_type": "markdown",
   "metadata": {},
   "source": [
    "This step is essential for preparing this image data in a format that is suitable for ML algorithms. "
   ]
  },
  {
   "cell_type": "markdown",
   "metadata": {},
   "source": [
    "### <span style=\"color:chocolate\">Exercise 3:</span> Feature preprocessing (5 points)"
   ]
  },
  {
   "cell_type": "markdown",
   "metadata": {},
   "source": [
    "In the previous lab, the input data had just a few features. Here, we treat **every pixel value as a separate feature**, so each input example has 28x28 (784) features!"
   ]
  },
  {
   "cell_type": "markdown",
   "metadata": {},
   "source": [
    "In this exercise, you'll perform the following tasks:\n",
    "\n",
    "1. Normalize the pixel values in both X_train and X_test data so they range between 0 and 1;\n",
    "2. For each image in X_train and X_test, flatten the 2-D 28x28 pixel array to a 1-D array of size 784. Hint: use the <span style=\"color:chocolate\">reshape()</span> method available in NumPy. Note that by doing so you will overwrite the original arrays;\n",
    "3. Pint the shape of X_train and X_test arrays."
   ]
  },
  {
   "cell_type": "code",
   "execution_count": 7,
   "metadata": {},
   "outputs": [
    {
     "name": "stdout",
     "output_type": "stream",
     "text": [
      "X_train.shape = (60000, 784)\n",
      "X_test.shape = (10000, 784)\n"
     ]
    }
   ],
   "source": [
    "# YOUR CODE HERE\n",
    "X_train = X_train / 255\n",
    "X_test = X_test / 255\n",
    "\n",
    "X_train = X_train.reshape(X_train.shape[0], -1)\n",
    "X_test = X_test.reshape(X_test.shape[0], -1)\n",
    "\n",
    "print(f\"{X_train.shape = }\")\n",
    "print(f\"{X_test.shape = }\")"
   ]
  },
  {
   "cell_type": "markdown",
   "metadata": {},
   "source": [
    "### <span style=\"color:chocolate\">Exercise 4:</span> Label preprocessing (5 points)"
   ]
  },
  {
   "cell_type": "markdown",
   "metadata": {},
   "source": [
    "This assignment involves binary classification. Specifically, the objective is to predict whether an image belongs to the sneaker class (class 7) or not.\n",
    "\n",
    "Therefore, write code so that for each example in (Y_train, Y_test), the outcome variable is represented as follows: \n",
    "* $y=1$, for sneaker class (positive examples), and\n",
    "* $y=0$, for non-sneaker class (negative examples).\n",
    "\n",
    "Note: To avoid \"ValueError: assignment destination is read-only\", first create a copy of the (Y_train, Y_test) data and call the resulting arrays (Y_train, Y_test). Then overwrite the (Y_train, Y_test) arrays to create binary outcomes."
   ]
  },
  {
   "cell_type": "code",
   "execution_count": 8,
   "metadata": {},
   "outputs": [],
   "source": [
    "# Make copies of the original dataset for binary classification task.\n",
    "Y_train = np.copy(Y_train)\n",
    "Y_test = np.copy(Y_test)\n",
    "\n",
    "# YOUR CODE HERE\n",
    "Y_train = np.where(Y_train == 7, 1, 0)\n",
    "Y_test = np.where(Y_test == 7, 1, 0)"
   ]
  },
  {
   "cell_type": "markdown",
   "metadata": {},
   "source": [
    "### <span style=\"color:chocolate\">Exercise 5:</span> Data splits (10 points)"
   ]
  },
  {
   "cell_type": "markdown",
   "metadata": {},
   "source": [
    "Using the <span style=\"color:chocolate\">train_test_split()</span> method available in scikit-learn:\n",
    "1. Retain 20% from the training data for validation purposes. Set random state to 1234. Name the resulting dataframes as follows: X_train_mini, X_val, Y_train_mini, Y_val.\n",
    "2. Print the shape of each array."
   ]
  },
  {
   "cell_type": "code",
   "execution_count": 9,
   "metadata": {},
   "outputs": [
    {
     "name": "stdout",
     "output_type": "stream",
     "text": [
      "X_train_mini.shape = (48000, 784)\n",
      "X_val.shape = (12000, 784)\n",
      "Y_train_mini.shape = (48000,)\n",
      "Y_val.shape = (12000,)\n"
     ]
    }
   ],
   "source": [
    "# YOUR CODE HERE\n",
    "X_train_mini, X_val, Y_train_mini, Y_val = train_test_split(X_train, Y_train, random_state = 1234, test_size = 0.2)\n",
    "\n",
    "print(f\"{X_train_mini.shape = }\")\n",
    "print(f\"{X_val.shape = }\")\n",
    "print(f\"{Y_train_mini.shape = }\")\n",
    "print(f\"{Y_val.shape = }\")"
   ]
  },
  {
   "cell_type": "markdown",
   "metadata": {},
   "source": [
    "### <span style=\"color:chocolate\">Exercise 6:</span> Data shuffling (10 points)"
   ]
  },
  {
   "cell_type": "markdown",
   "metadata": {},
   "source": [
    "Since you'll be using Batch Gradient Descent (BGD) for training, it is important that **each batch is a random sample of the data** so that the gradient computed is representative. \n",
    "\n",
    "1. Use [integer array indexing](https://numpy.org/doc/stable/reference/arrays.indexing.html#integer-array-indexing) to re-order (X_train_mini, Y_train_mini) using a list of shuffled indices. In doing so, you will overwrite the arrays."
   ]
  },
  {
   "cell_type": "code",
   "execution_count": 10,
   "metadata": {},
   "outputs": [],
   "source": [
    "np.random.seed(0)\n",
    "# YOUR CODE HERE\n",
    "reshuffled_indices = np.random.permutation(len(X_train_mini))\n",
    "\n",
    "X_train_mini = X_train_mini[reshuffled_indices]\n",
    "Y_train_mini = Y_train_mini[reshuffled_indices]"
   ]
  },
  {
   "cell_type": "markdown",
   "metadata": {},
   "source": [
    "---\n",
    "### Step 4: Exploratory Data Analysis (EDA) - cont'd"
   ]
  },
  {
   "cell_type": "markdown",
   "metadata": {},
   "source": [
    "Before delving into model training, let's further explore the raw feature values by comparing sneaker and non-sneaker training images."
   ]
  },
  {
   "cell_type": "markdown",
   "metadata": {},
   "source": [
    "### <span style=\"color:chocolate\">Exercise 7:</span> Pixel distributions (10 points)"
   ]
  },
  {
   "cell_type": "markdown",
   "metadata": {},
   "source": [
    "1. Identify all sneaker images in X_train_mini and calculate the mean pixel value for each sneaker image. Visualize these pixel values using a histogram. Print the mean pixel value across all sneaker images.\n",
    "2. Identify all non-sneaker images in X_train_mini and calculate the mean pixel value for each non-sneaker image. Visualize these pixel values using a histogram. Print the mean pixel value across all non-sneaker images.\n",
    "3. Based on the histogram results, assess whether there is any evidence suggesting that pixel values can be utilized to distinguish between sneaker and non-sneaker images. Justify your response.\n",
    "\n",
    "Notes: Make sure to provide a descriptive title and axis labels for each histogran. Make sure you utilize Y_train_mini to locate the sneaker and non-sneaker class."
   ]
  },
  {
   "cell_type": "code",
   "execution_count": 11,
   "metadata": {},
   "outputs": [
    {
     "data": {
      "image/png": "[encoded data removed]",
      "text/plain": [
       "<Figure size 800x500 with 2 Axes>"
      ]
     },
     "metadata": {},
     "output_type": "display_data"
    }
   ],
   "source": [
    "# YOUR CODE \n",
    "fig, axes = plt.subplots(1, 2, figsize = (8, 5), sharex = True)\n",
    "\n",
    "for i in [0, 1]:\n",
    "    target = X_train_mini[Y_train_mini == i]    # target is either non-sneaker (y=0) or sneaker (y=1)\n",
    "    \n",
    "    axes[i].hist(target.mean(axis = 1))\n",
    "    axes[i].set_xlim(0.0, 1.0)          # ensure x-ticks is between 0.0 and 1.0.\n",
    "    axes[i].set_xlabel(\"mean pixel value\")\n",
    "    axes[i].set_ylabel(\"# of images\")\n",
    "\n",
    "    title = \"Non-Sneaker\" if i == 0 else \"Sneaker\"\n",
    "    title += f\"\\nTotal Pixel Mean = {target.mean():.2f}\"\n",
    "    axes[i].set_title(title)\n",
    "\n",
    "plt.subplots_adjust(wspace = 0.5)       # add space between subplots.\n",
    "plt.tight_layout()\n",
    "plt.show()"
   ]
  },
  {
   "cell_type": "markdown",
   "metadata": {},
   "source": [
    "Based on the mean pixel values, 0.30 for non-sneaker and 0.17 for sneaker, it is significant enough to distinquish a sneaker from the rest of objects."
   ]
  },
  {
   "cell_type": "markdown",
   "metadata": {},
   "source": [
    "---\n",
    "### Step 4: Modeling"
   ]
  },
  {
   "cell_type": "markdown",
   "metadata": {},
   "source": [
    "### <span style=\"color:chocolate\">Exercise 8:</span> Baseline model (10 points)"
   ]
  },
  {
   "cell_type": "markdown",
   "metadata": {
    "id": "TGgQ-ASYiHbK"
   },
   "source": [
    "When dealing with classification problems, a simple baseline is to select the *majority* class (the most common label in the training set) and use it as the prediction for all inputs.\n",
    "\n",
    "With this information in mind:\n",
    "\n",
    "1. What is the number of sneaker images in Y_train_mini?\n",
    "2. What is the number of non-sneaker images in Y_train_mini?\n",
    "3. What is the majority class in Y_train_mini?\n",
    "4. What is the accuracy of a majority class classifier for Y_train_mini?\n",
    "5. Implement a function that computes the Log Loss (binary cross-entropy) metric and use it to evaluate this baseline on both the mini train (Y_train_mini) and validation (Y_val) data. Use 0.1 as the predicted probability for your baseline (reflecting what we know about the original distribution of classes in the mini training data). Hint: for additional help, see the file ``04 Logistic Regression with Tensorflow_helpers.ipynb``."
   ]
  },
  {
   "cell_type": "code",
   "execution_count": 12,
   "metadata": {},
   "outputs": [
    {
     "name": "stdout",
     "output_type": "stream",
     "text": [
      "# of sneaker images: 4800\n",
      "# of non-sneaker images: 43200\n",
      "majority class in Y_train_mini is 0 (non-sneaker)\n",
      "Accuracy of a majority class: 0.9\n",
      "Log Loss of Y_train_mini: 32.4393\n",
      "Log Loss of Y_val: 32.4393\n"
     ]
    }
   ],
   "source": [
    "# YOUR CODE HERE\n",
    "values_count = np.unique(Y_train_mini, return_counts = True)\n",
    "print(f\"# of sneaker images: {values_count[1][1]}\")\n",
    "print(f\"# of non-sneaker images: {values_count[1][0]}\")\n",
    "print(\"majority class in Y_train_mini is 0 (non-sneaker)\")\n",
    "print(f\"Accuracy of a majority class: {values_count[1][0] / (values_count[1][0] + values_count[1][1])}\")\n",
    "\n",
    "\n",
    "# Baseline model always predicts sneakers, which gives 0.1 predicted probabilty since only 10% of images are sneakers.\n",
    "baseline = lambda x: np.ones(len(x))\n",
    "\n",
    "def log_loss(y_true, y_pred):\n",
    "    \"\"\"\n",
    "    The part of implementation is inspired by sklearn.metrics.log_loss().\n",
    "    https://github.com/scikit-learn/scikit-learn/blob/5491dc695/sklearn/metrics/_classification.py#L2819\n",
    "    \"\"\"\n",
    "\n",
    "    eps = np.finfo(y_pred.dtype).eps\n",
    "    y_pred = np.clip(y_pred, eps, 1 - eps)\n",
    "    return -np.mean(y_true * np.log(y_pred) + (1 - y_true) * np.log(1 - y_pred))\n",
    "\n",
    "Y_hat = baseline(Y_train_mini)\n",
    "print(f\"Log Loss of Y_train_mini: {log_loss(Y_train_mini, Y_hat):.4f}\")\n",
    "\n",
    "Y_hat = baseline(Y_val)\n",
    "print(f\"Log Loss of Y_val: {log_loss(Y_val, Y_hat):.4f}\")\n"
   ]
  },
  {
   "cell_type": "markdown",
   "metadata": {},
   "source": [
    "### <span style=\"color:chocolate\">Exercise 9:</span> Improvement over Baseline with TensorFlow (10 points)"
   ]
  },
  {
   "cell_type": "markdown",
   "metadata": {},
   "source": [
    "Let's use TensorFlow to train a binary logistic regression model much like you did in the previous assignment. The goal here is to build a ML model to improve over the baseline classifier.\n",
    "\n",
    "1. Fill in the <span style=\"color:green\">NotImplemented</span> parts of the build_model() function below by following the instructions provided as comments. Hint: the activation function, the loss, and the evaluation metric are different compared to the linear regression model;\n",
    "2. Build and compile a model using the build_model() function and the (X_train_mini, Y_train_mini) data. Set learning_rate = 0.0001. Call the resulting object *model_tf*.\n",
    "3. Train *model_tf* using the (X_train_mini, Y_train_mini) data. Set num_epochs = 5 and batch_size=32. Pass the (X_val, Y_val) data for validation. Hint: see the documentation behind the [tf.keras.Model.fit()](https://bcourses.berkeley.edu/courses/1534588/files/88733489?module_item_id=17073646) method.\n",
    "3. Generate a plot with the loss values on the y-axis and the epoch number on the x-axis for visualization. Make sure to include axes name and title. Hint: check what the [tf.keras.Model.fit()](https://bcourses.berkeley.edu/courses/1534588/files/88733489?module_item_id=17073646) method returns."
   ]
  },
  {
   "cell_type": "code",
   "execution_count": 22,
   "metadata": {},
   "outputs": [],
   "source": [
    "def build_model(num_features, learning_rate):\n",
    "  \"\"\"Build a TF linear regression model using Keras.\n",
    "\n",
    "  Args:\n",
    "    num_features: The number of input features.\n",
    "    learning_rate: The desired learning rate for SGD.\n",
    "\n",
    "  Returns:\n",
    "    model: A tf.keras model (graph).\n",
    "  \"\"\"\n",
    "  # This is not strictly necessary, but each time you build a model, TF adds\n",
    "  # new nodes (rather than overwriting), so the colab session can end up\n",
    "  # storing lots of copies of the graph when you only care about the most\n",
    "  # recent. Also, as there is some randomness built into training with SGD,\n",
    "  # setting a random seed ensures that results are the same on each identical\n",
    "  # training run.\n",
    "  tf.keras.backend.clear_session()\n",
    "  tf.random.set_seed(0)\n",
    "\n",
    "  # Build a model using keras.Sequential. While this is intended for neural\n",
    "  # networks (which may have multiple layers), we want just a single layer for\n",
    "  # binary logistic regression.\n",
    "  model = tf.keras.Sequential()\n",
    "  model.add(tf.keras.layers.Dense(\n",
    "      units = 1,                        # output dim\n",
    "      input_shape = (num_features,),    # input dim\n",
    "      use_bias = True,                  # use a bias (intercept) param\n",
    "      kernel_initializer = tf.keras.initializers.Ones(),   # initialize params to 1\n",
    "      bias_initializer = tf.keras.initializers.Ones(),     # initialize bias to 1\n",
    "  ))\n",
    "\n",
    "  # We need to choose an optimizer. We'll use SGD, which is actually mini-batch SGD\n",
    "  optimizer = tf.keras.optimizers.SGD(learning_rate = learning_rate)\n",
    "\n",
    "  # Finally, compile the model. Select the accuracy metric. This finalizes the graph for training.\n",
    "  model.compile(\n",
    "    optimizer = optimizer,\n",
    "    loss = tf.keras.losses.BinaryCrossentropy(),\n",
    "    metrics = ['accuracy']\n",
    "  )\n",
    "    \n",
    "  return model"
   ]
  },
  {
   "cell_type": "code",
   "execution_count": 24,
   "metadata": {},
   "outputs": [
    {
     "name": "stdout",
     "output_type": "stream",
     "text": [
      "Epoch 1/5\n",
      "1500/1500 [==============================] - 3s 2ms/step - loss: 13.7244 - accuracy: 0.1000 - val_loss: 13.7243 - val_accuracy: 0.1000\n",
      "Epoch 2/5\n",
      "1500/1500 [==============================] - 2s 1ms/step - loss: 13.7244 - accuracy: 0.1000 - val_loss: 13.7243 - val_accuracy: 0.1000\n",
      "Epoch 3/5\n",
      "1500/1500 [==============================] - 2s 1ms/step - loss: 13.7244 - accuracy: 0.1000 - val_loss: 13.7243 - val_accuracy: 0.1000\n",
      "Epoch 4/5\n",
      "1500/1500 [==============================] - 2s 1ms/step - loss: 13.7244 - accuracy: 0.1000 - val_loss: 13.7243 - val_accuracy: 0.1000\n",
      "Epoch 5/5\n",
      "1500/1500 [==============================] - 2s 1ms/step - loss: 13.7244 - accuracy: 0.1000 - val_loss: 13.7243 - val_accuracy: 0.1000\n"
     ]
    }
   ],
   "source": [
    "tf.random.set_seed(0)\n",
    "# 2. Build and compile model\n",
    "model_tf = build_model(num_features = X_train_mini.shape[1], learning_rate = 0.0001)\n",
    "\n",
    "# 3. Fit the model\n",
    "history = model_tf.fit(\n",
    "    x = X_train_mini,\n",
    "    y = Y_train_mini,\n",
    "    epochs = 5,\n",
    "    batch_size = 32,\n",
    "    validation_data = (X_val, Y_val)\n",
    ")"
   ]
  },
  {
   "cell_type": "code",
   "execution_count": 58,
   "metadata": {},
   "outputs": [
    {
     "data": {
      "image/png": "[encoded data removed]",
      "text/plain": [
       "<Figure size 640x480 with 1 Axes>"
      ]
     },
     "metadata": {},
     "output_type": "display_data"
    }
   ],
   "source": [
    "plt.figure()\n",
    "plt.plot(history.history[\"loss\"], label = \"loss\")\n",
    "plt.plot(history.history[\"val_loss\"], label = \"val_loss\")\n",
    "plt.title(\"TF Model\")\n",
    "plt.xlabel(\"Epoch\")\n",
    "plt.ylabel(\"Loss\")\n",
    "plt.xticks(range(5))\n",
    "plt.gca().yaxis.set_major_formatter(lambda x, pos: f'{x:.6f}')\n",
    "plt.legend()\n",
    "plt.grid()\n",
    "plt.show()"
   ]
  },
  {
   "cell_type": "markdown",
   "metadata": {},
   "source": [
    "---\n",
    "### Step 5: Hyperparameter tuning"
   ]
  },
  {
   "cell_type": "markdown",
   "metadata": {},
   "source": [
    "Hyperparameter tuning is a crucial step in optimizing ML models. It involves systematically adjusting hyperparameters such as learning rate, number of epochs, and optimizer to find the model configuration that leads to the best generalization performance.\n",
    "\n",
    "This tuning process is typically conducted by monitoring the model's performance on the validation vs. training set. It's important to note that using the test set for hyperparameter tuning can compromise the integrity of the evaluation process by violating the assumption of \"blindness\" of the test data."
   ]
  },
  {
   "cell_type": "markdown",
   "metadata": {},
   "source": [
    "### <span style=\"color:chocolate\">Exercise 10:</span> Hyperparameter tuning (10 points)"
   ]
  },
  {
   "cell_type": "markdown",
   "metadata": {},
   "source": [
    "1. Fine-tune the hyperparameters of *model_tf* to determine the setup that yields the most optimal performance. Feel free to explore various values for the hyperparameters. Hint: ask your instructors and TAs for help if in doubt.\n",
    "\n",
    "After identifying your preferred model configuration, print the following information:\n",
    "\n",
    "2. The first five learned parameters of the model (this should include the bias term);\n",
    "3. The loss at the final epoch on both the mini training and validation datasets;\n",
    "4. The percentage difference between the losses observed on the mini training and validation datasets.\n",
    "5. Compare the training/validation loss of the TensorFlow model (model_tf) with the baseline model's loss. Does the TensorFlow model demonstrate an improvement over the baseline model?\n",
    "\n",
    "\n",
    "Please note that we will consider 'optimal model configuration' any last-epoch loss that is below 0.08."
   ]
  },
  {
   "cell_type": "code",
   "execution_count": 91,
   "metadata": {},
   "outputs": [
    {
     "name": "stdout",
     "output_type": "stream",
     "text": [
      "Epoch 1/5\n",
      "1500/1500 [==============================] - 2s 1ms/step - loss: 13.7244 - accuracy: 0.1000 - val_loss: 13.7243 - val_accuracy: 0.1000\n",
      "Epoch 2/5\n",
      "1500/1500 [==============================] - 2s 1ms/step - loss: 13.7244 - accuracy: 0.1000 - val_loss: 13.7243 - val_accuracy: 0.1000\n",
      "Epoch 3/5\n",
      "1500/1500 [==============================] - 2s 1ms/step - loss: 13.7244 - accuracy: 0.1000 - val_loss: 13.7243 - val_accuracy: 0.1000\n",
      "Epoch 4/5\n",
      "1500/1500 [==============================] - 3s 2ms/step - loss: 13.7244 - accuracy: 0.1000 - val_loss: 13.7243 - val_accuracy: 0.1000\n",
      "Epoch 5/5\n",
      "1500/1500 [==============================] - 3s 2ms/step - loss: 13.7244 - accuracy: 0.1000 - val_loss: 13.7243 - val_accuracy: 0.1000\n",
      "Epoch 1/10\n",
      "1500/1500 [==============================] - 3s 2ms/step - loss: 13.7244 - accuracy: 0.1000 - val_loss: 13.7243 - val_accuracy: 0.1000\n",
      "Epoch 2/10\n",
      "1500/1500 [==============================] - 3s 2ms/step - loss: 13.7244 - accuracy: 0.1000 - val_loss: 13.7243 - val_accuracy: 0.1000\n",
      "Epoch 3/10\n",
      "1500/1500 [==============================] - 3s 2ms/step - loss: 13.7244 - accuracy: 0.1000 - val_loss: 13.7243 - val_accuracy: 0.1000\n",
      "Epoch 4/10\n",
      "1500/1500 [==============================] - 3s 2ms/step - loss: 13.7244 - accuracy: 0.1000 - val_loss: 13.7243 - val_accuracy: 0.1000\n",
      "Epoch 5/10\n",
      "1500/1500 [==============================] - 2s 1ms/step - loss: 13.7244 - accuracy: 0.1000 - val_loss: 13.7243 - val_accuracy: 0.1000\n",
      "Epoch 6/10\n",
      "1500/1500 [==============================] - 3s 2ms/step - loss: 13.7244 - accuracy: 0.1000 - val_loss: 13.7243 - val_accuracy: 0.1000\n",
      "Epoch 7/10\n",
      "1500/1500 [==============================] - 3s 2ms/step - loss: 13.7244 - accuracy: 0.1000 - val_loss: 13.7243 - val_accuracy: 0.1000\n",
      "Epoch 8/10\n",
      "1500/1500 [==============================] - 3s 2ms/step - loss: 13.7244 - accuracy: 0.1000 - val_loss: 13.7243 - val_accuracy: 0.1000\n",
      "Epoch 9/10\n",
      "1500/1500 [==============================] - 2s 1ms/step - loss: 13.7244 - accuracy: 0.1000 - val_loss: 13.7243 - val_accuracy: 0.1000\n",
      "Epoch 10/10\n",
      "1500/1500 [==============================] - 2s 1ms/step - loss: 13.7244 - accuracy: 0.1000 - val_loss: 13.7243 - val_accuracy: 0.1000\n",
      "Epoch 1/25\n",
      "1500/1500 [==============================] - 3s 2ms/step - loss: 13.7244 - accuracy: 0.1000 - val_loss: 13.7243 - val_accuracy: 0.1000\n",
      "Epoch 2/25\n",
      "1500/1500 [==============================] - 3s 2ms/step - loss: 13.7244 - accuracy: 0.1000 - val_loss: 13.7243 - val_accuracy: 0.1000\n",
      "Epoch 3/25\n",
      "1500/1500 [==============================] - 4s 3ms/step - loss: 13.7244 - accuracy: 0.1000 - val_loss: 13.7243 - val_accuracy: 0.1000\n",
      "Epoch 4/25\n",
      "1500/1500 [==============================] - 3s 2ms/step - loss: 13.7244 - accuracy: 0.1000 - val_loss: 13.7243 - val_accuracy: 0.1000\n",
      "Epoch 5/25\n",
      "1500/1500 [==============================] - 3s 2ms/step - loss: 13.7244 - accuracy: 0.1000 - val_loss: 13.7243 - val_accuracy: 0.1000\n",
      "Epoch 6/25\n",
      "1500/1500 [==============================] - 3s 2ms/step - loss: 13.7244 - accuracy: 0.1000 - val_loss: 13.7243 - val_accuracy: 0.1000\n",
      "Epoch 7/25\n",
      "1500/1500 [==============================] - 3s 2ms/step - loss: 13.7244 - accuracy: 0.1000 - val_loss: 13.7243 - val_accuracy: 0.1000\n",
      "Epoch 8/25\n",
      "1500/1500 [==============================] - 3s 2ms/step - loss: 13.7244 - accuracy: 0.1000 - val_loss: 13.7243 - val_accuracy: 0.1000\n",
      "Epoch 9/25\n",
      "1500/1500 [==============================] - 2s 2ms/step - loss: 13.7244 - accuracy: 0.1000 - val_loss: 13.7243 - val_accuracy: 0.1000\n",
      "Epoch 10/25\n",
      "1500/1500 [==============================] - 2s 1ms/step - loss: 13.7244 - accuracy: 0.1000 - val_loss: 13.7243 - val_accuracy: 0.1000\n",
      "Epoch 11/25\n",
      "1500/1500 [==============================] - 3s 2ms/step - loss: 13.7244 - accuracy: 0.1000 - val_loss: 13.7243 - val_accuracy: 0.1000\n",
      "Epoch 12/25\n",
      "1500/1500 [==============================] - 2s 2ms/step - loss: 13.7244 - accuracy: 0.1000 - val_loss: 13.7243 - val_accuracy: 0.1000\n",
      "Epoch 13/25\n",
      "1500/1500 [==============================] - 3s 2ms/step - loss: 13.7244 - accuracy: 0.1000 - val_loss: 13.7243 - val_accuracy: 0.1000\n",
      "Epoch 14/25\n",
      "1500/1500 [==============================] - 3s 2ms/step - loss: 13.7244 - accuracy: 0.1000 - val_loss: 13.7243 - val_accuracy: 0.1000\n",
      "Epoch 15/25\n",
      "1500/1500 [==============================] - 3s 2ms/step - loss: 13.7244 - accuracy: 0.1000 - val_loss: 13.7243 - val_accuracy: 0.1000\n",
      "Epoch 16/25\n",
      "1500/1500 [==============================] - 3s 2ms/step - loss: 13.7244 - accuracy: 0.1000 - val_loss: 13.7243 - val_accuracy: 0.1000\n",
      "Epoch 17/25\n",
      "1500/1500 [==============================] - 4s 2ms/step - loss: 13.7244 - accuracy: 0.1000 - val_loss: 13.7243 - val_accuracy: 0.1000\n",
      "Epoch 18/25\n",
      "1500/1500 [==============================] - 2s 1ms/step - loss: 13.7244 - accuracy: 0.1000 - val_loss: 13.7243 - val_accuracy: 0.1000\n",
      "Epoch 19/25\n",
      "1500/1500 [==============================] - 2s 2ms/step - loss: 13.7244 - accuracy: 0.1000 - val_loss: 13.7243 - val_accuracy: 0.1000\n",
      "Epoch 20/25\n",
      "1500/1500 [==============================] - 2s 2ms/step - loss: 13.7244 - accuracy: 0.1000 - val_loss: 13.7243 - val_accuracy: 0.1000\n",
      "Epoch 21/25\n",
      "1500/1500 [==============================] - 2s 1ms/step - loss: 13.7244 - accuracy: 0.1000 - val_loss: 13.7243 - val_accuracy: 0.1000\n",
      "Epoch 22/25\n",
      "1500/1500 [==============================] - 3s 2ms/step - loss: 13.7244 - accuracy: 0.1000 - val_loss: 13.7243 - val_accuracy: 0.1000\n",
      "Epoch 23/25\n",
      "1500/1500 [==============================] - 3s 2ms/step - loss: 13.7244 - accuracy: 0.1000 - val_loss: 13.7243 - val_accuracy: 0.1000\n",
      "Epoch 24/25\n",
      "1500/1500 [==============================] - 3s 2ms/step - loss: 13.7244 - accuracy: 0.1000 - val_loss: 13.7243 - val_accuracy: 0.1000\n",
      "Epoch 25/25\n",
      "1500/1500 [==============================] - 3s 2ms/step - loss: 13.7244 - accuracy: 0.1000 - val_loss: 13.7243 - val_accuracy: 0.1000\n",
      "Epoch 1/5\n",
      "1500/1500 [==============================] - 2s 1ms/step - loss: 13.7244 - accuracy: 0.1000 - val_loss: 13.7243 - val_accuracy: 0.1000\n",
      "Epoch 2/5\n",
      "1500/1500 [==============================] - 2s 1ms/step - loss: 13.7244 - accuracy: 0.1000 - val_loss: 13.7243 - val_accuracy: 0.1000\n",
      "Epoch 3/5\n",
      "1500/1500 [==============================] - 2s 2ms/step - loss: 13.7244 - accuracy: 0.1000 - val_loss: 13.7243 - val_accuracy: 0.1000\n",
      "Epoch 4/5\n",
      "1500/1500 [==============================] - 2s 1ms/step - loss: 13.7244 - accuracy: 0.1000 - val_loss: 13.7243 - val_accuracy: 0.1000\n",
      "Epoch 5/5\n",
      "1500/1500 [==============================] - 3s 2ms/step - loss: 13.7244 - accuracy: 0.1000 - val_loss: 13.7243 - val_accuracy: 0.1000\n",
      "Epoch 1/10\n",
      "1500/1500 [==============================] - 3s 2ms/step - loss: 13.7244 - accuracy: 0.1000 - val_loss: 13.7243 - val_accuracy: 0.1000\n",
      "Epoch 2/10\n",
      "1500/1500 [==============================] - 2s 2ms/step - loss: 13.7244 - accuracy: 0.1000 - val_loss: 13.7243 - val_accuracy: 0.1000\n",
      "Epoch 3/10\n",
      "1500/1500 [==============================] - 3s 2ms/step - loss: 13.7244 - accuracy: 0.1000 - val_loss: 13.7243 - val_accuracy: 0.1000\n",
      "Epoch 4/10\n",
      "1500/1500 [==============================] - 2s 2ms/step - loss: 13.7244 - accuracy: 0.1000 - val_loss: 13.7243 - val_accuracy: 0.1000\n",
      "Epoch 5/10\n",
      "1500/1500 [==============================] - 2s 1ms/step - loss: 13.7244 - accuracy: 0.1000 - val_loss: 13.7243 - val_accuracy: 0.1000\n",
      "Epoch 6/10\n",
      "1500/1500 [==============================] - 1s 852us/step - loss: 13.7244 - accuracy: 0.1000 - val_loss: 13.7243 - val_accuracy: 0.1000\n",
      "Epoch 7/10\n",
      "1500/1500 [==============================] - 2s 2ms/step - loss: 13.7244 - accuracy: 0.1000 - val_loss: 13.7243 - val_accuracy: 0.1000\n",
      "Epoch 8/10\n",
      "1500/1500 [==============================] - 2s 1ms/step - loss: 13.7244 - accuracy: 0.1000 - val_loss: 13.7243 - val_accuracy: 0.1000\n",
      "Epoch 9/10\n",
      "1500/1500 [==============================] - 3s 2ms/step - loss: 13.7244 - accuracy: 0.1000 - val_loss: 13.7243 - val_accuracy: 0.1000\n",
      "Epoch 10/10\n",
      "1500/1500 [==============================] - 2s 1ms/step - loss: 13.7244 - accuracy: 0.1000 - val_loss: 13.7243 - val_accuracy: 0.1000\n",
      "Epoch 1/25\n",
      "1500/1500 [==============================] - 3s 2ms/step - loss: 13.7244 - accuracy: 0.1000 - val_loss: 13.7243 - val_accuracy: 0.1000\n",
      "Epoch 2/25\n",
      "1500/1500 [==============================] - 1s 981us/step - loss: 13.7244 - accuracy: 0.1000 - val_loss: 13.7243 - val_accuracy: 0.1000\n",
      "Epoch 3/25\n",
      "1500/1500 [==============================] - 2s 1ms/step - loss: 13.7244 - accuracy: 0.1000 - val_loss: 13.7243 - val_accuracy: 0.1000\n",
      "Epoch 4/25\n",
      "1500/1500 [==============================] - 2s 1ms/step - loss: 13.7244 - accuracy: 0.1000 - val_loss: 13.7243 - val_accuracy: 0.1000\n",
      "Epoch 5/25\n",
      "1500/1500 [==============================] - 3s 2ms/step - loss: 13.7244 - accuracy: 0.1000 - val_loss: 13.7243 - val_accuracy: 0.1000\n",
      "Epoch 6/25\n",
      "1500/1500 [==============================] - 3s 2ms/step - loss: 13.7244 - accuracy: 0.1000 - val_loss: 13.7243 - val_accuracy: 0.1000\n",
      "Epoch 7/25\n",
      "1500/1500 [==============================] - 2s 2ms/step - loss: 13.7244 - accuracy: 0.1000 - val_loss: 13.7243 - val_accuracy: 0.1000\n",
      "Epoch 8/25\n",
      "1500/1500 [==============================] - 3s 2ms/step - loss: 13.7244 - accuracy: 0.1000 - val_loss: 13.7243 - val_accuracy: 0.1000\n",
      "Epoch 9/25\n",
      "1500/1500 [==============================] - 2s 1ms/step - loss: 13.7244 - accuracy: 0.1000 - val_loss: 13.7243 - val_accuracy: 0.1000\n",
      "Epoch 10/25\n",
      "1500/1500 [==============================] - 2s 1ms/step - loss: 13.7244 - accuracy: 0.1000 - val_loss: 13.7243 - val_accuracy: 0.1000\n",
      "Epoch 11/25\n",
      "1500/1500 [==============================] - 3s 2ms/step - loss: 13.7244 - accuracy: 0.1000 - val_loss: 13.7243 - val_accuracy: 0.1000\n",
      "Epoch 12/25\n",
      "1500/1500 [==============================] - 1s 952us/step - loss: 13.7244 - accuracy: 0.1000 - val_loss: 13.7243 - val_accuracy: 0.1000\n",
      "Epoch 13/25\n",
      "1500/1500 [==============================] - 3s 2ms/step - loss: 13.7244 - accuracy: 0.1000 - val_loss: 13.7243 - val_accuracy: 0.1000\n",
      "Epoch 14/25\n",
      "1500/1500 [==============================] - 3s 2ms/step - loss: 13.7244 - accuracy: 0.1000 - val_loss: 13.7243 - val_accuracy: 0.1000\n",
      "Epoch 15/25\n",
      "1500/1500 [==============================] - 3s 2ms/step - loss: 13.7244 - accuracy: 0.1000 - val_loss: 13.7243 - val_accuracy: 0.1000\n",
      "Epoch 16/25\n",
      "1500/1500 [==============================] - 3s 2ms/step - loss: 13.7244 - accuracy: 0.1000 - val_loss: 13.7243 - val_accuracy: 0.1000\n",
      "Epoch 17/25\n",
      "1500/1500 [==============================] - 2s 1ms/step - loss: 13.7244 - accuracy: 0.1000 - val_loss: 13.7243 - val_accuracy: 0.1000\n",
      "Epoch 18/25\n",
      "1500/1500 [==============================] - 2s 1ms/step - loss: 13.7244 - accuracy: 0.1000 - val_loss: 13.7243 - val_accuracy: 0.1000\n",
      "Epoch 19/25\n",
      "1500/1500 [==============================] - 3s 2ms/step - loss: 13.7244 - accuracy: 0.1000 - val_loss: 13.7243 - val_accuracy: 0.1000\n",
      "Epoch 20/25\n",
      "1500/1500 [==============================] - 2s 2ms/step - loss: 13.7244 - accuracy: 0.1000 - val_loss: 13.7243 - val_accuracy: 0.1000\n",
      "Epoch 21/25\n",
      "1500/1500 [==============================] - 2s 1ms/step - loss: 13.7244 - accuracy: 0.1000 - val_loss: 13.7243 - val_accuracy: 0.1000\n",
      "Epoch 22/25\n",
      "1500/1500 [==============================] - 2s 1ms/step - loss: 13.7244 - accuracy: 0.1000 - val_loss: 13.7243 - val_accuracy: 0.1000\n",
      "Epoch 23/25\n",
      "1500/1500 [==============================] - 3s 2ms/step - loss: 13.7244 - accuracy: 0.1000 - val_loss: 13.7243 - val_accuracy: 0.1000\n",
      "Epoch 24/25\n",
      "1500/1500 [==============================] - 2s 1ms/step - loss: 13.7244 - accuracy: 0.1000 - val_loss: 13.7243 - val_accuracy: 0.1000\n",
      "Epoch 25/25\n",
      "1500/1500 [==============================] - 3s 2ms/step - loss: 13.7244 - accuracy: 0.1000 - val_loss: 13.7243 - val_accuracy: 0.1000\n",
      "Epoch 1/5\n",
      "1500/1500 [==============================] - 2s 1ms/step - loss: 13.7244 - accuracy: 0.1000 - val_loss: 13.7243 - val_accuracy: 0.1000\n",
      "Epoch 2/5\n",
      "1500/1500 [==============================] - 2s 1ms/step - loss: 13.7244 - accuracy: 0.1000 - val_loss: 13.7243 - val_accuracy: 0.1000\n",
      "Epoch 3/5\n",
      "1500/1500 [==============================] - 1s 837us/step - loss: 13.7244 - accuracy: 0.1000 - val_loss: 13.7243 - val_accuracy: 0.1000\n",
      "Epoch 4/5\n",
      "1500/1500 [==============================] - 2s 1ms/step - loss: 13.7244 - accuracy: 0.1000 - val_loss: 13.7243 - val_accuracy: 0.1000\n",
      "Epoch 5/5\n",
      "1500/1500 [==============================] - 2s 1ms/step - loss: 13.7244 - accuracy: 0.1000 - val_loss: 13.7243 - val_accuracy: 0.1000\n",
      "Epoch 1/10\n",
      "1500/1500 [==============================] - 3s 2ms/step - loss: 13.7244 - accuracy: 0.1000 - val_loss: 13.7243 - val_accuracy: 0.1000\n",
      "Epoch 2/10\n",
      "1500/1500 [==============================] - 2s 2ms/step - loss: 13.7244 - accuracy: 0.1000 - val_loss: 13.7243 - val_accuracy: 0.1000\n",
      "Epoch 3/10\n",
      "1500/1500 [==============================] - 2s 2ms/step - loss: 13.7244 - accuracy: 0.1000 - val_loss: 13.7243 - val_accuracy: 0.1000\n",
      "Epoch 4/10\n",
      "1500/1500 [==============================] - 3s 2ms/step - loss: 13.7244 - accuracy: 0.1000 - val_loss: 13.7243 - val_accuracy: 0.1000\n",
      "Epoch 5/10\n",
      "1500/1500 [==============================] - 2s 1ms/step - loss: 13.7244 - accuracy: 0.1000 - val_loss: 13.7243 - val_accuracy: 0.1000\n",
      "Epoch 6/10\n",
      "1500/1500 [==============================] - 1s 819us/step - loss: 13.7244 - accuracy: 0.1000 - val_loss: 13.7243 - val_accuracy: 0.1000\n",
      "Epoch 7/10\n",
      "1500/1500 [==============================] - 3s 2ms/step - loss: 13.7244 - accuracy: 0.1000 - val_loss: 13.7243 - val_accuracy: 0.1000\n",
      "Epoch 8/10\n",
      "1500/1500 [==============================] - 3s 2ms/step - loss: 13.7244 - accuracy: 0.1000 - val_loss: 13.7243 - val_accuracy: 0.1000\n",
      "Epoch 9/10\n",
      "1500/1500 [==============================] - 3s 2ms/step - loss: 13.7244 - accuracy: 0.1000 - val_loss: 13.7243 - val_accuracy: 0.1000\n",
      "Epoch 10/10\n",
      "1500/1500 [==============================] - 3s 2ms/step - loss: 13.7244 - accuracy: 0.1000 - val_loss: 13.7243 - val_accuracy: 0.1000\n",
      "Epoch 1/25\n",
      "1500/1500 [==============================] - 2s 1ms/step - loss: 13.7244 - accuracy: 0.1000 - val_loss: 13.7243 - val_accuracy: 0.1000\n",
      "Epoch 2/25\n",
      "1500/1500 [==============================] - 2s 1ms/step - loss: 13.7244 - accuracy: 0.1000 - val_loss: 13.7243 - val_accuracy: 0.1000\n",
      "Epoch 3/25\n",
      "1500/1500 [==============================] - 2s 1ms/step - loss: 13.7244 - accuracy: 0.1000 - val_loss: 13.7243 - val_accuracy: 0.1000\n",
      "Epoch 4/25\n",
      "1500/1500 [==============================] - 2s 1ms/step - loss: 13.7244 - accuracy: 0.1000 - val_loss: 13.7243 - val_accuracy: 0.1000\n",
      "Epoch 5/25\n",
      "1500/1500 [==============================] - 3s 2ms/step - loss: 13.7244 - accuracy: 0.1000 - val_loss: 13.7243 - val_accuracy: 0.1000\n",
      "Epoch 6/25\n",
      "1500/1500 [==============================] - 3s 2ms/step - loss: 13.7244 - accuracy: 0.1000 - val_loss: 13.7243 - val_accuracy: 0.1000\n",
      "Epoch 7/25\n",
      "1500/1500 [==============================] - 3s 2ms/step - loss: 13.7244 - accuracy: 0.1000 - val_loss: 13.7243 - val_accuracy: 0.1000\n",
      "Epoch 8/25\n",
      "1500/1500 [==============================] - 3s 2ms/step - loss: 13.7244 - accuracy: 0.1000 - val_loss: 13.7243 - val_accuracy: 0.1000\n",
      "Epoch 9/25\n",
      "1500/1500 [==============================] - 2s 1ms/step - loss: 13.7244 - accuracy: 0.1000 - val_loss: 13.7243 - val_accuracy: 0.1000\n",
      "Epoch 10/25\n",
      "1500/1500 [==============================] - 2s 1ms/step - loss: 13.7244 - accuracy: 0.1000 - val_loss: 13.7243 - val_accuracy: 0.1000\n",
      "Epoch 11/25\n",
      "1500/1500 [==============================] - 2s 1ms/step - loss: 13.7244 - accuracy: 0.1000 - val_loss: 13.7243 - val_accuracy: 0.1000\n",
      "Epoch 12/25\n",
      "1500/1500 [==============================] - 2s 1ms/step - loss: 13.7244 - accuracy: 0.1000 - val_loss: 13.7243 - val_accuracy: 0.1000\n",
      "Epoch 13/25\n",
      "1500/1500 [==============================] - 3s 2ms/step - loss: 13.7244 - accuracy: 0.1000 - val_loss: 13.7243 - val_accuracy: 0.1000\n",
      "Epoch 14/25\n",
      "1500/1500 [==============================] - 2s 1ms/step - loss: 13.7244 - accuracy: 0.1000 - val_loss: 13.7243 - val_accuracy: 0.1000\n",
      "Epoch 15/25\n",
      "1500/1500 [==============================] - 2s 1ms/step - loss: 13.7244 - accuracy: 0.1000 - val_loss: 13.7243 - val_accuracy: 0.1000\n",
      "Epoch 16/25\n",
      "1500/1500 [==============================] - 3s 2ms/step - loss: 13.7244 - accuracy: 0.1000 - val_loss: 13.7243 - val_accuracy: 0.1000\n",
      "Epoch 17/25\n",
      "1500/1500 [==============================] - 3s 2ms/step - loss: 13.7244 - accuracy: 0.1000 - val_loss: 13.7243 - val_accuracy: 0.1000\n",
      "Epoch 18/25\n",
      "1500/1500 [==============================] - 1s 991us/step - loss: 13.7244 - accuracy: 0.1000 - val_loss: 13.7243 - val_accuracy: 0.1000\n",
      "Epoch 19/25\n",
      "1500/1500 [==============================] - 3s 2ms/step - loss: 13.7244 - accuracy: 0.1000 - val_loss: 13.7243 - val_accuracy: 0.1000\n",
      "Epoch 20/25\n",
      "1500/1500 [==============================] - 2s 1ms/step - loss: 13.7244 - accuracy: 0.1000 - val_loss: 13.7243 - val_accuracy: 0.1000\n",
      "Epoch 21/25\n",
      "1500/1500 [==============================] - 3s 2ms/step - loss: 13.7244 - accuracy: 0.1000 - val_loss: 13.7243 - val_accuracy: 0.1000\n",
      "Epoch 22/25\n",
      "1500/1500 [==============================] - 2s 1ms/step - loss: 13.7244 - accuracy: 0.1000 - val_loss: 13.7243 - val_accuracy: 0.1000\n",
      "Epoch 23/25\n",
      "1500/1500 [==============================] - 3s 2ms/step - loss: 13.7244 - accuracy: 0.1000 - val_loss: 13.7243 - val_accuracy: 0.1000\n",
      "Epoch 24/25\n",
      "1500/1500 [==============================] - 2s 2ms/step - loss: 13.7244 - accuracy: 0.1000 - val_loss: 13.7243 - val_accuracy: 0.1000\n",
      "Epoch 25/25\n",
      "1500/1500 [==============================] - 3s 2ms/step - loss: 13.7244 - accuracy: 0.1000 - val_loss: 13.7243 - val_accuracy: 0.1000\n"
     ]
    }
   ],
   "source": [
    "learning_rates = [0.01, 0.001, 0.0001]\n",
    "num_epochs = [5, 10, 25]\n",
    "results = []\n",
    "\n",
    "for learning_rate in learning_rates:\n",
    "    for epochs in num_epochs:\n",
    "      model_tf = build_model(num_features = X_train_mini.shape[1], learning_rate = learning_rate)\n",
    "\n",
    "      history = model_tf.fit(\n",
    "         x = X_train_mini,\n",
    "         y = Y_train_mini,\n",
    "         epochs = epochs,\n",
    "         batch_size = 32,\n",
    "         validation_data = (X_val, Y_val)\n",
    "      )\n",
    "     \n",
    "      weights, bias = model_tf.layers[0].get_weights()\n",
    "\n",
    "      results.append({\n",
    "        \"learning_rate\": learning_rate,\n",
    "        \"epochs\": epochs,\n",
    "        \"loss\": round(history.history[\"loss\"][-1], 4),\n",
    "        \"val_loss\": round(history.history[\"val_loss\"][-1], 4),\n",
    "        \"b\": bias,        \n",
    "        \"w\": weights\n",
    "      })"
   ]
  },
  {
   "cell_type": "code",
   "execution_count": 92,
   "metadata": {},
   "outputs": [
    {
     "name": "stdout",
     "output_type": "stream",
     "text": [
      "Learn Parameters:\n",
      "\tbias: [1.]\n",
      "\tfirst 5 weights: [[1.]\n",
      " [1.]\n",
      " [1.]\n",
      " [1.]\n",
      " [1.]]\n",
      "epochs = 0.01\n",
      "epochs = 5\n",
      "Loss = 13.7244\n",
      "Validation Loss = 13.7243\n",
      "Loss % difference = -0.0007%%\n"
     ]
    }
   ],
   "source": [
    "best_param = min(results, key = lambda n: n[\"val_loss\"])\n",
    "\n",
    "print(f\"Learn Parameters:\\n\\tbias: {best_param['b']}\\n\\tfirst 5 weights: {best_param['w'][:5]}\")\n",
    "print(f\"epochs = {best_param['learning_rate']}\")\n",
    "print(f\"epochs = {best_param['epochs']}\")\n",
    "print(f\"Loss = {best_param['loss']:.4f}\")\n",
    "print(f\"Validation Loss = {best_param['val_loss']:.4f}\")\n",
    "print(f\"Loss % difference = {(best_param['val_loss'] / best_param['loss'] - 1):.4%}%\")"
   ]
  },
  {
   "cell_type": "markdown",
   "metadata": {},
   "source": [
    "tf_model performs about the same as baseline model."
   ]
  },
  {
   "cell_type": "markdown",
   "metadata": {},
   "source": [
    "---\n",
    "### Step 6: Evaluation and Generalization"
   ]
  },
  {
   "cell_type": "markdown",
   "metadata": {},
   "source": [
    "\n",
    "Now that you've determined the optimal set of hyperparameters, it's time to evaluate your optimized model on the test data to gauge its performance in real-world scenarios, commonly known as inference."
   ]
  },
  {
   "cell_type": "markdown",
   "metadata": {},
   "source": [
    "### <span style=\"color:chocolate\">Exercise 11:</span> Computing accuracy (10 points)"
   ]
  },
  {
   "cell_type": "markdown",
   "metadata": {},
   "source": [
    "1. Calculate aggregate accuracy on both mini train and test datasets using a probability threshold of 0.5. Hint: You can utilize the <span style=\"color:chocolate\">model.evaluate()</span> method provided by tf.keras. Note: Aggregate accuracy measures the overall correctness of the model across all classes in the dataset;\n",
    "\n",
    "2. Does the model demonstrate strong aggregate generalization capabilities? Provide an explanation based on your accuracy observations."
   ]
  },
  {
   "cell_type": "code",
   "execution_count": 90,
   "metadata": {},
   "outputs": [
    {
     "name": "stdout",
     "output_type": "stream",
     "text": [
      "Epoch 1/5\n",
      "1500/1500 [==============================] - 2s 1ms/step - loss: 13.7244 - accuracy: 0.1000 - val_loss: 13.7243 - val_accuracy: 0.1000\n",
      "Epoch 2/5\n",
      "1500/1500 [==============================] - 2s 1ms/step - loss: 13.7244 - accuracy: 0.1000 - val_loss: 13.7243 - val_accuracy: 0.1000\n",
      "Epoch 3/5\n",
      "1500/1500 [==============================] - 2s 1ms/step - loss: 13.7244 - accuracy: 0.1000 - val_loss: 13.7243 - val_accuracy: 0.1000\n",
      "Epoch 4/5\n",
      "1500/1500 [==============================] - 2s 2ms/step - loss: 13.7244 - accuracy: 0.1000 - val_loss: 13.7243 - val_accuracy: 0.1000\n",
      "Epoch 5/5\n",
      "1500/1500 [==============================] - 2s 1ms/step - loss: 13.7244 - accuracy: 0.1000 - val_loss: 13.7243 - val_accuracy: 0.1000\n",
      "1500/1500 [==============================] - 2s 1ms/step - loss: 13.7244 - accuracy: 0.1000\n",
      "Aggregate accuracy on mini train dataset: 0.1000\n",
      "375/375 [==============================] - 1s 2ms/step - loss: 13.7243 - accuracy: 0.1000\n",
      "Aggregate accuracy on validation dataset: 0.1000\n"
     ]
    }
   ],
   "source": [
    "# YOUR CODE HERE\n",
    "model_tf = build_model(num_features = X_train_mini.shape[1], learning_rate = 0.01)\n",
    "\n",
    "history = model_tf.fit(\n",
    "    x = X_train_mini,\n",
    "    y = Y_train_mini,\n",
    "    epochs = 5,\n",
    "    batch_size = 32,\n",
    "    validation_data=(X_val, Y_val)\n",
    ")\n",
    "\n",
    "# Evaluate the model on the mini train dataset\n",
    "train_loss, train_accuracy = model_tf.evaluate(X_train_mini, Y_train_mini)\n",
    "print(f'Aggregate accuracy on mini train dataset: {train_accuracy:.4f}')\n",
    "\n",
    "# Evaluate the model on the validation dataset\n",
    "val_loss, val_accuracy = model_tf.evaluate(X_val, Y_val)\n",
    "print(f'Aggregate accuracy on validation dataset: {val_accuracy:.4f}')"
   ]
  },
  {
   "cell_type": "markdown",
   "metadata": {},
   "source": [
    "### <span style=\"color:chocolate\">Exercise 12:</span> Fairness evaluation (10 points)"
   ]
  },
  {
   "cell_type": "markdown",
   "metadata": {},
   "source": [
    "1. Generate and visualize the confusion matrix on the test dataset using a probability threshold of 0.5. Additionally, print the True Positives (TP), False Negatives (FN), False Positives (FP), and True Negatives (TN). Hint: you can utilize the <span style=\"color:chocolate\">model.predict()</span> method available in tf.keras, and then the <span style=\"color:chocolate\">confusion_matrix()</span>, <span style=\"color:chocolate\">ConfusionMatrixDisplay()</span> methods available in sklearn.metrics;\n",
    "\n",
    "2. Compute subgroup accuracy, separately for the sneaker and non-sneaker classes, on the test dataset using a probability threshold of 0.5. Reflect on any observed accuracy differences (potential lack of fairness) between the two classes.\n",
    "\n",
    "3. Does the model demonstrate strong subgroup generalization capabilities? Provide an explanation based on your accuracy observations."
   ]
  },
  {
   "cell_type": "code",
   "execution_count": 98,
   "metadata": {},
   "outputs": [
    {
     "name": "stdout",
     "output_type": "stream",
     "text": [
      "313/313 [==============================] - 0s 2ms/step\n"
     ]
    },
    {
     "data": {
      "text/plain": [
       "<Figure size 800x600 with 0 Axes>"
      ]
     },
     "metadata": {},
     "output_type": "display_data"
    },
    {
     "data": {
      "image/png": "[encoded data removed]",
      "text/plain": [
       "<Figure size 640x480 with 2 Axes>"
      ]
     },
     "metadata": {},
     "output_type": "display_data"
    },
    {
     "name": "stdout",
     "output_type": "stream",
     "text": [
      "True Positives: 1000\n",
      "False Negatives: 0\n",
      "False Positives: 9000\n",
      "True Negatives: 0\n"
     ]
    }
   ],
   "source": [
    "# YOUR CODE HERE\n",
    "from sklearn.metrics import confusion_matrix, ConfusionMatrixDisplay\n",
    "\n",
    "test_probabilities = model_tf.predict(X_test)\n",
    "test_predictions = (test_probabilities > 0.5).astype(int)\n",
    "\n",
    "cm = confusion_matrix(Y_test, test_predictions)\n",
    "cm_display = ConfusionMatrixDisplay(confusion_matrix = cm)\n",
    "\n",
    "plt.figure(figsize=(8, 6))\n",
    "cm_display.plot()\n",
    "plt.title('Confusion Matrix')\n",
    "plt.show()\n",
    "\n",
    "TN, FP, FN, TP = cm.ravel()\n",
    "print(f'True Positives: {TP}')\n",
    "print(f'False Negatives: {FN}')\n",
    "print(f'False Positives: {FP}')\n",
    "print(f'True Negatives: {TN}')"
   ]
  },
  {
   "cell_type": "markdown",
   "metadata": {},
   "source": [
    "----\n",
    "### <span style=\"color:chocolate\">Bonus question</span> (20 points)"
   ]
  },
  {
   "cell_type": "markdown",
   "metadata": {},
   "source": [
    "Is it possible to enhance the prediction accuracy for the sneaker class by performing the following steps?\n",
    "\n",
    "1. Implement data balancing techniques, such as oversampling or undersampling, to equalize the representation of both classes.\n",
    "2. After balancing the data, retrain the model on the balanced dataset.\n",
    "3. Evaluate the model's performance, particularly focusing on the accuracy achieved for the sneaker class.\n",
    "\n",
    "Note: provide a separate notebook for the Bonus exercise. Name it ``04 Logistic Regression with Tensorflow_bonus``."
   ]
  }
 ],
 "metadata": {
  "colab": {
   "collapsed_sections": [
    "copyright",
    "LOcjWKAljbqr",
    "bCBT54r7k2YL",
    "loqjuOZFlEdt"
   ],
   "name": "04 Logistic Regression with Tensorflow.ipynb",
   "private_outputs": true,
   "provenance": [],
   "toc_visible": true
  },
  "kernelspec": {
   "display_name": "Python 3",
   "language": "python",
   "name": "python3"
  },
  "language_info": {
   "codemirror_mode": {
    "name": "ipython",
    "version": 3
   },
   "file_extension": ".py",
   "mimetype": "text/x-python",
   "name": "python",
   "nbconvert_exporter": "python",
   "pygments_lexer": "ipython3",
   "version": "3.10.0"
  }
 },
 "nbformat": 4,
 "nbformat_minor": 4
}
